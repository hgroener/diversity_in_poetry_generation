{
 "cells": [
  {
   "cell_type": "code",
   "execution_count": 1,
   "id": "9ef9a94e-05d2-49eb-8fed-ee0540e97e34",
   "metadata": {},
   "outputs": [],
   "source": [
    "import pandas as pd"
   ]
  },
  {
   "cell_type": "code",
   "execution_count": 2,
   "id": "3114d714-eb52-48ee-b223-b6b34c40bd66",
   "metadata": {},
   "outputs": [],
   "source": [
    "import itertools"
   ]
  },
  {
   "cell_type": "code",
   "execution_count": 3,
   "id": "50b59773-ad78-49a2-b166-96fa7e2fe842",
   "metadata": {},
   "outputs": [],
   "source": [
    "import numpy as np "
   ]
  },
  {
   "cell_type": "code",
   "execution_count": 4,
   "id": "c50d97b6-6fdf-4c81-a3ca-6f53bc0fae84",
   "metadata": {},
   "outputs": [],
   "source": [
    "df_de = pd.read_json('dataset/QuaTrain-de.json', lines=True)"
   ]
  },
  {
   "cell_type": "code",
   "execution_count": 25,
   "id": "7a7c33f2-4f3c-4704-a013-152c282b3664",
   "metadata": {},
   "outputs": [
    {
     "data": {
      "text/html": [
       "<div>\n",
       "<style scoped>\n",
       "    .dataframe tbody tr th:only-of-type {\n",
       "        vertical-align: middle;\n",
       "    }\n",
       "\n",
       "    .dataframe tbody tr th {\n",
       "        vertical-align: top;\n",
       "    }\n",
       "\n",
       "    .dataframe thead th {\n",
       "        text-align: right;\n",
       "    }\n",
       "</style>\n",
       "<table border=\"1\" class=\"dataframe\">\n",
       "  <thead>\n",
       "    <tr style=\"text-align: right;\">\n",
       "      <th></th>\n",
       "      <th>text</th>\n",
       "      <th>language</th>\n",
       "      <th>rhyme</th>\n",
       "      <th>meter</th>\n",
       "      <th>alliteration</th>\n",
       "    </tr>\n",
       "  </thead>\n",
       "  <tbody>\n",
       "    <tr>\n",
       "      <th>0</th>\n",
       "      <td>[Da jener Elbe-Schwan der Gottheit Ruhm, Da Br...</td>\n",
       "      <td>de</td>\n",
       "      <td>ABCD</td>\n",
       "      <td>iambus</td>\n",
       "      <td>0.040973</td>\n",
       "    </tr>\n",
       "    <tr>\n",
       "      <th>1</th>\n",
       "      <td>[Da Brokkes Saitenspiel, so oft das Herze, Das...</td>\n",
       "      <td>de</td>\n",
       "      <td>ABCD</td>\n",
       "      <td>iambus</td>\n",
       "      <td>0.054848</td>\n",
       "    </tr>\n",
       "    <tr>\n",
       "      <th>2</th>\n",
       "      <td>[gen, der belebt Feld, Berg und Thal;, Der erw...</td>\n",
       "      <td>de</td>\n",
       "      <td>ABCD</td>\n",
       "      <td>iambus</td>\n",
       "      <td>0.023747</td>\n",
       "    </tr>\n",
       "    <tr>\n",
       "      <th>3</th>\n",
       "      <td>[Ueber die erhabnen Berge, und erwekt das Feld...</td>\n",
       "      <td>de</td>\n",
       "      <td>ABCD</td>\n",
       "      <td>alexandrine</td>\n",
       "      <td>0.044927</td>\n",
       "    </tr>\n",
       "    <tr>\n",
       "      <th>4</th>\n",
       "      <td>[Als mit holden Dünsten füllet; da was aus den...</td>\n",
       "      <td>de</td>\n",
       "      <td>ABCD</td>\n",
       "      <td>other</td>\n",
       "      <td>0.084108</td>\n",
       "    </tr>\n",
       "  </tbody>\n",
       "</table>\n",
       "</div>"
      ],
      "text/plain": [
       "                                                text language rhyme  \\\n",
       "0  [Da jener Elbe-Schwan der Gottheit Ruhm, Da Br...       de  ABCD   \n",
       "1  [Da Brokkes Saitenspiel, so oft das Herze, Das...       de  ABCD   \n",
       "2  [gen, der belebt Feld, Berg und Thal;, Der erw...       de  ABCD   \n",
       "3  [Ueber die erhabnen Berge, und erwekt das Feld...       de  ABCD   \n",
       "4  [Als mit holden Dünsten füllet; da was aus den...       de  ABCD   \n",
       "\n",
       "         meter  alliteration  \n",
       "0       iambus      0.040973  \n",
       "1       iambus      0.054848  \n",
       "2       iambus      0.023747  \n",
       "3  alexandrine      0.044927  \n",
       "4        other      0.084108  "
      ]
     },
     "execution_count": 25,
     "metadata": {},
     "output_type": "execute_result"
    }
   ],
   "source": [
    "df_de.head()"
   ]
  },
  {
   "cell_type": "code",
   "execution_count": 6,
   "id": "82dbf78c-6151-49fe-ab1e-2cf5f348b981",
   "metadata": {},
   "outputs": [
    {
     "name": "stdout",
     "output_type": "stream",
     "text": [
      "['Da jener Elbe-Schwan der Gottheit Ruhm', 'Da Brokkes Saitenspiel, so oft das Herze', 'Das jederman gefällt, in heiligs Feuer', 'Wie kan beim hellen Thon, ein heisch und'] \n",
      "\n",
      "['Da Brokkes Saitenspiel, so oft das Herze', 'Das jederman gefällt, in heiligs Feuer', 'Wie kan beim hellen Thon, ein heisch und', 'Bei einem Schwang-Gesang ein schnatternd'] \n",
      "\n",
      "['gen, der belebt Feld, Berg und Thal;', 'Der erwärmet die Natur, durch', 'Und erhizt bei dem was lebt, ein', 'Eure Anmuth nährt die Triebe,'] \n",
      "\n",
      "['Ueber die erhabnen Berge, und erwekt das Feld', 'Welch ein Anblik voller Lust! rühret die erwekten', 'Man sieht in den feuchten Thau, lauter Seegens', 'Auf! entschlafne Erdenbürger! auf ermuntert eur'] \n",
      "\n",
      "['Als mit holden Dünsten füllet; da was aus den', 'Wenn die sanften Westen säuseln, wie ein lieblich', 'Und uns den Geruch erquikt. O! ein angenehmes', 'Das die Lebens Geister stärkt, kreucht unsichtbar'] \n",
      "\n",
      "['Wenn die sanften Westen säuseln, wie ein lieblich', 'Und uns den Geruch erquikt. O! ein angenehmes', 'Das die Lebens Geister stärkt, kreucht unsichtbar', 'Zum Gehirn den Siz der Seelen, daß dies geistig'] \n",
      "\n",
      "['Und uns den Geruch erquikt. O! ein angenehmes', 'Das die Lebens Geister stärkt, kreucht unsichtbar', 'Zum Gehirn den Siz der Seelen, daß dies geistig', 'Und durch die erregten Nerven uns zur Munterkeit'] \n",
      "\n",
      "['Das die Lebens Geister stärkt, kreucht unsichtbar', 'Zum Gehirn den Siz der Seelen, daß dies geistig', 'Und durch die erregten Nerven uns zur Munterkeit', 'Alles lacht in der Natur, wenn die Sonne höher'] \n",
      "\n",
      "['Zum Gehirn den Siz der Seelen, daß dies geistig', 'Und durch die erregten Nerven uns zur Munterkeit', 'Alles lacht in der Natur, wenn die Sonne höher', 'Und sich in vollkomnen Glanz an den Firmamente'] \n",
      "\n",
      "['Hie brummt eine Käfer Menge da saußt bei der', 'Mit der süssen Last beschwert; eine Menge kleiner', 'Dieses tößende Geräusch kan uns zum Vergnügen', 'Wenn wir bei den Sommerszeiten, die belebte'] \n",
      "\n",
      "['Mit der süssen Last beschwert; eine Menge kleiner', 'Dieses tößende Geräusch kan uns zum Vergnügen', 'Wenn wir bei den Sommerszeiten, die belebte', 'Auf ihr freudiges Bewegen ein betrachtend Auge'] \n",
      "\n",
      "['Allda lagern sie sich stille in den sanften Schatten', 'Rupfen die noch frischen Keimen, bis sie wie von', 'Ein sanft rieselnd Murmeln hörn; alsdenn werden', 'Das da im beschilften Bach vor sie Labsalsströme'] \n",
      "\n",
      "['Rupfen die noch frischen Keimen, bis sie wie von', 'Ein sanft rieselnd Murmeln hörn; alsdenn werden', 'Das da im beschilften Bach vor sie Labsalsströme', 'Jhre lechzende Begierde schlurft das Wasser, wird'] \n",
      "\n",
      "['Bis etwan ein Mükkenstich oder Heer von blinden', 'Sie in ihrer Ruhe stöhret, da sie denn mit ihren', 'Die sonst stillen Weiden schrekken und die schwüle', 'Schwärmmt das stachlicht Mükken-Heer auf sie'] \n",
      "\n",
      "['Sie in ihrer Ruhe stöhret, da sie denn mit ihren', 'Die sonst stillen Weiden schrekken und die schwüle', 'Schwärmmt das stachlicht Mükken-Heer auf sie', 'So bewegt sich Kopf und Schwanz diese Feinde'] \n",
      "\n"
     ]
    }
   ],
   "source": [
    "for l in list(df_de[\"text\"])[:15]:\n",
    "    print (l, \"\\n\")"
   ]
  },
  {
   "cell_type": "code",
   "execution_count": 7,
   "id": "e120cf20-7981-4da2-9e03-36e3cff8414f",
   "metadata": {},
   "outputs": [],
   "source": [
    "def get_unique_quatrains(df):\n",
    "    last_t = \"\"\n",
    "    overlapping = []\n",
    "    unique_rows = []\n",
    "    for i, row in df.iterrows():\n",
    "        if list(row[\"text\"])[0] == last_t:\n",
    "            overlapping.append(row)\n",
    "        elif len(overlapping) == 0:\n",
    "            overlapping = [row]\n",
    "        else:\n",
    "            unique_rows.append(overlapping[0])\n",
    "            overlapping = [row]\n",
    "        last_t = list(row[\"text\"])[1]\n",
    "    unique_rows.append(overlapping[0]) \n",
    "    #print(unique_rows)   \n",
    "    df_unique = pd.DataFrame(unique_rows)\n",
    "    return(df_unique)"
   ]
  },
  {
   "cell_type": "code",
   "execution_count": 8,
   "id": "37a224ba-1ac9-44db-9fab-bfc19a2d1c10",
   "metadata": {},
   "outputs": [],
   "source": [
    "df_de_unique = get_unique_quatrains(df_de)"
   ]
  },
  {
   "cell_type": "code",
   "execution_count": 9,
   "id": "32ef954e-02b5-48b9-8ad9-00edf16fb224",
   "metadata": {},
   "outputs": [
    {
     "data": {
      "text/html": [
       "<div>\n",
       "<style scoped>\n",
       "    .dataframe tbody tr th:only-of-type {\n",
       "        vertical-align: middle;\n",
       "    }\n",
       "\n",
       "    .dataframe tbody tr th {\n",
       "        vertical-align: top;\n",
       "    }\n",
       "\n",
       "    .dataframe thead th {\n",
       "        text-align: right;\n",
       "    }\n",
       "</style>\n",
       "<table border=\"1\" class=\"dataframe\">\n",
       "  <thead>\n",
       "    <tr style=\"text-align: right;\">\n",
       "      <th></th>\n",
       "      <th>text</th>\n",
       "      <th>language</th>\n",
       "      <th>rhyme</th>\n",
       "      <th>meter</th>\n",
       "      <th>alliteration</th>\n",
       "    </tr>\n",
       "  </thead>\n",
       "  <tbody>\n",
       "    <tr>\n",
       "      <th>0</th>\n",
       "      <td>[Da jener Elbe-Schwan der Gottheit Ruhm, Da Br...</td>\n",
       "      <td>de</td>\n",
       "      <td>ABCD</td>\n",
       "      <td>iambus</td>\n",
       "      <td>0.040973</td>\n",
       "    </tr>\n",
       "    <tr>\n",
       "      <th>2</th>\n",
       "      <td>[gen, der belebt Feld, Berg und Thal;, Der erw...</td>\n",
       "      <td>de</td>\n",
       "      <td>ABCD</td>\n",
       "      <td>iambus</td>\n",
       "      <td>0.023747</td>\n",
       "    </tr>\n",
       "    <tr>\n",
       "      <th>3</th>\n",
       "      <td>[Ueber die erhabnen Berge, und erwekt das Feld...</td>\n",
       "      <td>de</td>\n",
       "      <td>ABCD</td>\n",
       "      <td>alexandrine</td>\n",
       "      <td>0.044927</td>\n",
       "    </tr>\n",
       "    <tr>\n",
       "      <th>4</th>\n",
       "      <td>[Als mit holden Dünsten füllet; da was aus den...</td>\n",
       "      <td>de</td>\n",
       "      <td>ABCD</td>\n",
       "      <td>other</td>\n",
       "      <td>0.084108</td>\n",
       "    </tr>\n",
       "    <tr>\n",
       "      <th>9</th>\n",
       "      <td>[Hie brummt eine Käfer Menge da saußt bei der,...</td>\n",
       "      <td>de</td>\n",
       "      <td>ABCD</td>\n",
       "      <td>iambus</td>\n",
       "      <td>0.044130</td>\n",
       "    </tr>\n",
       "  </tbody>\n",
       "</table>\n",
       "</div>"
      ],
      "text/plain": [
       "                                                text language rhyme  \\\n",
       "0  [Da jener Elbe-Schwan der Gottheit Ruhm, Da Br...       de  ABCD   \n",
       "2  [gen, der belebt Feld, Berg und Thal;, Der erw...       de  ABCD   \n",
       "3  [Ueber die erhabnen Berge, und erwekt das Feld...       de  ABCD   \n",
       "4  [Als mit holden Dünsten füllet; da was aus den...       de  ABCD   \n",
       "9  [Hie brummt eine Käfer Menge da saußt bei der,...       de  ABCD   \n",
       "\n",
       "         meter  alliteration  \n",
       "0       iambus      0.040973  \n",
       "2       iambus      0.023747  \n",
       "3  alexandrine      0.044927  \n",
       "4        other      0.084108  \n",
       "9       iambus      0.044130  "
      ]
     },
     "execution_count": 9,
     "metadata": {},
     "output_type": "execute_result"
    }
   ],
   "source": [
    "df_de_unique.head()"
   ]
  },
  {
   "cell_type": "code",
   "execution_count": 10,
   "id": "edcecf21-c132-4439-b7ec-6b26661ab523",
   "metadata": {},
   "outputs": [
    {
     "data": {
      "text/plain": [
       "1483685"
      ]
     },
     "execution_count": 10,
     "metadata": {},
     "output_type": "execute_result"
    }
   ],
   "source": [
    "len(df_de)"
   ]
  },
  {
   "cell_type": "code",
   "execution_count": 11,
   "id": "548d96da-e354-4624-80dc-6af827bfee61",
   "metadata": {},
   "outputs": [
    {
     "data": {
      "text/plain": [
       "363698"
      ]
     },
     "execution_count": 11,
     "metadata": {},
     "output_type": "execute_result"
    }
   ],
   "source": [
    "len(df_de_unique)"
   ]
  },
  {
   "cell_type": "code",
   "execution_count": 12,
   "id": "75bd92a1-f8f0-478c-bb12-35bf21cac4d6",
   "metadata": {},
   "outputs": [
    {
     "name": "stdout",
     "output_type": "stream",
     "text": [
      "There are lists with common elements.\n"
     ]
    }
   ],
   "source": [
    "def check_common_elements(lists):\n",
    "    for i in range(len(lists)):\n",
    "        for j in range(i + 1, len(lists)):\n",
    "            if any(elem in lists[i] for elem in lists[j]):\n",
    "                return True\n",
    "    return False\n",
    "\n",
    "# Test the function\n",
    "lists = [[1, 2, 3], [4, 5, 6], [7, 8, 9], [8]]\n",
    "result = check_common_elements(lists)\n",
    "if result:\n",
    "    print(\"There are lists with common elements.\")\n",
    "else:\n",
    "    print(\"No lists share any elements.\")"
   ]
  },
  {
   "cell_type": "code",
   "execution_count": 13,
   "id": "c92aff09-59f8-4169-bc62-2d193f919e80",
   "metadata": {},
   "outputs": [
    {
     "name": "stdout",
     "output_type": "stream",
     "text": [
      "The following lists share elements:\n",
      "[1, 2, 3] and [3, 10]: [3], index: 0 and 3\n",
      "[1, 2, 3] and [1, 7, 8, 3]: [1, 3], index: 0 and 4\n",
      "[7, 8, 9] and [1, 7, 8, 3]: [7, 8], index: 2 and 4\n",
      "[3, 10] and [1, 7, 8, 3]: [3], index: 3 and 4\n"
     ]
    }
   ],
   "source": [
    "def find_common_elements(lists):\n",
    "    common_elements = []\n",
    "    for i in range(len(lists)):\n",
    "        for j in range(i + 1, len(lists)):\n",
    "            common = [elem for elem in lists[i] if elem in lists[j]]\n",
    "            if common:\n",
    "                common_elements.append((lists[i], lists[j], i, j, common))\n",
    "    return common_elements\n",
    "\n",
    "# Test the function\n",
    "lists = [[1, 2, 3], [4, 5, 6], [7, 8, 9], [3, 10], [1, 7, 8, 3]]\n",
    "common_lists = find_common_elements(lists)\n",
    "\n",
    "if common_lists:\n",
    "    print(\"The following lists share elements:\")\n",
    "    for common_list in common_lists:\n",
    "        list1, list2, i, j, common_elements = common_list\n",
    "        print(f\"{list1} and {list2}: {common_elements}, index: {i} and {j}\")\n",
    "else:\n",
    "    print(\"No lists share any elements.\")"
   ]
  },
  {
   "cell_type": "code",
   "execution_count": 27,
   "id": "f9593622-de9b-45f0-91ee-8f0c5224277a",
   "metadata": {},
   "outputs": [
    {
     "ename": "KeyboardInterrupt",
     "evalue": "",
     "output_type": "error",
     "traceback": [
      "\u001b[1;31m---------------------------------------------------------------------------\u001b[0m",
      "\u001b[1;31mKeyboardInterrupt\u001b[0m                         Traceback (most recent call last)",
      "Cell \u001b[1;32mIn[27], line 1\u001b[0m\n\u001b[1;32m----> 1\u001b[0m common_lists \u001b[38;5;241m=\u001b[39m \u001b[43mfind_common_elements\u001b[49m\u001b[43m(\u001b[49m\u001b[38;5;28;43mlist\u001b[39;49m\u001b[43m(\u001b[49m\u001b[43mdf_de_unique\u001b[49m\u001b[43m[\u001b[49m\u001b[38;5;124;43m\"\u001b[39;49m\u001b[38;5;124;43mtext\u001b[39;49m\u001b[38;5;124;43m\"\u001b[39;49m\u001b[43m]\u001b[49m\u001b[43m)\u001b[49m\u001b[43m)\u001b[49m\n\u001b[0;32m      2\u001b[0m common_lists \u001b[38;5;241m=\u001b[39m \u001b[38;5;28msorted\u001b[39m(common_lists, key\u001b[38;5;241m=\u001b[39m\u001b[38;5;28;01mlambda\u001b[39;00m k: \u001b[38;5;28mlen\u001b[39m(k[\u001b[38;5;241m4\u001b[39m]), reverse\u001b[38;5;241m=\u001b[39m\u001b[38;5;28;01mTrue\u001b[39;00m)\n\u001b[0;32m      3\u001b[0m \u001b[38;5;28;01mif\u001b[39;00m common_lists:\n",
      "Cell \u001b[1;32mIn[21], line 5\u001b[0m, in \u001b[0;36mfind_common_elements\u001b[1;34m(lists)\u001b[0m\n\u001b[0;32m      3\u001b[0m \u001b[38;5;28;01mfor\u001b[39;00m i \u001b[38;5;129;01min\u001b[39;00m \u001b[38;5;28mrange\u001b[39m(\u001b[38;5;28mlen\u001b[39m(lists)):\n\u001b[0;32m      4\u001b[0m     \u001b[38;5;28;01mfor\u001b[39;00m j \u001b[38;5;129;01min\u001b[39;00m \u001b[38;5;28mrange\u001b[39m(i \u001b[38;5;241m+\u001b[39m \u001b[38;5;241m1\u001b[39m, \u001b[38;5;28mlen\u001b[39m(lists)):\n\u001b[1;32m----> 5\u001b[0m         common \u001b[38;5;241m=\u001b[39m [elem \u001b[38;5;28;01mfor\u001b[39;00m elem \u001b[38;5;129;01min\u001b[39;00m lists[i] \u001b[38;5;28;01mif\u001b[39;00m elem \u001b[38;5;129;01min\u001b[39;00m lists[j]]\n\u001b[0;32m      6\u001b[0m         \u001b[38;5;28;01mif\u001b[39;00m common:\n\u001b[0;32m      7\u001b[0m             common_elements\u001b[38;5;241m.\u001b[39mappend((lists[i], lists[j], i, j, common))\n",
      "Cell \u001b[1;32mIn[21], line 5\u001b[0m, in \u001b[0;36m<listcomp>\u001b[1;34m(.0)\u001b[0m\n\u001b[0;32m      3\u001b[0m \u001b[38;5;28;01mfor\u001b[39;00m i \u001b[38;5;129;01min\u001b[39;00m \u001b[38;5;28mrange\u001b[39m(\u001b[38;5;28mlen\u001b[39m(lists)):\n\u001b[0;32m      4\u001b[0m     \u001b[38;5;28;01mfor\u001b[39;00m j \u001b[38;5;129;01min\u001b[39;00m \u001b[38;5;28mrange\u001b[39m(i \u001b[38;5;241m+\u001b[39m \u001b[38;5;241m1\u001b[39m, \u001b[38;5;28mlen\u001b[39m(lists)):\n\u001b[1;32m----> 5\u001b[0m         common \u001b[38;5;241m=\u001b[39m [elem \u001b[38;5;28;01mfor\u001b[39;00m elem \u001b[38;5;129;01min\u001b[39;00m lists[i] \u001b[38;5;28;01mif\u001b[39;00m elem \u001b[38;5;129;01min\u001b[39;00m \u001b[43mlists\u001b[49m[j]]\n\u001b[0;32m      6\u001b[0m         \u001b[38;5;28;01mif\u001b[39;00m common:\n\u001b[0;32m      7\u001b[0m             common_elements\u001b[38;5;241m.\u001b[39mappend((lists[i], lists[j], i, j, common))\n",
      "\u001b[1;31mKeyboardInterrupt\u001b[0m: "
     ]
    }
   ],
   "source": [
    "common_lists = find_common_elements(list(df_de_unique[\"text\"]))\n",
    "common_lists = sorted(common_lists, key=lambda k: len(k[4]), reverse=True)\n",
    "if common_lists:\n",
    "    print(\"The following lists share elements:\")\n",
    "    for common_list in common_lists:\n",
    "        list1, list2, i, j, common_elements = common_list\n",
    "        if not i in to_delete or j in to_delete:\n",
    "            to_delete.append(i)\n",
    "    else:\n",
    "        print(\"No lists share any elements.\")\n",
    "\n",
    "print(to_delete)"
   ]
  },
  {
   "cell_type": "code",
   "execution_count": 15,
   "id": "a13bbef6-6266-48f8-85fd-d0083b48ec19",
   "metadata": {},
   "outputs": [],
   "source": [
    "vocab, inv = np.unique(np.concatenate(list(df_de_unique[\"text\"])), return_inverse=True)"
   ]
  },
  {
   "cell_type": "code",
   "execution_count": 16,
   "id": "51ef4c07-d806-45c8-b2f8-9ae8d97ac258",
   "metadata": {},
   "outputs": [
    {
     "name": "stdout",
     "output_type": "stream",
     "text": [
      "[ 65332  61419  87689 ...  36521 444815 400026]\n"
     ]
    }
   ],
   "source": [
    "print(inv)"
   ]
  },
  {
   "cell_type": "code",
   "execution_count": 17,
   "id": "1b6281fc-a2c6-4265-9106-20a89e540c57",
   "metadata": {},
   "outputs": [
    {
     "data": {
      "text/plain": [
       "1454792"
      ]
     },
     "execution_count": 17,
     "metadata": {},
     "output_type": "execute_result"
    }
   ],
   "source": [
    "inv.size"
   ]
  },
  {
   "cell_type": "code",
   "execution_count": 18,
   "id": "c8179d04-73d8-4c3a-9399-470a4d9f2ace",
   "metadata": {},
   "outputs": [
    {
     "data": {
      "text/plain": [
       "array(['                                 Das Fliegen gab mir neue Kräfte',\n",
       "       '                                 Ein Vogel lud mich her zu Gaste —',\n",
       "       '                                 Es schläft mir jedes Weh und Ach.',\n",
       "       ..., '›zu spät zu Kampf und Beten,',\n",
       "       '›zwar beendigt ist der Krieg,',\n",
       "       '›über Toren, wo die Wächter liegen quer,'], dtype='<U104')"
      ]
     },
     "execution_count": 18,
     "metadata": {},
     "output_type": "execute_result"
    }
   ],
   "source": [
    "vocab"
   ]
  },
  {
   "cell_type": "code",
   "execution_count": 19,
   "id": "262e7291-5de5-4645-93c6-af00dcb7f9f4",
   "metadata": {},
   "outputs": [
    {
     "data": {
      "text/plain": [
       "789369"
      ]
     },
     "execution_count": 19,
     "metadata": {},
     "output_type": "execute_result"
    }
   ],
   "source": [
    "len(vocab)"
   ]
  },
  {
   "cell_type": "code",
   "execution_count": 20,
   "id": "ddc061f8-e435-4dfd-a743-707e8b639c56",
   "metadata": {},
   "outputs": [],
   "source": [
    "quads = np.resize(inv, (int(inv.size/4), 4))"
   ]
  },
  {
   "cell_type": "code",
   "execution_count": 21,
   "id": "4ebc7be4-aa4a-4a4d-9930-0240dc7f2554",
   "metadata": {},
   "outputs": [
    {
     "name": "stdout",
     "output_type": "stream",
     "text": [
      "[[ 65332  61419  87689 696034]\n",
      " [752366 143559 583505 275851]\n",
      " [557935 672033 411953  37402]\n",
      " ...\n",
      " [496711 254275 593174 531678]\n",
      " [708638 519395 620721 708518]\n",
      " [303874  36521 444815 400026]]\n"
     ]
    }
   ],
   "source": [
    "print(quads)"
   ]
  },
  {
   "cell_type": "code",
   "execution_count": 72,
   "id": "6d5680c5-85f0-4315-a42c-ccb4d32e379e",
   "metadata": {},
   "outputs": [
    {
     "data": {
      "text/plain": [
       "363698"
      ]
     },
     "execution_count": 72,
     "metadata": {},
     "output_type": "execute_result"
    }
   ],
   "source": [
    "len(quads)"
   ]
  },
  {
   "cell_type": "code",
   "execution_count": 74,
   "id": "14b83aeb-d60f-4106-be34-7d68ab54fb96",
   "metadata": {},
   "outputs": [
    {
     "data": {
      "text/plain": [
       "43200"
      ]
     },
     "execution_count": 74,
     "metadata": {},
     "output_type": "execute_result"
    }
   ],
   "source": []
  },
  {
   "cell_type": "code",
   "execution_count": 22,
   "id": "c2c811c5-c991-409d-b61d-919382718718",
   "metadata": {},
   "outputs": [
    {
     "name": "stdout",
     "output_type": "stream",
     "text": [
      "Overlap between arrays 0 and 1: indices [2 3]\n",
      "Overlap between arrays 0 and 3: indices [0 3]\n",
      "Overlap between arrays 1 and 3: indices [1]\n",
      "Overlap between arrays 2 and 3: indices [0 3]\n"
     ]
    }
   ],
   "source": [
    "def find_overlaps(arr):\n",
    "    overlaps = []\n",
    "    for i in range(len(arr)):\n",
    "        for j in range(i + 1, len(arr)):\n",
    "            overlap_indices = np.where(np.in1d(arr[i], arr[j]))[0]\n",
    "            if len(overlap_indices) > 0:\n",
    "                overlaps.append((i, j, overlap_indices))\n",
    "    return overlaps\n",
    "\n",
    "# Test the function\n",
    "if __name__ == \"__main__\":\n",
    "    arr = np.array([\n",
    "        [1, 2, 3, 4],\n",
    "        [3, 4, 5, 6],\n",
    "        [7, 8, 9, 10],\n",
    "        [1, 4, 7, 10]\n",
    "    ])\n",
    "\n",
    "    overlaps = find_overlaps(arr)\n",
    "    for overlap in overlaps:\n",
    "        print(\"Overlap between arrays {} and {}: indices {}\".format(overlap[0], overlap[1], overlap[2]))"
   ]
  },
  {
   "cell_type": "code",
   "execution_count": 61,
   "id": "dff91c4b-da09-4aa3-9671-31171fc207e2",
   "metadata": {},
   "outputs": [
    {
     "name": "stdout",
     "output_type": "stream",
     "text": [
      "[(0, 1, array([2, 3], dtype=int64)), (0, 3, array([0, 3], dtype=int64)), (1, 3, array([1], dtype=int64)), (2, 3, array([0, 3], dtype=int64))]\n"
     ]
    }
   ],
   "source": [
    "print(overlaps)"
   ]
  },
  {
   "cell_type": "code",
   "execution_count": 62,
   "id": "e6cbeb95-2994-46a9-85c6-9bec574b15fe",
   "metadata": {},
   "outputs": [
    {
     "name": "stdout",
     "output_type": "stream",
     "text": [
      "[(0, 1, array([2, 3], dtype=int64)), (0, 3, array([0, 3], dtype=int64)), (2, 3, array([0, 3], dtype=int64)), (1, 3, array([1], dtype=int64))]\n"
     ]
    }
   ],
   "source": [
    "overlaps_ordered = sorted(overlaps, key=lambda k: len(k[2]), reverse=True)\n",
    "\n",
    "print(overlaps_ordered)"
   ]
  },
  {
   "cell_type": "code",
   "execution_count": 63,
   "id": "067a2bab-1497-457a-a137-2758b089759f",
   "metadata": {},
   "outputs": [],
   "source": []
  },
  {
   "cell_type": "code",
   "execution_count": 64,
   "id": "8e210f72-a877-453b-90e0-db5e5836bb0e",
   "metadata": {},
   "outputs": [
    {
     "data": {
      "text/plain": [
       "[0, 2, 1]"
      ]
     },
     "execution_count": 64,
     "metadata": {},
     "output_type": "execute_result"
    }
   ],
   "source": [
    "to_delete"
   ]
  },
  {
   "cell_type": "code",
   "execution_count": 66,
   "id": "d2d70d48-007f-46f4-9433-fcfb2fdabd02",
   "metadata": {},
   "outputs": [],
   "source": [
    "overlaps_de = find_overlaps(quads[:1000])"
   ]
  },
  {
   "cell_type": "code",
   "execution_count": 67,
   "id": "a3ef5962-9cda-42d9-a6c7-4505fc093451",
   "metadata": {},
   "outputs": [],
   "source": [
    "overlaps_ordered = sorted(overlaps_de, key=lambda k: len(k[2]), reverse=True)\n",
    "to_delete = []\n",
    "for i, j, o in overlaps_ordered:\n",
    "    if not i in to_delete or j in to_delete:\n",
    "        to_delete.append(i)"
   ]
  },
  {
   "cell_type": "code",
   "execution_count": 68,
   "id": "6970d203-4846-4e5c-bf4f-902dc5b9fa04",
   "metadata": {},
   "outputs": [
    {
     "name": "stdout",
     "output_type": "stream",
     "text": [
      "[167, 713, 774, 922, 186, 187, 188, 189, 190, 191, 192, 316, 412]\n"
     ]
    }
   ],
   "source": [
    "print(to_delete)"
   ]
  },
  {
   "cell_type": "code",
   "execution_count": 71,
   "id": "a3ec07e1-9453-4834-abb5-0f456d6c4650",
   "metadata": {},
   "outputs": [
    {
     "name": "stdout",
     "output_type": "stream",
     "text": [
      "array indices:  [0, 3]\n",
      "array indices:  [0, 1]\n",
      "array indices:  [0, 1, 3]\n",
      "array indices:  [2, 3]\n",
      "array indices:  [2, 3]\n",
      "Overlap between arrays 0 and 3: indices 1\n",
      "Overlap between arrays 0 and 1: indices 3\n",
      "Overlap between arrays 0 and 1: indices 4\n",
      "Overlap between arrays 0 and 3: indices 4\n",
      "Overlap between arrays 1 and 3: indices 4\n",
      "Overlap between arrays 2 and 3: indices 7\n",
      "Overlap between arrays 2 and 3: indices 10\n"
     ]
    }
   ],
   "source": [
    "def find_overlaps(arr):\n",
    "    # Flatten the input array to work with 1D arrays\n",
    "    flat_arr = np.vstack(arr)\n",
    "    \n",
    "    # Create an array of unique elements and their counts\n",
    "    unique_elements, counts = np.unique(flat_arr, return_counts=True)\n",
    "    \n",
    "    # Find elements that appear in more than one array\n",
    "    overlapping_elements = unique_elements[counts > 1]\n",
    "    \n",
    "    # Initialize a list to store the overlaps\n",
    "    overlaps = []\n",
    "    \n",
    "    # Iterate through each overlapping element\n",
    "    for element in overlapping_elements:\n",
    "        # Find the indices of arrays that contain the element\n",
    "        array_indices = [i for i, a in enumerate(arr) if np.isin(element, a)]\n",
    "        print(\"array indices: \", array_indices)\n",
    "        # Append the indices to the overlaps list\n",
    "        overlaps.extend((i, j, element) for i in array_indices for j in array_indices if i < j)\n",
    "    \n",
    "    return overlaps\n",
    "\n",
    "# Test the function\n",
    "if __name__ == \"__main__\":\n",
    "    arr = np.array([\n",
    "        [1, 2, 3, 4],\n",
    "        [3, 4, 5, 6],\n",
    "        [7, 8, 9, 10],\n",
    "        [1, 4, 7, 10]\n",
    "    ])\n",
    "\n",
    "    overlaps = find_overlaps(arr)\n",
    "    for overlap in overlaps:\n",
    "        print(\"Overlap between arrays {} and {}: indices {}\".format(overlap[0], overlap[1], overlap[2]))"
   ]
  },
  {
   "cell_type": "code",
   "execution_count": 78,
   "id": "4a918e2c-376c-45d9-b82b-19a6ccafcf70",
   "metadata": {},
   "outputs": [],
   "source": [
    "def get_array_indices(arr):\n",
    "    # Flatten the input array to work with 1D arrays\n",
    "    flat_arr = np.vstack(arr)\n",
    "    \n",
    "    # Create an array of unique elements and their counts\n",
    "    unique_elements, counts = np.unique(flat_arr, return_counts=True)\n",
    "    \n",
    "    # Find elements that appear in more than one array\n",
    "    overlapping_elements = unique_elements[counts > 1]\n",
    "    \n",
    "    # Initialize a list to store the overlaps\n",
    "    indices = []\n",
    "    \n",
    "    # Iterate through each overlapping element\n",
    "    for element in overlapping_elements:\n",
    "        # Find the indices of arrays that contain the element\n",
    "        array_indices = [i for i, a in enumerate(arr) if np.isin(element, a)]\n",
    "        indices.append(array_indices)\n",
    "    \n",
    "    return indices"
   ]
  },
  {
   "cell_type": "code",
   "execution_count": 80,
   "id": "0735f19c-f971-4284-be0a-5e0cebc06bf0",
   "metadata": {},
   "outputs": [
    {
     "data": {
      "text/plain": [
       "[[3552, 3554],\n",
       " [3365, 3366],\n",
       " [4433, 4434],\n",
       " [3880, 3881],\n",
       " [167, 168],\n",
       " [588, 1719],\n",
       " [922, 923],\n",
       " [1321],\n",
       " [713, 714],\n",
       " [4421],\n",
       " [2878, 2889],\n",
       " [2844, 2846, 2848],\n",
       " [3541, 3549],\n",
       " [4221, 4222],\n",
       " [1154, 1155, 1156, 1157],\n",
       " [186, 187, 188, 189, 190, 191, 192, 193],\n",
       " [793, 1334, 1524, 1645],\n",
       " [2306, 2307],\n",
       " [4502, 4503],\n",
       " [3541, 3549],\n",
       " [729, 1668],\n",
       " [821, 4655],\n",
       " [4969, 4970],\n",
       " [4969, 4970],\n",
       " [774, 775],\n",
       " [1116, 1122],\n",
       " [1011, 1012],\n",
       " [4382, 4383],\n",
       " [4502, 4503],\n",
       " [3788, 3789],\n",
       " [2307, 2308],\n",
       " [3537, 3538, 3539],\n",
       " [1490, 1684],\n",
       " [1125, 1291],\n",
       " [1244, 1245, 1246, 1247, 1248],\n",
       " [1242, 1243],\n",
       " [2835, 2836],\n",
       " [3044, 3963],\n",
       " [4434, 4435],\n",
       " [4451],\n",
       " [4434, 4435],\n",
       " [4426, 4427],\n",
       " [3607, 3608],\n",
       " [3605, 3606, 3607, 3608],\n",
       " [1127, 1296],\n",
       " [1423, 1424],\n",
       " [1125, 1291],\n",
       " [922, 923],\n",
       " [1125, 1291],\n",
       " [1423, 1424],\n",
       " [713, 714],\n",
       " [4011, 4063],\n",
       " [774, 775],\n",
       " [2878, 2889],\n",
       " [2878, 2889],\n",
       " [3660],\n",
       " [3500, 3502, 3503],\n",
       " [3006, 3013],\n",
       " [4382, 4383],\n",
       " [990, 1219],\n",
       " [1011, 1012],\n",
       " [412, 413],\n",
       " [1524, 1525],\n",
       " [3448, 3449],\n",
       " [3448, 3449],\n",
       " [3433, 3445],\n",
       " [1802, 1806],\n",
       " [3788, 3789],\n",
       " [3433, 3445],\n",
       " [3433, 3445],\n",
       " [4396, 4397],\n",
       " [3521, 3524],\n",
       " [3519, 3522, 3523],\n",
       " [2980, 2986],\n",
       " [3046, 3050],\n",
       " [3164, 3477],\n",
       " [167, 168],\n",
       " [316, 317]]"
      ]
     },
     "execution_count": 80,
     "metadata": {},
     "output_type": "execute_result"
    }
   ],
   "source": [
    "get_array_indices(quads[:5000])"
   ]
  },
  {
   "cell_type": "code",
   "execution_count": 75,
   "id": "63e06726-5eb1-4378-8a12-ef39c941754e",
   "metadata": {},
   "outputs": [
    {
     "data": {
      "text/plain": [
       "array([[ 65332,  61419,  87689, 696034],\n",
       "       [752366, 143559, 583505, 275851],\n",
       "       [557935, 672033, 411953,  37402],\n",
       "       ...,\n",
       "       [496711, 254275, 593174, 531678],\n",
       "       [708638, 519395, 620721, 708518],\n",
       "       [303874,  36521, 444815, 400026]], dtype=int64)"
      ]
     },
     "execution_count": 75,
     "metadata": {},
     "output_type": "execute_result"
    }
   ],
   "source": [
    "quads"
   ]
  },
  {
   "cell_type": "code",
   "execution_count": 77,
   "id": "2252c35f-adbe-4094-a1f1-e48d93218337",
   "metadata": {},
   "outputs": [
    {
     "data": {
      "text/plain": [
       "363698"
      ]
     },
     "execution_count": 77,
     "metadata": {},
     "output_type": "execute_result"
    }
   ],
   "source": [
    "len(quads)"
   ]
  },
  {
   "cell_type": "code",
   "execution_count": 81,
   "id": "06e66785-8e01-44f5-88cd-1d46ef8806e5",
   "metadata": {},
   "outputs": [],
   "source": [
    "def get_unique_elements(arr):\n",
    "    # Flatten the input array to work with 1D arrays\n",
    "    flat_arr = np.vstack(arr)\n",
    "    \n",
    "    # Create an array of unique elements and their counts\n",
    "    unique_elements, counts = np.unique(flat_arr, return_counts=True)\n",
    "    return(unique_elements, counts)"
   ]
  },
  {
   "cell_type": "code",
   "execution_count": 87,
   "id": "bbef4580-53cf-4817-9ed1-d24c24e69f4f",
   "metadata": {},
   "outputs": [
    {
     "ename": "NameError",
     "evalue": "name 'get_unique_elements' is not defined",
     "output_type": "error",
     "traceback": [
      "\u001b[1;31m---------------------------------------------------------------------------\u001b[0m",
      "\u001b[1;31mNameError\u001b[0m                                 Traceback (most recent call last)",
      "Cell \u001b[1;32mIn[87], line 1\u001b[0m\n\u001b[1;32m----> 1\u001b[0m unique_elements, counts \u001b[38;5;241m=\u001b[39m \u001b[43mget_unique_elements\u001b[49m(quads)\n\u001b[0;32m      2\u001b[0m overlapping_elements \u001b[38;5;241m=\u001b[39m unique_elements[counts \u001b[38;5;241m>\u001b[39m \u001b[38;5;241m1\u001b[39m]\n",
      "\u001b[1;31mNameError\u001b[0m: name 'get_unique_elements' is not defined"
     ]
    }
   ],
   "source": [
    "unique_elements, counts = get_unique_elements(quads)\n",
    "overlapping_elements = unique_elements[counts > 1]\n"
   ]
  },
  {
   "cell_type": "code",
   "execution_count": 86,
   "id": "19c1694b-6aa2-4ec9-b8ce-5d40fdc83621",
   "metadata": {},
   "outputs": [
    {
     "ename": "NameError",
     "evalue": "name 'unique_elements' is not defined",
     "output_type": "error",
     "traceback": [
      "\u001b[1;31m---------------------------------------------------------------------------\u001b[0m",
      "\u001b[1;31mNameError\u001b[0m                                 Traceback (most recent call last)",
      "Cell \u001b[1;32mIn[86], line 1\u001b[0m\n\u001b[1;32m----> 1\u001b[0m \u001b[38;5;28mlen\u001b[39m(\u001b[43munique_elements\u001b[49m)\n",
      "\u001b[1;31mNameError\u001b[0m: name 'unique_elements' is not defined"
     ]
    }
   ],
   "source": [
    "len(unique_elements)"
   ]
  },
  {
   "cell_type": "code",
   "execution_count": 87,
   "id": "502f6253-fe4b-45a1-b757-e120d1610519",
   "metadata": {},
   "outputs": [
    {
     "data": {
      "text/plain": [
       "625209"
      ]
     },
     "execution_count": 87,
     "metadata": {},
     "output_type": "execute_result"
    }
   ],
   "source": [
    "len(overlapping_elements)"
   ]
  },
  {
   "cell_type": "code",
   "execution_count": 90,
   "id": "c9ecf89e-a3c7-45a4-8630-0a3f4250ced8",
   "metadata": {},
   "outputs": [
    {
     "data": {
      "text/plain": [
       "array([    13,     27,     37, ..., 789366, 789367, 789368], dtype=int64)"
      ]
     },
     "execution_count": 90,
     "metadata": {},
     "output_type": "execute_result"
    }
   ],
   "source": [
    "overlapping_elements"
   ]
  },
  {
   "cell_type": "code",
   "execution_count": 46,
   "id": "e7de365a-f1c5-44e0-9e1b-ec77c72afaba",
   "metadata": {},
   "outputs": [
    {
     "ename": "NameError",
     "evalue": "name 'overlapping_elements' is not defined",
     "output_type": "error",
     "traceback": [
      "\u001b[1;31m---------------------------------------------------------------------------\u001b[0m",
      "\u001b[1;31mNameError\u001b[0m                                 Traceback (most recent call last)",
      "Cell \u001b[1;32mIn[46], line 1\u001b[0m\n\u001b[1;32m----> 1\u001b[0m np\u001b[38;5;241m.\u001b[39misin(np\u001b[38;5;241m.\u001b[39marray([\u001b[38;5;241m13\u001b[39m, \u001b[38;5;241m24\u001b[39m, \u001b[38;5;241m37\u001b[39m, \u001b[38;5;241m39\u001b[39m]), \u001b[43moverlapping_elements\u001b[49m)\n",
      "\u001b[1;31mNameError\u001b[0m: name 'overlapping_elements' is not defined"
     ]
    }
   ],
   "source": [
    "np.isin(np.array([13, 24, 37, 39]), overlapping_elements)"
   ]
  },
  {
   "cell_type": "code",
   "execution_count": 91,
   "id": "3bb13e42-4632-4567-b8cc-3d74eb123510",
   "metadata": {},
   "outputs": [
    {
     "ename": "KeyboardInterrupt",
     "evalue": "",
     "output_type": "error",
     "traceback": [
      "\u001b[1;31m---------------------------------------------------------------------------\u001b[0m",
      "\u001b[1;31mKeyboardInterrupt\u001b[0m                         Traceback (most recent call last)",
      "Cell \u001b[1;32mIn[91], line 5\u001b[0m\n\u001b[0;32m      2\u001b[0m indices \u001b[38;5;241m=\u001b[39m []\n\u001b[0;32m      3\u001b[0m \u001b[38;5;28;01mfor\u001b[39;00m element \u001b[38;5;129;01min\u001b[39;00m overlapping_elements:\n\u001b[0;32m      4\u001b[0m     \u001b[38;5;66;03m# Find the indices of arrays that contain the element\u001b[39;00m\n\u001b[1;32m----> 5\u001b[0m     array_indices \u001b[38;5;241m=\u001b[39m [i \u001b[38;5;28;01mfor\u001b[39;00m i, a \u001b[38;5;129;01min\u001b[39;00m \u001b[38;5;28menumerate\u001b[39m(quads) \u001b[38;5;28;01mif\u001b[39;00m np\u001b[38;5;241m.\u001b[39misin(element, a)]\n\u001b[0;32m      6\u001b[0m     indices\u001b[38;5;241m.\u001b[39mappend(array_indices)\n",
      "Cell \u001b[1;32mIn[91], line 5\u001b[0m, in \u001b[0;36m<listcomp>\u001b[1;34m(.0)\u001b[0m\n\u001b[0;32m      2\u001b[0m indices \u001b[38;5;241m=\u001b[39m []\n\u001b[0;32m      3\u001b[0m \u001b[38;5;28;01mfor\u001b[39;00m element \u001b[38;5;129;01min\u001b[39;00m overlapping_elements:\n\u001b[0;32m      4\u001b[0m     \u001b[38;5;66;03m# Find the indices of arrays that contain the element\u001b[39;00m\n\u001b[1;32m----> 5\u001b[0m     array_indices \u001b[38;5;241m=\u001b[39m [i \u001b[38;5;28;01mfor\u001b[39;00m i, a \u001b[38;5;129;01min\u001b[39;00m \u001b[38;5;28menumerate\u001b[39m(quads) \u001b[38;5;28;01mif\u001b[39;00m \u001b[43mnp\u001b[49m\u001b[38;5;241;43m.\u001b[39;49m\u001b[43misin\u001b[49m\u001b[43m(\u001b[49m\u001b[43melement\u001b[49m\u001b[43m,\u001b[49m\u001b[43m \u001b[49m\u001b[43ma\u001b[49m\u001b[43m)\u001b[49m]\n\u001b[0;32m      6\u001b[0m     indices\u001b[38;5;241m.\u001b[39mappend(array_indices)\n",
      "File \u001b[1;32m<__array_function__ internals>:200\u001b[0m, in \u001b[0;36misin\u001b[1;34m(*args, **kwargs)\u001b[0m\n",
      "File \u001b[1;32mD:\\Programs\\Anaconda\\lib\\site-packages\\numpy\\lib\\arraysetops.py:890\u001b[0m, in \u001b[0;36misin\u001b[1;34m(element, test_elements, assume_unique, invert, kind)\u001b[0m\n\u001b[0;32m    769\u001b[0m \u001b[38;5;250m\u001b[39m\u001b[38;5;124;03m\"\"\"\u001b[39;00m\n\u001b[0;32m    770\u001b[0m \u001b[38;5;124;03mCalculates ``element in test_elements``, broadcasting over `element` only.\u001b[39;00m\n\u001b[0;32m    771\u001b[0m \u001b[38;5;124;03mReturns a boolean array of the same shape as `element` that is True\u001b[39;00m\n\u001b[1;32m   (...)\u001b[0m\n\u001b[0;32m    887\u001b[0m \u001b[38;5;124;03m       [ True, False]])\u001b[39;00m\n\u001b[0;32m    888\u001b[0m \u001b[38;5;124;03m\"\"\"\u001b[39;00m\n\u001b[0;32m    889\u001b[0m element \u001b[38;5;241m=\u001b[39m np\u001b[38;5;241m.\u001b[39masarray(element)\n\u001b[1;32m--> 890\u001b[0m \u001b[38;5;28;01mreturn\u001b[39;00m \u001b[43min1d\u001b[49m\u001b[43m(\u001b[49m\u001b[43melement\u001b[49m\u001b[43m,\u001b[49m\u001b[43m \u001b[49m\u001b[43mtest_elements\u001b[49m\u001b[43m,\u001b[49m\u001b[43m \u001b[49m\u001b[43massume_unique\u001b[49m\u001b[38;5;241;43m=\u001b[39;49m\u001b[43massume_unique\u001b[49m\u001b[43m,\u001b[49m\n\u001b[0;32m    891\u001b[0m \u001b[43m            \u001b[49m\u001b[43minvert\u001b[49m\u001b[38;5;241;43m=\u001b[39;49m\u001b[43minvert\u001b[49m\u001b[43m,\u001b[49m\u001b[43m \u001b[49m\u001b[43mkind\u001b[49m\u001b[38;5;241;43m=\u001b[39;49m\u001b[43mkind\u001b[49m\u001b[43m)\u001b[49m\u001b[38;5;241m.\u001b[39mreshape(element\u001b[38;5;241m.\u001b[39mshape)\n",
      "File \u001b[1;32m<__array_function__ internals>:200\u001b[0m, in \u001b[0;36min1d\u001b[1;34m(*args, **kwargs)\u001b[0m\n",
      "File \u001b[1;32mD:\\Programs\\Anaconda\\lib\\site-packages\\numpy\\lib\\arraysetops.py:659\u001b[0m, in \u001b[0;36min1d\u001b[1;34m(ar1, ar2, assume_unique, invert, kind)\u001b[0m\n\u001b[0;32m    657\u001b[0m \u001b[38;5;28;01mif\u001b[39;00m ar1\u001b[38;5;241m.\u001b[39msize \u001b[38;5;241m>\u001b[39m \u001b[38;5;241m0\u001b[39m:\n\u001b[0;32m    658\u001b[0m     ar1_min \u001b[38;5;241m=\u001b[39m np\u001b[38;5;241m.\u001b[39mmin(ar1)\n\u001b[1;32m--> 659\u001b[0m     ar1_max \u001b[38;5;241m=\u001b[39m \u001b[43mnp\u001b[49m\u001b[38;5;241;43m.\u001b[39;49m\u001b[43mmax\u001b[49m\u001b[43m(\u001b[49m\u001b[43mar1\u001b[49m\u001b[43m)\u001b[49m\n\u001b[0;32m    661\u001b[0m     \u001b[38;5;66;03m# After masking, the range of ar1 is guaranteed to be\u001b[39;00m\n\u001b[0;32m    662\u001b[0m     \u001b[38;5;66;03m# within the range of ar2:\u001b[39;00m\n\u001b[0;32m    663\u001b[0m     ar1_upper \u001b[38;5;241m=\u001b[39m \u001b[38;5;28mmin\u001b[39m(\u001b[38;5;28mint\u001b[39m(ar1_max), \u001b[38;5;28mint\u001b[39m(ar2_max))\n",
      "File \u001b[1;32m<__array_function__ internals>:200\u001b[0m, in \u001b[0;36mamax\u001b[1;34m(*args, **kwargs)\u001b[0m\n",
      "File \u001b[1;32mD:\\Programs\\Anaconda\\lib\\site-packages\\numpy\\core\\fromnumeric.py:2820\u001b[0m, in \u001b[0;36mamax\u001b[1;34m(a, axis, out, keepdims, initial, where)\u001b[0m\n\u001b[0;32m   2703\u001b[0m \u001b[38;5;129m@array_function_dispatch\u001b[39m(_amax_dispatcher)\n\u001b[0;32m   2704\u001b[0m \u001b[38;5;28;01mdef\u001b[39;00m \u001b[38;5;21mamax\u001b[39m(a, axis\u001b[38;5;241m=\u001b[39m\u001b[38;5;28;01mNone\u001b[39;00m, out\u001b[38;5;241m=\u001b[39m\u001b[38;5;28;01mNone\u001b[39;00m, keepdims\u001b[38;5;241m=\u001b[39mnp\u001b[38;5;241m.\u001b[39m_NoValue, initial\u001b[38;5;241m=\u001b[39mnp\u001b[38;5;241m.\u001b[39m_NoValue,\n\u001b[0;32m   2705\u001b[0m          where\u001b[38;5;241m=\u001b[39mnp\u001b[38;5;241m.\u001b[39m_NoValue):\n\u001b[0;32m   2706\u001b[0m \u001b[38;5;250m    \u001b[39m\u001b[38;5;124;03m\"\"\"\u001b[39;00m\n\u001b[0;32m   2707\u001b[0m \u001b[38;5;124;03m    Return the maximum of an array or maximum along an axis.\u001b[39;00m\n\u001b[0;32m   2708\u001b[0m \n\u001b[1;32m   (...)\u001b[0m\n\u001b[0;32m   2818\u001b[0m \u001b[38;5;124;03m    5\u001b[39;00m\n\u001b[0;32m   2819\u001b[0m \u001b[38;5;124;03m    \"\"\"\u001b[39;00m\n\u001b[1;32m-> 2820\u001b[0m     \u001b[38;5;28;01mreturn\u001b[39;00m \u001b[43m_wrapreduction\u001b[49m\u001b[43m(\u001b[49m\u001b[43ma\u001b[49m\u001b[43m,\u001b[49m\u001b[43m \u001b[49m\u001b[43mnp\u001b[49m\u001b[38;5;241;43m.\u001b[39;49m\u001b[43mmaximum\u001b[49m\u001b[43m,\u001b[49m\u001b[43m \u001b[49m\u001b[38;5;124;43m'\u001b[39;49m\u001b[38;5;124;43mmax\u001b[39;49m\u001b[38;5;124;43m'\u001b[39;49m\u001b[43m,\u001b[49m\u001b[43m \u001b[49m\u001b[43maxis\u001b[49m\u001b[43m,\u001b[49m\u001b[43m \u001b[49m\u001b[38;5;28;43;01mNone\u001b[39;49;00m\u001b[43m,\u001b[49m\u001b[43m \u001b[49m\u001b[43mout\u001b[49m\u001b[43m,\u001b[49m\n\u001b[0;32m   2821\u001b[0m \u001b[43m                          \u001b[49m\u001b[43mkeepdims\u001b[49m\u001b[38;5;241;43m=\u001b[39;49m\u001b[43mkeepdims\u001b[49m\u001b[43m,\u001b[49m\u001b[43m \u001b[49m\u001b[43minitial\u001b[49m\u001b[38;5;241;43m=\u001b[39;49m\u001b[43minitial\u001b[49m\u001b[43m,\u001b[49m\u001b[43m \u001b[49m\u001b[43mwhere\u001b[49m\u001b[38;5;241;43m=\u001b[39;49m\u001b[43mwhere\u001b[49m\u001b[43m)\u001b[49m\n",
      "\u001b[1;31mKeyboardInterrupt\u001b[0m: "
     ]
    }
   ],
   "source": [
    "# Iterate through each overlapping element\n",
    "indices = []\n",
    "for element in overlapping_elements:\n",
    "    # Find the indices of arrays that contain the element\n",
    "    array_indices = [i for i, a in enumerate(quads) if np.isin(element, a)]\n",
    "    indices.append(array_indices)\n",
    "    "
   ]
  },
  {
   "cell_type": "code",
   "execution_count": 83,
   "id": "68b086b0-2d00-43e0-9db1-6da9d68f5b5d",
   "metadata": {},
   "outputs": [
    {
     "data": {
      "text/plain": [
       "array([     0,      1,      2, ..., 789366, 789367, 789368], dtype=int64)"
      ]
     },
     "execution_count": 83,
     "metadata": {},
     "output_type": "execute_result"
    }
   ],
   "source": [
    "unique_elements"
   ]
  },
  {
   "cell_type": "code",
   "execution_count": 85,
   "id": "c9604c41-9728-4650-9d08-156c44a2994c",
   "metadata": {},
   "outputs": [
    {
     "data": {
      "text/plain": [
       "789369"
      ]
     },
     "execution_count": 85,
     "metadata": {},
     "output_type": "execute_result"
    }
   ],
   "source": [
    "len(unique_elements)"
   ]
  },
  {
   "cell_type": "code",
   "execution_count": 23,
   "id": "0b8d522e-ccf5-4d8c-8106-e80b79714943",
   "metadata": {},
   "outputs": [
    {
     "name": "stdout",
     "output_type": "stream",
     "text": [
      "mask: [[False False False False]\n",
      " [False False False False]\n",
      " [False False False False]\n",
      " ...\n",
      " [False False False False]\n",
      " [False False False False]\n",
      " [False False False False]]\n",
      "mask size: 4000\n",
      "overlaps_indices: [[167   2]\n",
      " [167   3]\n",
      " [168   0]\n",
      " [168   1]\n",
      " [186   0]\n",
      " [187   0]\n",
      " [188   0]\n",
      " [189   0]\n",
      " [190   0]\n",
      " [191   0]\n",
      " [192   0]\n",
      " [193   0]\n",
      " [316   3]\n",
      " [317   0]\n",
      " [412   3]\n",
      " [413   0]\n",
      " [713   2]\n",
      " [713   3]\n",
      " [714   0]\n",
      " [714   1]\n",
      " [774   2]\n",
      " [774   3]\n",
      " [775   1]\n",
      " [775   2]\n",
      " [922   2]\n",
      " [922   3]\n",
      " [923   0]\n",
      " [923   1]]\n",
      "size:  56\n",
      "Overlap between arrays 0 and 1: indices [0 1]\n",
      "Overlap between arrays 0 and 2: indices [0]\n",
      "Overlap between arrays 0 and 3: indices [0]\n",
      "Overlap between arrays 0 and 4: indices [0]\n",
      "Overlap between arrays 0 and 5: indices [0]\n",
      "Overlap between arrays 0 and 6: indices [0]\n",
      "Overlap between arrays 0 and 7: indices [0]\n",
      "Overlap between arrays 0 and 8: indices [0]\n",
      "Overlap between arrays 0 and 9: indices [0]\n",
      "Overlap between arrays 0 and 10: indices [3]\n",
      "Overlap between arrays 0 and 11: indices [0]\n",
      "Overlap between arrays 0 and 12: indices [3]\n",
      "Overlap between arrays 0 and 13: indices [0]\n",
      "Overlap between arrays 0 and 14: indices [2 3]\n",
      "Overlap between arrays 0 and 15: indices [0 1]\n",
      "Overlap between arrays 0 and 16: indices [2 3]\n",
      "Overlap between arrays 0 and 17: indices [1 2]\n",
      "Overlap between arrays 0 and 18: indices [2 3]\n",
      "Overlap between arrays 0 and 19: indices [0 1]\n",
      "Overlap between arrays 1 and 2: indices [0]\n",
      "Overlap between arrays 1 and 3: indices [0]\n",
      "Overlap between arrays 1 and 4: indices [0]\n",
      "Overlap between arrays 1 and 5: indices [0]\n",
      "Overlap between arrays 1 and 6: indices [0]\n",
      "Overlap between arrays 1 and 7: indices [0]\n",
      "Overlap between arrays 1 and 8: indices [0]\n",
      "Overlap between arrays 1 and 9: indices [0]\n",
      "Overlap between arrays 1 and 10: indices [3]\n",
      "Overlap between arrays 1 and 11: indices [0]\n",
      "Overlap between arrays 1 and 12: indices [3]\n",
      "Overlap between arrays 1 and 13: indices [0]\n",
      "Overlap between arrays 1 and 14: indices [2 3]\n",
      "Overlap between arrays 1 and 15: indices [0 1]\n",
      "Overlap between arrays 1 and 16: indices [2 3]\n",
      "Overlap between arrays 1 and 17: indices [1 2]\n",
      "Overlap between arrays 1 and 18: indices [2 3]\n",
      "Overlap between arrays 1 and 19: indices [0 1]\n",
      "Overlap between arrays 2 and 3: indices [0]\n",
      "Overlap between arrays 2 and 4: indices [0]\n",
      "Overlap between arrays 2 and 5: indices [0]\n",
      "Overlap between arrays 2 and 6: indices [0]\n",
      "Overlap between arrays 2 and 7: indices [0]\n",
      "Overlap between arrays 2 and 8: indices [0]\n",
      "Overlap between arrays 2 and 9: indices [0]\n",
      "Overlap between arrays 2 and 10: indices [3]\n",
      "Overlap between arrays 2 and 11: indices [0]\n",
      "Overlap between arrays 2 and 12: indices [3]\n",
      "Overlap between arrays 2 and 13: indices [0]\n",
      "Overlap between arrays 2 and 14: indices [2 3]\n",
      "Overlap between arrays 2 and 15: indices [0 1]\n",
      "Overlap between arrays 2 and 16: indices [2 3]\n",
      "Overlap between arrays 2 and 17: indices [1 2]\n",
      "Overlap between arrays 2 and 18: indices [2 3]\n",
      "Overlap between arrays 2 and 19: indices [0 1]\n",
      "Overlap between arrays 3 and 4: indices [0]\n",
      "Overlap between arrays 3 and 5: indices [0]\n",
      "Overlap between arrays 3 and 6: indices [0]\n",
      "Overlap between arrays 3 and 7: indices [0]\n",
      "Overlap between arrays 3 and 8: indices [0]\n",
      "Overlap between arrays 3 and 9: indices [0]\n",
      "Overlap between arrays 3 and 10: indices [3]\n",
      "Overlap between arrays 3 and 11: indices [0]\n",
      "Overlap between arrays 3 and 12: indices [3]\n",
      "Overlap between arrays 3 and 13: indices [0]\n",
      "Overlap between arrays 3 and 14: indices [2 3]\n",
      "Overlap between arrays 3 and 15: indices [0 1]\n",
      "Overlap between arrays 3 and 16: indices [2 3]\n",
      "Overlap between arrays 3 and 17: indices [1 2]\n",
      "Overlap between arrays 3 and 18: indices [2 3]\n",
      "Overlap between arrays 3 and 19: indices [0 1]\n",
      "Overlap between arrays 4 and 5: indices [0]\n",
      "Overlap between arrays 4 and 6: indices [0]\n",
      "Overlap between arrays 4 and 7: indices [0]\n",
      "Overlap between arrays 4 and 8: indices [0]\n",
      "Overlap between arrays 4 and 9: indices [0]\n",
      "Overlap between arrays 4 and 10: indices [3]\n",
      "Overlap between arrays 4 and 11: indices [0]\n",
      "Overlap between arrays 4 and 12: indices [3]\n",
      "Overlap between arrays 4 and 13: indices [0]\n",
      "Overlap between arrays 4 and 14: indices [2 3]\n",
      "Overlap between arrays 4 and 15: indices [0 1]\n",
      "Overlap between arrays 4 and 16: indices [2 3]\n",
      "Overlap between arrays 4 and 17: indices [1 2]\n",
      "Overlap between arrays 4 and 18: indices [2 3]\n",
      "Overlap between arrays 4 and 19: indices [0 1]\n",
      "Overlap between arrays 5 and 6: indices [0]\n",
      "Overlap between arrays 5 and 7: indices [0]\n",
      "Overlap between arrays 5 and 8: indices [0]\n",
      "Overlap between arrays 5 and 9: indices [0]\n",
      "Overlap between arrays 5 and 10: indices [3]\n",
      "Overlap between arrays 5 and 11: indices [0]\n",
      "Overlap between arrays 5 and 12: indices [3]\n",
      "Overlap between arrays 5 and 13: indices [0]\n",
      "Overlap between arrays 5 and 14: indices [2 3]\n",
      "Overlap between arrays 5 and 15: indices [0 1]\n",
      "Overlap between arrays 5 and 16: indices [2 3]\n",
      "Overlap between arrays 5 and 17: indices [1 2]\n",
      "Overlap between arrays 5 and 18: indices [2 3]\n",
      "Overlap between arrays 5 and 19: indices [0 1]\n",
      "Overlap between arrays 6 and 7: indices [0]\n",
      "Overlap between arrays 6 and 8: indices [0]\n",
      "Overlap between arrays 6 and 9: indices [0]\n",
      "Overlap between arrays 6 and 10: indices [3]\n",
      "Overlap between arrays 6 and 11: indices [0]\n",
      "Overlap between arrays 6 and 12: indices [3]\n",
      "Overlap between arrays 6 and 13: indices [0]\n",
      "Overlap between arrays 6 and 14: indices [2 3]\n",
      "Overlap between arrays 6 and 15: indices [0 1]\n",
      "Overlap between arrays 6 and 16: indices [2 3]\n",
      "Overlap between arrays 6 and 17: indices [1 2]\n",
      "Overlap between arrays 6 and 18: indices [2 3]\n",
      "Overlap between arrays 6 and 19: indices [0 1]\n",
      "Overlap between arrays 7 and 8: indices [0]\n",
      "Overlap between arrays 7 and 9: indices [0]\n",
      "Overlap between arrays 7 and 10: indices [3]\n",
      "Overlap between arrays 7 and 11: indices [0]\n",
      "Overlap between arrays 7 and 12: indices [3]\n",
      "Overlap between arrays 7 and 13: indices [0]\n",
      "Overlap between arrays 7 and 14: indices [2 3]\n",
      "Overlap between arrays 7 and 15: indices [0 1]\n",
      "Overlap between arrays 7 and 16: indices [2 3]\n",
      "Overlap between arrays 7 and 17: indices [1 2]\n",
      "Overlap between arrays 7 and 18: indices [2 3]\n",
      "Overlap between arrays 7 and 19: indices [0 1]\n",
      "Overlap between arrays 8 and 9: indices [0]\n",
      "Overlap between arrays 8 and 10: indices [3]\n",
      "Overlap between arrays 8 and 11: indices [0]\n",
      "Overlap between arrays 8 and 12: indices [3]\n",
      "Overlap between arrays 8 and 13: indices [0]\n",
      "Overlap between arrays 8 and 14: indices [2 3]\n",
      "Overlap between arrays 8 and 15: indices [0 1]\n",
      "Overlap between arrays 8 and 16: indices [2 3]\n",
      "Overlap between arrays 8 and 17: indices [1 2]\n",
      "Overlap between arrays 8 and 18: indices [2 3]\n",
      "Overlap between arrays 8 and 19: indices [0 1]\n",
      "Overlap between arrays 9 and 10: indices [3]\n",
      "Overlap between arrays 9 and 11: indices [0]\n",
      "Overlap between arrays 9 and 12: indices [3]\n",
      "Overlap between arrays 9 and 13: indices [0]\n",
      "Overlap between arrays 9 and 14: indices [2 3]\n",
      "Overlap between arrays 9 and 15: indices [0 1]\n",
      "Overlap between arrays 9 and 16: indices [2 3]\n",
      "Overlap between arrays 9 and 17: indices [1 2]\n",
      "Overlap between arrays 9 and 18: indices [2 3]\n",
      "Overlap between arrays 9 and 19: indices [0 1]\n",
      "Overlap between arrays 10 and 11: indices [0]\n",
      "Overlap between arrays 10 and 12: indices [3]\n",
      "Overlap between arrays 10 and 13: indices [0]\n",
      "Overlap between arrays 10 and 14: indices [2 3]\n",
      "Overlap between arrays 10 and 15: indices [0 1]\n",
      "Overlap between arrays 10 and 16: indices [2 3]\n",
      "Overlap between arrays 10 and 17: indices [1 2]\n",
      "Overlap between arrays 10 and 18: indices [2 3]\n",
      "Overlap between arrays 10 and 19: indices [0 1]\n",
      "Overlap between arrays 11 and 12: indices [3]\n",
      "Overlap between arrays 11 and 13: indices [0]\n",
      "Overlap between arrays 11 and 14: indices [2 3]\n",
      "Overlap between arrays 11 and 15: indices [0 1]\n",
      "Overlap between arrays 11 and 16: indices [2 3]\n",
      "Overlap between arrays 11 and 17: indices [1 2]\n",
      "Overlap between arrays 11 and 18: indices [2 3]\n",
      "Overlap between arrays 11 and 19: indices [0 1]\n",
      "Overlap between arrays 12 and 13: indices [0]\n",
      "Overlap between arrays 12 and 14: indices [2 3]\n",
      "Overlap between arrays 12 and 15: indices [0 1]\n",
      "Overlap between arrays 12 and 16: indices [2 3]\n",
      "Overlap between arrays 12 and 17: indices [1 2]\n",
      "Overlap between arrays 12 and 18: indices [2 3]\n",
      "Overlap between arrays 12 and 19: indices [0 1]\n",
      "Overlap between arrays 13 and 14: indices [2 3]\n",
      "Overlap between arrays 13 and 15: indices [0 1]\n",
      "Overlap between arrays 13 and 16: indices [2 3]\n",
      "Overlap between arrays 13 and 17: indices [1 2]\n",
      "Overlap between arrays 13 and 18: indices [2 3]\n",
      "Overlap between arrays 13 and 19: indices [0 1]\n",
      "Overlap between arrays 14 and 15: indices [0 1]\n",
      "Overlap between arrays 14 and 16: indices [2 3]\n",
      "Overlap between arrays 14 and 17: indices [1 2]\n",
      "Overlap between arrays 14 and 18: indices [2 3]\n",
      "Overlap between arrays 14 and 19: indices [0 1]\n",
      "Overlap between arrays 15 and 16: indices [2 3]\n",
      "Overlap between arrays 15 and 17: indices [1 2]\n",
      "Overlap between arrays 15 and 18: indices [2 3]\n",
      "Overlap between arrays 15 and 19: indices [0 1]\n",
      "Overlap between arrays 16 and 17: indices [1 2]\n",
      "Overlap between arrays 16 and 18: indices [2 3]\n",
      "Overlap between arrays 16 and 19: indices [0 1]\n",
      "Overlap between arrays 17 and 18: indices [2 3]\n",
      "Overlap between arrays 17 and 19: indices [0 1]\n",
      "Overlap between arrays 18 and 19: indices [0 1]\n"
     ]
    }
   ],
   "source": [
    "import numpy as np\n",
    "\n",
    "def find_overlaps(arr):\n",
    "    # Flatten the input array to work with 1D arrays\n",
    "    flat_arr = np.vstack(arr)\n",
    "\n",
    "    # Create a boolean mask of elements that appear more than once\n",
    "    mask = np.isin(flat_arr, np.unique(flat_arr)[np.unique(flat_arr, return_counts=True)[1] > 1])\n",
    "    #print(\"mask:\", mask)\n",
    "    print(\"mask size:\", mask.size)\n",
    "\n",
    "    # Reshape the mask back to the original shape\n",
    "    mask_reshaped = mask.reshape(arr.shape)\n",
    "\n",
    "    # Find the indices where the mask is True along the last axis\n",
    "    overlaps_indices = np.argwhere(mask_reshaped)\n",
    "    #print(\"overlaps_indices:\", overlaps_indices)\n",
    "    print(\"size: \", overlaps_indices.size)\n",
    "\n",
    "    # Group the indices by the first index, indicating which array they belong to\n",
    "    overlaps_groups = np.split(overlaps_indices[:, 1:], np.cumsum(np.unique(overlaps_indices[:, 0], return_counts=True)[1])[:-1])\n",
    "\n",
    "    # Create a list of overlaps tuples\n",
    "    overlaps = [(i, j, indices.flatten()) for i, indices_group in enumerate(overlaps_groups) for j, indices in enumerate(overlaps_groups) if i < j]\n",
    "\n",
    "    return overlaps\n",
    "\n",
    "# Test the function\n",
    "if __name__ == \"__main__\":\n",
    "\n",
    "    overlaps = find_overlaps(quads)\n",
    "    print(len(overlaps))\n",
    "    #print(\"Overlap between arrays {} and {}: indices {}\".format(overlap[0], overlap[1], overlap[2]))\n",
    "        "
   ]
  },
  {
   "cell_type": "code",
   "execution_count": 26,
   "id": "741b6044-94ca-4f1b-9e39-5f6b4036c7ca",
   "metadata": {},
   "outputs": [
    {
     "name": "stdout",
     "output_type": "stream",
     "text": [
      "mask size: 1454792\n",
      "size:  2581264\n"
     ]
    }
   ],
   "source": [
    "flat_arr = np.vstack(quads)\n",
    "\n",
    "# Create a boolean mask of elements that appear more than once\n",
    "mask = np.isin(flat_arr, np.unique(flat_arr)[np.unique(flat_arr, return_counts=True)[1] > 1])\n",
    "#print(\"mask:\", mask)\n",
    "print(\"mask size:\", mask.size)\n",
    "\n",
    "# Reshape the mask back to the original shape\n",
    "mask_reshaped = mask.reshape(quads.shape)\n",
    "\n",
    "# Find the indices where the mask is True along the last axis\n",
    "overlaps_indices = np.argwhere(mask_reshaped)\n",
    "#print(\"overlaps_indices:\", overlaps_indices)\n",
    "print(\"size: \", overlaps_indices.size)\n",
    "\n",
    "# Group the indices by the first index, indicating which array they belong to\n",
    "overlaps_groups = np.split(overlaps_indices[:, 1:], np.cumsum(np.unique(overlaps_indices[:, 0], return_counts=True)[1])[:-1])\n"
   ]
  },
  {
   "cell_type": "code",
   "execution_count": 44,
   "id": "09907fbc-e9bf-4daa-b3e2-3c1f62f5d54f",
   "metadata": {},
   "outputs": [
    {
     "name": "stdout",
     "output_type": "stream",
     "text": [
      "[False False False ...  True  True  True]\n",
      "[    13     27     37 ... 789366 789367 789368]\n"
     ]
    }
   ],
   "source": [
    "tokens, counts = np.unique(flat_arr, return_counts=True)\n",
    "multiples = counts > 1 \n",
    "print(multiples)\n",
    "multiple_tokens = tokens[multiples]\n",
    "print(multiple_tokens)"
   ]
  },
  {
   "cell_type": "code",
   "execution_count": 88,
   "id": "6a3642e9-11fb-435f-9b9b-711ebc363ab2",
   "metadata": {},
   "outputs": [
    {
     "data": {
      "text/plain": [
       "789369"
      ]
     },
     "execution_count": 88,
     "metadata": {},
     "output_type": "execute_result"
    }
   ],
   "source": [
    "len(tokens)"
   ]
  },
  {
   "cell_type": "code",
   "execution_count": 45,
   "id": "08ea30eb-f125-46dc-ba6a-01139d7bdfb5",
   "metadata": {},
   "outputs": [
    {
     "data": {
      "text/plain": [
       "625209"
      ]
     },
     "execution_count": 45,
     "metadata": {},
     "output_type": "execute_result"
    }
   ],
   "source": [
    "len(multiple_tokens)"
   ]
  },
  {
   "cell_type": "code",
   "execution_count": 53,
   "id": "a7ecc46f-fe66-4067-8482-18a80d516870",
   "metadata": {},
   "outputs": [],
   "source": [
    "mask = np.isin(flat_arr, multiple_tokens)"
   ]
  },
  {
   "cell_type": "code",
   "execution_count": 56,
   "id": "edba0d91-7cae-44fa-88fb-e44bec086fb1",
   "metadata": {},
   "outputs": [
    {
     "data": {
      "text/plain": [
       "array([[ 65332,  61419,  87689, 696034],\n",
       "       [752366, 143559, 583505, 275851],\n",
       "       [557935, 672033, 411953,  37402],\n",
       "       ...,\n",
       "       [496711, 254275, 593174, 531678],\n",
       "       [708638, 519395, 620721, 708518],\n",
       "       [303874,  36521, 444815, 400026]], dtype=int64)"
      ]
     },
     "execution_count": 56,
     "metadata": {},
     "output_type": "execute_result"
    }
   ],
   "source": [
    "flat_arr = np.vstack(quads)\n",
    "flat_arr"
   ]
  },
  {
   "cell_type": "code",
   "execution_count": 54,
   "id": "dc52ad5e-816b-4951-97bc-8e3d2a1291d3",
   "metadata": {},
   "outputs": [
    {
     "data": {
      "text/plain": [
       "array([[False, False, False, False],\n",
       "       [False, False, False, False],\n",
       "       [False, False, False, False],\n",
       "       ...,\n",
       "       [ True,  True,  True,  True],\n",
       "       [ True,  True,  True,  True],\n",
       "       [ True,  True,  True,  True]])"
      ]
     },
     "execution_count": 54,
     "metadata": {},
     "output_type": "execute_result"
    }
   ],
   "source": [
    "mask"
   ]
  },
  {
   "cell_type": "code",
   "execution_count": 65,
   "id": "029637fa-e691-4df1-ac46-4761c9224e4d",
   "metadata": {},
   "outputs": [],
   "source": [
    "array_sums = np.array([ar.sum() for ar in mask])\n"
   ]
  },
  {
   "cell_type": "code",
   "execution_count": 126,
   "id": "c26260c7-11ac-4d43-be98-670294ccd6a8",
   "metadata": {},
   "outputs": [
    {
     "data": {
      "text/plain": [
       "array([     0,      1,      2, ..., 169319, 169320, 169321], dtype=int64)"
      ]
     },
     "execution_count": 126,
     "metadata": {},
     "output_type": "execute_result"
    }
   ],
   "source": [
    "smaller_four = array_sums < 4\n",
    "np.argwhere(smaller_four).flatten()"
   ]
  },
  {
   "cell_type": "code",
   "execution_count": 95,
   "id": "02810fe1-00c0-48ca-9e28-f6cf6e2b028e",
   "metadata": {},
   "outputs": [],
   "source": [
    "equals_four = array_sums==4\n",
    "equals_four_indices = np.argwhere(equals_four).flatten()"
   ]
  },
  {
   "cell_type": "code",
   "execution_count": 127,
   "id": "8b59cb4e-441f-46a7-9729-1880df83f263",
   "metadata": {},
   "outputs": [],
   "source": [
    "import random \n",
    "equals_four_indices_sample = random.choices(equals_four_indices, k = int(equals_four_indices.size/2))"
   ]
  },
  {
   "cell_type": "code",
   "execution_count": 128,
   "id": "540614b4-52a9-47cd-8caf-9e00e736481f",
   "metadata": {},
   "outputs": [
    {
     "data": {
      "text/plain": [
       "320498"
      ]
     },
     "execution_count": 128,
     "metadata": {},
     "output_type": "execute_result"
    }
   ],
   "source": [
    "len(equals_four_indices)"
   ]
  },
  {
   "cell_type": "code",
   "execution_count": 129,
   "id": "cac2264d-b219-417e-ac3f-b05d815bce3b",
   "metadata": {},
   "outputs": [
    {
     "data": {
      "text/plain": [
       "160249"
      ]
     },
     "execution_count": 129,
     "metadata": {},
     "output_type": "execute_result"
    }
   ],
   "source": [
    "len(equals_four_indices_sample)"
   ]
  },
  {
   "cell_type": "code",
   "execution_count": 130,
   "id": "d0509f7c-5ac8-4820-bc15-c79e2e12d5a0",
   "metadata": {},
   "outputs": [
    {
     "ename": "IndexError",
     "evalue": "index 230994 is out of bounds for axis 0 with size 169322",
     "output_type": "error",
     "traceback": [
      "\u001b[1;31m---------------------------------------------------------------------------\u001b[0m",
      "\u001b[1;31mIndexError\u001b[0m                                Traceback (most recent call last)",
      "Cell \u001b[1;32mIn[130], line 2\u001b[0m\n\u001b[0;32m      1\u001b[0m to_keep \u001b[38;5;241m=\u001b[39m smaller_four\u001b[38;5;241m.\u001b[39mcopy()\n\u001b[1;32m----> 2\u001b[0m to_keep[equals_four_indices_sample] \u001b[38;5;241m=\u001b[39m \u001b[38;5;28;01mTrue\u001b[39;00m\n",
      "\u001b[1;31mIndexError\u001b[0m: index 230994 is out of bounds for axis 0 with size 169322"
     ]
    }
   ],
   "source": [
    "to_keep = smaller_four.copy()\n",
    "to_keep[equals_four_indices_sample] = True"
   ]
  },
  {
   "cell_type": "code",
   "execution_count": 103,
   "id": "fa441748-5b3b-4532-a677-b5b8f606f868",
   "metadata": {},
   "outputs": [
    {
     "data": {
      "text/plain": [
       "43200"
      ]
     },
     "execution_count": 103,
     "metadata": {},
     "output_type": "execute_result"
    }
   ],
   "source": [
    "smaller_four.sum()"
   ]
  },
  {
   "cell_type": "code",
   "execution_count": 102,
   "id": "68f80c90-8bc2-4f72-94ee-2c450e611e5a",
   "metadata": {},
   "outputs": [
    {
     "data": {
      "text/plain": [
       "169322"
      ]
     },
     "execution_count": 102,
     "metadata": {},
     "output_type": "execute_result"
    }
   ],
   "source": [
    "to_keep.sum()"
   ]
  },
  {
   "cell_type": "code",
   "execution_count": 104,
   "id": "37a7909b-80e1-48d6-8ed9-791c464d7339",
   "metadata": {},
   "outputs": [],
   "source": [
    "quads_to_keep = quads[to_keep]"
   ]
  },
  {
   "cell_type": "code",
   "execution_count": 107,
   "id": "16bd2c0b-d251-450b-be8f-69e6063fa9bc",
   "metadata": {},
   "outputs": [
    {
     "data": {
      "text/plain": [
       "565890"
      ]
     },
     "execution_count": 107,
     "metadata": {},
     "output_type": "execute_result"
    }
   ],
   "source": [
    "new_elements, new_counts = np.unique(quads_to_keep, return_counts=True)\n",
    "new_elements.size"
   ]
  },
  {
   "cell_type": "code",
   "execution_count": 118,
   "id": "58423a4b-37ec-4be5-90bc-54d4aa11435e",
   "metadata": {},
   "outputs": [],
   "source": [
    "x = new_counts > 1 "
   ]
  },
  {
   "cell_type": "code",
   "execution_count": 122,
   "id": "e2da6b1d-9b76-40a7-a8b8-c9b3cfc5bafe",
   "metadata": {},
   "outputs": [
    {
     "data": {
      "text/plain": [
       "array([False, False, False, ..., False, False, False])"
      ]
     },
     "execution_count": 122,
     "metadata": {},
     "output_type": "execute_result"
    }
   ],
   "source": [
    "x"
   ]
  },
  {
   "cell_type": "code",
   "execution_count": 119,
   "id": "4f164ec1-30b1-49e0-abf4-2c29a4e59972",
   "metadata": {},
   "outputs": [
    {
     "data": {
      "text/plain": [
       "106195"
      ]
     },
     "execution_count": 119,
     "metadata": {},
     "output_type": "execute_result"
    }
   ],
   "source": [
    "x.sum()"
   ]
  },
  {
   "cell_type": "code",
   "execution_count": 123,
   "id": "fca69cff-d0b4-4b1f-af71-c0bd47817918",
   "metadata": {},
   "outputs": [],
   "source": [
    "mask = np.isin(quads_to_keep, new_elements[new_counts > 1])"
   ]
  },
  {
   "cell_type": "code",
   "execution_count": 124,
   "id": "ccb916e2-3311-40e6-a067-bbcbc2cf5fd2",
   "metadata": {},
   "outputs": [
    {
     "data": {
      "text/plain": [
       "array([[False, False, False, False],\n",
       "       [False, False, False, False],\n",
       "       [False, False, False, False],\n",
       "       ...,\n",
       "       [False, False, False, False],\n",
       "       [False, False, False, False],\n",
       "       [False, False, False, False]])"
      ]
     },
     "execution_count": 124,
     "metadata": {},
     "output_type": "execute_result"
    }
   ],
   "source": [
    "mask"
   ]
  },
  {
   "cell_type": "code",
   "execution_count": 125,
   "id": "5353d58d-73e9-423e-b54d-c969ba110564",
   "metadata": {},
   "outputs": [
    {
     "data": {
      "text/plain": [
       "50632"
      ]
     },
     "execution_count": 125,
     "metadata": {},
     "output_type": "execute_result"
    }
   ],
   "source": [
    "array_sums = np.array([ar.sum() for ar in mask])\n",
    "still_equals_four = array_sums==4\n",
    "still_equals_four.sum()"
   ]
  },
  {
   "cell_type": "code",
   "execution_count": 113,
   "id": "511e5c65-01b1-4aae-ad3b-fe0dcce7c68b",
   "metadata": {},
   "outputs": [
    {
     "data": {
      "text/plain": [
       "2"
      ]
     },
     "execution_count": 113,
     "metadata": {},
     "output_type": "execute_result"
    }
   ],
   "source": [
    "equals_one = array_sums==1\n",
    "equals_one.sum()"
   ]
  },
  {
   "cell_type": "code",
   "execution_count": 114,
   "id": "8f6cfcfe-9012-4836-a442-3ec7aeae3412",
   "metadata": {},
   "outputs": [
    {
     "data": {
      "text/plain": [
       "106195"
      ]
     },
     "execution_count": 114,
     "metadata": {},
     "output_type": "execute_result"
    }
   ],
   "source": [
    "(np.unique(quads_to_keep, return_counts=True)[1] > 1).sum()"
   ]
  },
  {
   "cell_type": "code",
   "execution_count": 75,
   "id": "9d4fd802-f888-4627-8062-3fbce8c18025",
   "metadata": {},
   "outputs": [
    {
     "data": {
      "text/plain": [
       "43200"
      ]
     },
     "execution_count": 75,
     "metadata": {},
     "output_type": "execute_result"
    }
   ],
   "source": [
    "smaller_four.sum()"
   ]
  },
  {
   "cell_type": "code",
   "execution_count": 71,
   "id": "e7eb78a6-a261-4bce-8b89-2d4205163868",
   "metadata": {},
   "outputs": [
    {
     "data": {
      "text/plain": [
       "363698"
      ]
     },
     "execution_count": 71,
     "metadata": {},
     "output_type": "execute_result"
    }
   ],
   "source": [
    "len(smaller_four)"
   ]
  },
  {
   "cell_type": "code",
   "execution_count": 77,
   "id": "92f64d35-426b-426f-b8d0-66156a13c775",
   "metadata": {},
   "outputs": [],
   "source": [
    "quads_smaller_four = quads[smaller_four]\n"
   ]
  },
  {
   "cell_type": "code",
   "execution_count": 83,
   "id": "31d3c533-3460-4087-bd28-ca67126f418e",
   "metadata": {
    "scrolled": true
   },
   "outputs": [
    {
     "data": {
      "text/plain": [
       "1111"
      ]
     },
     "execution_count": 83,
     "metadata": {},
     "output_type": "execute_result"
    }
   ],
   "source": [
    "(np.unique(quads_smaller_four, return_counts=True)[1] > 1).sum()"
   ]
  },
  {
   "cell_type": "code",
   "execution_count": 85,
   "id": "b1f3aeec-d799-474b-821e-a6894b67121e",
   "metadata": {},
   "outputs": [
    {
     "data": {
      "text/plain": [
       "171519"
      ]
     },
     "execution_count": 85,
     "metadata": {},
     "output_type": "execute_result"
    }
   ],
   "source": [
    "new_elements, new_counts = np.unique(quads_smaller_four, return_counts=True)\n",
    "new_elements.size"
   ]
  },
  {
   "cell_type": "code",
   "execution_count": 35,
   "id": "c783f1a4-1367-4729-9721-e14250281334",
   "metadata": {},
   "outputs": [
    {
     "data": {
      "text/plain": [
       "array([[ 65332,  61419,  87689, 696034],\n",
       "       [752366, 143559, 583505, 275851],\n",
       "       [557935, 672033, 411953,  37402],\n",
       "       ...,\n",
       "       [496711, 254275, 593174, 531678],\n",
       "       [708638, 519395, 620721, 708518],\n",
       "       [303874,  36521, 444815, 400026]], dtype=int64)"
      ]
     },
     "execution_count": 35,
     "metadata": {},
     "output_type": "execute_result"
    }
   ],
   "source": [
    "quads"
   ]
  },
  {
   "cell_type": "code",
   "execution_count": 36,
   "id": "7d7cf4d1-961f-47bb-a13b-0087677d5bd2",
   "metadata": {},
   "outputs": [
    {
     "name": "stdout",
     "output_type": "stream",
     "text": [
      "[[     0      0      0      0]\n",
      " [     0      0      0      0]\n",
      " [     0      0      0      0]\n",
      " ...\n",
      " [496711 254275 593174 531678]\n",
      " [708638 519395 620721 708518]\n",
      " [303874  36521 444815 400026]]\n"
     ]
    }
   ],
   "source": [
    "print(quads * mask_reshaped)"
   ]
  },
  {
   "cell_type": "code",
   "execution_count": 28,
   "id": "b98858c8-b13c-4902-aa05-76ee47eb8f86",
   "metadata": {},
   "outputs": [
    {
     "data": {
      "text/plain": [
       "324748"
      ]
     },
     "execution_count": 28,
     "metadata": {},
     "output_type": "execute_result"
    }
   ],
   "source": [
    "len(overlaps_groups)"
   ]
  },
  {
   "cell_type": "code",
   "execution_count": 30,
   "id": "6eb730cf-fe83-44d9-82a2-242f73732dde",
   "metadata": {},
   "outputs": [
    {
     "name": "stdout",
     "output_type": "stream",
     "text": [
      "[array([[2],\n",
      "       [3]], dtype=int64), array([[0],\n",
      "       [1]], dtype=int64), array([[0]], dtype=int64), array([[0]], dtype=int64), array([[0]], dtype=int64), array([[0]], dtype=int64), array([[0]], dtype=int64), array([[0]], dtype=int64), array([[0]], dtype=int64), array([[0]], dtype=int64)]\n"
     ]
    }
   ],
   "source": [
    "print(overlaps_groups[:10])"
   ]
  },
  {
   "cell_type": "code",
   "execution_count": null,
   "id": "2d99bc3c-5321-4b36-b85c-dee692103b4e",
   "metadata": {},
   "outputs": [],
   "source": []
  }
 ],
 "metadata": {
  "kernelspec": {
   "display_name": "Python 3 (ipykernel)",
   "language": "python",
   "name": "python3"
  },
  "language_info": {
   "codemirror_mode": {
    "name": "ipython",
    "version": 3
   },
   "file_extension": ".py",
   "mimetype": "text/x-python",
   "name": "python",
   "nbconvert_exporter": "python",
   "pygments_lexer": "ipython3",
   "version": "3.8.18"
  }
 },
 "nbformat": 4,
 "nbformat_minor": 5
}
