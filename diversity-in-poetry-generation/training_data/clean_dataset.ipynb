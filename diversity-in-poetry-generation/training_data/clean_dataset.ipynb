{
 "cells": [
  {
   "cell_type": "markdown",
   "id": "72aad14e-9622-41d0-8358-d08ec64422ce",
   "metadata": {},
   "source": [
    "# Cleaning the QuaTrain datasets "
   ]
  },
  {
   "cell_type": "markdown",
   "id": "f9e7b5be-b515-4b00-b605-aa97385f3f4a",
   "metadata": {},
   "source": [
    "## Sequential filtering "
   ]
  },
  {
   "cell_type": "code",
   "execution_count": 1,
   "id": "9ef9a94e-05d2-49eb-8fed-ee0540e97e34",
   "metadata": {},
   "outputs": [],
   "source": [
    "import pandas as pd"
   ]
  },
  {
   "cell_type": "code",
   "execution_count": 2,
   "id": "3114d714-eb52-48ee-b223-b6b34c40bd66",
   "metadata": {},
   "outputs": [],
   "source": [
    "import itertools"
   ]
  },
  {
   "cell_type": "code",
   "execution_count": 3,
   "id": "6aad4802-3e63-4ffc-bc25-1538abe1a30d",
   "metadata": {},
   "outputs": [],
   "source": [
    "import pickle "
   ]
  },
  {
   "cell_type": "code",
   "execution_count": 4,
   "id": "50b59773-ad78-49a2-b166-96fa7e2fe842",
   "metadata": {},
   "outputs": [],
   "source": [
    "import numpy as np \n",
    "import math "
   ]
  },
  {
   "cell_type": "code",
   "execution_count": 5,
   "id": "c50d97b6-6fdf-4c81-a3ca-6f53bc0fae84",
   "metadata": {},
   "outputs": [],
   "source": [
    "# data from https://github.com/potamides/uniformers/tree/main\n",
    "df_de = pd.read_json('dataset/QuaTrain-de.json', lines=True)\n",
    "df_en = pd.read_json('dataset/QuaTrain-en.json', lines=True)"
   ]
  },
  {
   "cell_type": "code",
   "execution_count": 66,
   "id": "ed47a5c0-7265-4a32-8552-75ce0ee07dc0",
   "metadata": {},
   "outputs": [
    {
     "data": {
      "text/plain": [
       "1483685"
      ]
     },
     "execution_count": 66,
     "metadata": {},
     "output_type": "execute_result"
    }
   ],
   "source": [
    "len(df_de)"
   ]
  },
  {
   "cell_type": "code",
   "execution_count": 5,
   "id": "7a7c33f2-4f3c-4704-a013-152c282b3664",
   "metadata": {},
   "outputs": [
    {
     "data": {
      "text/html": [
       "<div>\n",
       "<style scoped>\n",
       "    .dataframe tbody tr th:only-of-type {\n",
       "        vertical-align: middle;\n",
       "    }\n",
       "\n",
       "    .dataframe tbody tr th {\n",
       "        vertical-align: top;\n",
       "    }\n",
       "\n",
       "    .dataframe thead th {\n",
       "        text-align: right;\n",
       "    }\n",
       "</style>\n",
       "<table border=\"1\" class=\"dataframe\">\n",
       "  <thead>\n",
       "    <tr style=\"text-align: right;\">\n",
       "      <th></th>\n",
       "      <th>text</th>\n",
       "      <th>language</th>\n",
       "      <th>rhyme</th>\n",
       "      <th>meter</th>\n",
       "      <th>alliteration</th>\n",
       "    </tr>\n",
       "  </thead>\n",
       "  <tbody>\n",
       "    <tr>\n",
       "      <th>0</th>\n",
       "      <td>[Da jener Elbe-Schwan der Gottheit Ruhm, Da Br...</td>\n",
       "      <td>de</td>\n",
       "      <td>ABCD</td>\n",
       "      <td>iambus</td>\n",
       "      <td>0.040973</td>\n",
       "    </tr>\n",
       "    <tr>\n",
       "      <th>1</th>\n",
       "      <td>[Da Brokkes Saitenspiel, so oft das Herze, Das...</td>\n",
       "      <td>de</td>\n",
       "      <td>ABCD</td>\n",
       "      <td>iambus</td>\n",
       "      <td>0.054848</td>\n",
       "    </tr>\n",
       "    <tr>\n",
       "      <th>2</th>\n",
       "      <td>[gen, der belebt Feld, Berg und Thal;, Der erw...</td>\n",
       "      <td>de</td>\n",
       "      <td>ABCD</td>\n",
       "      <td>iambus</td>\n",
       "      <td>0.023747</td>\n",
       "    </tr>\n",
       "    <tr>\n",
       "      <th>3</th>\n",
       "      <td>[Ueber die erhabnen Berge, und erwekt das Feld...</td>\n",
       "      <td>de</td>\n",
       "      <td>ABCD</td>\n",
       "      <td>alexandrine</td>\n",
       "      <td>0.044927</td>\n",
       "    </tr>\n",
       "    <tr>\n",
       "      <th>4</th>\n",
       "      <td>[Als mit holden Dünsten füllet; da was aus den...</td>\n",
       "      <td>de</td>\n",
       "      <td>ABCD</td>\n",
       "      <td>other</td>\n",
       "      <td>0.084108</td>\n",
       "    </tr>\n",
       "  </tbody>\n",
       "</table>\n",
       "</div>"
      ],
      "text/plain": [
       "                                                text language rhyme  \\\n",
       "0  [Da jener Elbe-Schwan der Gottheit Ruhm, Da Br...       de  ABCD   \n",
       "1  [Da Brokkes Saitenspiel, so oft das Herze, Das...       de  ABCD   \n",
       "2  [gen, der belebt Feld, Berg und Thal;, Der erw...       de  ABCD   \n",
       "3  [Ueber die erhabnen Berge, und erwekt das Feld...       de  ABCD   \n",
       "4  [Als mit holden Dünsten füllet; da was aus den...       de  ABCD   \n",
       "\n",
       "         meter  alliteration  \n",
       "0       iambus      0.040973  \n",
       "1       iambus      0.054848  \n",
       "2       iambus      0.023747  \n",
       "3  alexandrine      0.044927  \n",
       "4        other      0.084108  "
      ]
     },
     "execution_count": 5,
     "metadata": {},
     "output_type": "execute_result"
    }
   ],
   "source": [
    "df_de.head()"
   ]
  },
  {
   "cell_type": "code",
   "execution_count": 67,
   "id": "233ca3df-08d2-4679-897b-cb47db173a3e",
   "metadata": {},
   "outputs": [
    {
     "data": {
      "text/plain": [
       "662885"
      ]
     },
     "execution_count": 67,
     "metadata": {},
     "output_type": "execute_result"
    }
   ],
   "source": [
    "len(df_en)"
   ]
  },
  {
   "cell_type": "code",
   "execution_count": null,
   "id": "871d0353-0202-4d75-b400-54f3e5699618",
   "metadata": {},
   "outputs": [],
   "source": [
    "vocab_de_original = np.unique(np.concatenate(list(df_de[\"text\"])))"
   ]
  },
  {
   "cell_type": "code",
   "execution_count": 7,
   "id": "d8c5f0a7-b1c7-4bd8-81f7-958f4a5f93c4",
   "metadata": {},
   "outputs": [
    {
     "data": {
      "text/plain": [
       "1416395"
      ]
     },
     "execution_count": 7,
     "metadata": {},
     "output_type": "execute_result"
    }
   ],
   "source": [
    "len(vocab_de_original)"
   ]
  },
  {
   "cell_type": "code",
   "execution_count": null,
   "id": "20fb6407-be00-4647-9c21-fe25b3b85663",
   "metadata": {},
   "outputs": [],
   "source": [
    "vocab_en_original = np.unique(np.concatenate(list(df_en[\"text\"])))\n"
   ]
  },
  {
   "cell_type": "code",
   "execution_count": 10,
   "id": "c7e18a50-1ad4-4694-8f5d-33bac7d37a44",
   "metadata": {},
   "outputs": [
    {
     "data": {
      "text/plain": [
       "969129"
      ]
     },
     "execution_count": 10,
     "metadata": {},
     "output_type": "execute_result"
    }
   ],
   "source": [
    "len(vocab_en_original)"
   ]
  },
  {
   "cell_type": "code",
   "execution_count": 17,
   "id": "e120cf20-7981-4da2-9e03-36e3cff8414f",
   "metadata": {},
   "outputs": [],
   "source": [
    "def sequential_filter(df):\n",
    "    last_t = \"\"\n",
    "    overlapping = []\n",
    "    unique_rows = []\n",
    "    for i, row in df.iterrows():\n",
    "        if list(row[\"text\"])[0] == last_t and len(overlapping) < 4:\n",
    "            overlapping.append(row)\n",
    "        elif len(overlapping) == 0:\n",
    "            overlapping = [row]\n",
    "        else:\n",
    "            unique_rows.append(overlapping[0])\n",
    "            overlapping = [row]\n",
    "        last_t = list(row[\"text\"])[1]\n",
    "    unique_rows.append(overlapping[0]) \n",
    "    #print(unique_rows)   \n",
    "    df_unique = pd.DataFrame(unique_rows)\n",
    "    return(df_unique)"
   ]
  },
  {
   "cell_type": "code",
   "execution_count": 18,
   "id": "37a224ba-1ac9-44db-9fab-bfc19a2d1c10",
   "metadata": {},
   "outputs": [],
   "source": [
    "df_de_unique = sequential_filter(df_de)"
   ]
  },
  {
   "cell_type": "code",
   "execution_count": 19,
   "id": "94d02aa7-7010-47bd-a18e-24b9b8c94675",
   "metadata": {},
   "outputs": [
    {
     "data": {
      "text/plain": [
       "587556"
      ]
     },
     "execution_count": 19,
     "metadata": {},
     "output_type": "execute_result"
    }
   ],
   "source": [
    "len(df_de_unique)"
   ]
  },
  {
   "cell_type": "code",
   "execution_count": 20,
   "id": "69697182-0db4-4843-80b9-4af611225b25",
   "metadata": {},
   "outputs": [],
   "source": [
    "vocab, inv, counts = np.unique(np.concatenate(list(df_de_unique[\"text\"])), return_inverse=True, return_counts = True)"
   ]
  },
  {
   "cell_type": "code",
   "execution_count": 30,
   "id": "b5d2e6a4-6366-4656-b0ba-d28693f60ee8",
   "metadata": {},
   "outputs": [],
   "source": [
    "df_en_unique = sequential_filter(df_en)"
   ]
  },
  {
   "cell_type": "code",
   "execution_count": 12,
   "id": "548d96da-e354-4624-80dc-6af827bfee61",
   "metadata": {},
   "outputs": [
    {
     "data": {
      "text/plain": [
       "363698"
      ]
     },
     "execution_count": 12,
     "metadata": {},
     "output_type": "execute_result"
    }
   ],
   "source": [
    "len(df_de_unique)"
   ]
  },
  {
   "cell_type": "code",
   "execution_count": 32,
   "id": "7fa71aee-2497-471e-bcd5-40d938b0cacf",
   "metadata": {},
   "outputs": [
    {
     "data": {
      "text/plain": [
       "236753"
      ]
     },
     "execution_count": 32,
     "metadata": {},
     "output_type": "execute_result"
    }
   ],
   "source": [
    "len(df_en_unique)"
   ]
  },
  {
   "cell_type": "code",
   "execution_count": 41,
   "id": "d71e349e-77c1-46ab-ab1b-40e01fd32020",
   "metadata": {},
   "outputs": [],
   "source": [
    "with open('dataset/QuaTrain-en-unique.pkl', 'wb') as f:\n",
    "    pickle.dump(df_en_unique, f)"
   ]
  },
  {
   "cell_type": "code",
   "execution_count": 42,
   "id": "97c72acc-4f8e-479f-a8c3-327f468d15e0",
   "metadata": {},
   "outputs": [],
   "source": [
    "with open('dataset/QuaTrain-de-unique.pkl', 'wb') as f:\n",
    "    pickle.dump(df_de_unique, f)"
   ]
  },
  {
   "cell_type": "markdown",
   "id": "7bdc1d18-da25-4ae8-8963-cb451415bf54",
   "metadata": {},
   "source": [
    "## Eliminating remaining overlaps "
   ]
  },
  {
   "cell_type": "code",
   "execution_count": 11,
   "id": "eee7444a-a41d-4384-90ee-dd185928e7c9",
   "metadata": {},
   "outputs": [],
   "source": [
    "with open('dataset/QuaTrain-de-unique.pkl', 'rb') as f:\n",
    "    df_de_unique = pickle.load(f)"
   ]
  },
  {
   "cell_type": "code",
   "execution_count": 14,
   "id": "9469ed26-7cd1-433e-afbf-aaea7e49891b",
   "metadata": {},
   "outputs": [],
   "source": [
    "with open('dataset/QuaTrain-en-unique.pkl', 'rb') as f:\n",
    "    df_en_unique = pickle.load(f)"
   ]
  },
  {
   "cell_type": "code",
   "execution_count": 25,
   "id": "cb245485-0e1b-4e4b-a331-341695819813",
   "metadata": {},
   "outputs": [],
   "source": [
    "def get_unique_quatrains(quads, vocab, index, p = 10):\n",
    "    i = 0\n",
    "    quads_current = quads.copy()\n",
    "    while sum(np.unique(quads_current, return_counts=True)[1]>1) > 0: \n",
    "        print(\"iteration \", i)\n",
    "        i += 1 \n",
    "        tokens, inv, counts = np.unique(quads_current, return_counts=True, return_inverse=True)\n",
    "        vocab = vocab[tokens]\n",
    "        quads_current = np.resize(inv, (int(inv.size/4), 4))\n",
    "        #print(\"quads_current\", quads_current)\n",
    "        print(\"number of double elements:\", sum(counts>1))\n",
    "        quad_counts = []\n",
    "        for arr in quads_current: \n",
    "            num_arr = []\n",
    "            for num in arr:\n",
    "                num_arr.append(counts[num])\n",
    "            quad_counts.append(num_arr)\n",
    "        quad_count_sums = [sum(arr) for arr in quad_counts]\n",
    "        quad_indices_sorted = sorted(range(len(quad_count_sums)), key=lambda k: quad_count_sums[k])\n",
    "        double_num = (np.array(quad_count_sums)>4).sum()\n",
    "        num_to_delete = math.ceil(double_num/p)\n",
    "        print(\"elements to be deleted: \", num_to_delete)\n",
    "        to_delete = np.array(quad_indices_sorted[-num_to_delete:])\n",
    "        mask = np.ones(len(quads_current), dtype=bool)\n",
    "        mask[to_delete] = False\n",
    "        quads_current = quads_current[mask]\n",
    "        index = index[mask]\n",
    "        print(\"number of QuaTrains remaining: \", len(quads_current))\n",
    "    return(quads_current, vocab, index)"
   ]
  },
  {
   "cell_type": "markdown",
   "id": "b005d600-bd87-4527-98d7-b922f9a2a287",
   "metadata": {},
   "source": [
    "### German data"
   ]
  },
  {
   "cell_type": "code",
   "execution_count": 12,
   "id": "a13bbef6-6266-48f8-85fd-d0083b48ec19",
   "metadata": {},
   "outputs": [],
   "source": [
    "vocab, inv, counts = np.unique(np.concatenate(list(df_de_unique[\"text\"])), return_inverse=True, return_counts = True)"
   ]
  },
  {
   "cell_type": "code",
   "execution_count": 39,
   "id": "5ab684d4-c55e-458b-b436-757b92061e0e",
   "metadata": {},
   "outputs": [
    {
     "data": {
      "text/plain": [
       "1295972"
      ]
     },
     "execution_count": 39,
     "metadata": {},
     "output_type": "execute_result"
    }
   ],
   "source": [
    "# number of unique lines in the data \n",
    "len(vocab)"
   ]
  },
  {
   "cell_type": "code",
   "execution_count": 22,
   "id": "ddc061f8-e435-4dfd-a743-707e8b639c56",
   "metadata": {},
   "outputs": [],
   "source": [
    "# Quatrains with lines encoded as indexes in vocab\n",
    "quads = np.resize(inv, (int(inv.size/4), 4))"
   ]
  },
  {
   "cell_type": "code",
   "execution_count": 23,
   "id": "4ebc7be4-aa4a-4a4d-9930-0240dc7f2554",
   "metadata": {},
   "outputs": [
    {
     "name": "stdout",
     "output_type": "stream",
     "text": [
      "[[ 108516  102251  144594 1140759]\n",
      " [1234052  240664  952902  458133]\n",
      " [ 907584 1102406  672988   62561]\n",
      " ...\n",
      " [ 806337  423299  969311  865509]\n",
      " [1160603  843661 1016932 1160434]\n",
      " [ 502582   61155  725472  654373]]\n"
     ]
    }
   ],
   "source": [
    "print(quads)"
   ]
  },
  {
   "cell_type": "code",
   "execution_count": 26,
   "id": "f1d3cf65-28cf-4211-af6d-4faa6fca5666",
   "metadata": {},
   "outputs": [
    {
     "name": "stdout",
     "output_type": "stream",
     "text": [
      "iteration  0\n",
      "number of double elements: 993653\n",
      "elements to be deleted:  51577\n",
      "number of QuaTrains remaining:  535979\n",
      "iteration  1\n",
      "number of double elements: 918406\n",
      "elements to be deleted:  46200\n",
      "number of QuaTrains remaining:  489779\n",
      "iteration  2\n",
      "number of double elements: 826082\n",
      "elements to be deleted:  41475\n",
      "number of QuaTrains remaining:  448304\n",
      "iteration  3\n",
      "number of double elements: 743099\n",
      "elements to be deleted:  37326\n",
      "number of QuaTrains remaining:  410978\n",
      "iteration  4\n",
      "number of double elements: 668425\n",
      "elements to be deleted:  33592\n",
      "number of QuaTrains remaining:  377386\n",
      "iteration  5\n",
      "number of double elements: 601237\n",
      "elements to be deleted:  30232\n",
      "number of QuaTrains remaining:  347154\n",
      "iteration  6\n",
      "number of double elements: 540753\n",
      "elements to be deleted:  27208\n",
      "number of QuaTrains remaining:  319946\n",
      "iteration  7\n",
      "number of double elements: 486333\n",
      "elements to be deleted:  24487\n",
      "number of QuaTrains remaining:  295459\n",
      "iteration  8\n",
      "number of double elements: 437350\n",
      "elements to be deleted:  22038\n",
      "number of QuaTrains remaining:  273421\n",
      "iteration  9\n",
      "number of double elements: 393260\n",
      "elements to be deleted:  19833\n",
      "number of QuaTrains remaining:  253588\n",
      "iteration  10\n",
      "number of double elements: 353588\n",
      "elements to be deleted:  17850\n",
      "number of QuaTrains remaining:  235738\n",
      "iteration  11\n",
      "number of double elements: 317884\n",
      "elements to be deleted:  16064\n",
      "number of QuaTrains remaining:  219674\n",
      "iteration  12\n",
      "number of double elements: 285636\n",
      "elements to be deleted:  14452\n",
      "number of QuaTrains remaining:  205222\n",
      "iteration  13\n",
      "number of double elements: 256683\n",
      "elements to be deleted:  13004\n",
      "number of QuaTrains remaining:  192218\n",
      "iteration  14\n",
      "number of double elements: 230663\n",
      "elements to be deleted:  11703\n",
      "number of QuaTrains remaining:  180515\n",
      "iteration  15\n",
      "number of double elements: 207239\n",
      "elements to be deleted:  10532\n",
      "number of QuaTrains remaining:  169983\n",
      "iteration  16\n",
      "number of double elements: 186159\n",
      "elements to be deleted:  9477\n",
      "number of QuaTrains remaining:  160506\n",
      "iteration  17\n",
      "number of double elements: 167051\n",
      "elements to be deleted:  8522\n",
      "number of QuaTrains remaining:  151984\n",
      "iteration  18\n",
      "number of double elements: 149955\n",
      "elements to be deleted:  7667\n",
      "number of QuaTrains remaining:  144317\n",
      "iteration  19\n",
      "number of double elements: 134583\n",
      "elements to be deleted:  6899\n",
      "number of QuaTrains remaining:  137418\n",
      "iteration  20\n",
      "number of double elements: 120723\n",
      "elements to be deleted:  6206\n",
      "number of QuaTrains remaining:  131212\n",
      "iteration  21\n",
      "number of double elements: 108279\n",
      "elements to be deleted:  5584\n",
      "number of QuaTrains remaining:  125628\n",
      "iteration  22\n",
      "number of double elements: 96811\n",
      "elements to be deleted:  5010\n",
      "number of QuaTrains remaining:  120618\n",
      "iteration  23\n",
      "number of double elements: 86775\n",
      "elements to be deleted:  4508\n",
      "number of QuaTrains remaining:  116110\n",
      "iteration  24\n",
      "number of double elements: 77759\n",
      "elements to be deleted:  4058\n",
      "number of QuaTrains remaining:  112052\n",
      "iteration  25\n",
      "number of double elements: 69603\n",
      "elements to be deleted:  3650\n",
      "number of QuaTrains remaining:  108402\n",
      "iteration  26\n",
      "number of double elements: 62303\n",
      "elements to be deleted:  3285\n",
      "number of QuaTrains remaining:  105117\n",
      "iteration  27\n",
      "number of double elements: 55727\n",
      "elements to be deleted:  2956\n",
      "number of QuaTrains remaining:  102161\n",
      "iteration  28\n",
      "number of double elements: 49803\n",
      "elements to be deleted:  2660\n",
      "number of QuaTrains remaining:  99501\n",
      "iteration  29\n",
      "number of double elements: 44375\n",
      "elements to be deleted:  2388\n",
      "number of QuaTrains remaining:  97113\n",
      "iteration  30\n",
      "number of double elements: 39571\n",
      "elements to be deleted:  2148\n",
      "number of QuaTrains remaining:  94965\n",
      "iteration  31\n",
      "number of double elements: 35271\n",
      "elements to be deleted:  1933\n",
      "number of QuaTrains remaining:  93032\n",
      "iteration  32\n",
      "number of double elements: 31311\n",
      "elements to be deleted:  1735\n",
      "number of QuaTrains remaining:  91297\n",
      "iteration  33\n",
      "number of double elements: 27839\n",
      "elements to be deleted:  1562\n",
      "number of QuaTrains remaining:  89735\n",
      "iteration  34\n",
      "number of double elements: 24703\n",
      "elements to be deleted:  1405\n",
      "number of QuaTrains remaining:  88330\n",
      "iteration  35\n",
      "number of double elements: 21887\n",
      "elements to be deleted:  1264\n",
      "number of QuaTrains remaining:  87066\n",
      "iteration  36\n",
      "number of double elements: 19355\n",
      "elements to be deleted:  1137\n",
      "number of QuaTrains remaining:  85929\n",
      "iteration  37\n",
      "number of double elements: 17055\n",
      "elements to be deleted:  1022\n",
      "number of QuaTrains remaining:  84907\n",
      "iteration  38\n",
      "number of double elements: 15011\n",
      "elements to be deleted:  920\n",
      "number of QuaTrains remaining:  83987\n",
      "iteration  39\n",
      "number of double elements: 13075\n",
      "elements to be deleted:  823\n",
      "number of QuaTrains remaining:  83164\n",
      "iteration  40\n",
      "number of double elements: 11427\n",
      "elements to be deleted:  741\n",
      "number of QuaTrains remaining:  82423\n",
      "iteration  41\n",
      "number of double elements: 9911\n",
      "elements to be deleted:  665\n",
      "number of QuaTrains remaining:  81758\n",
      "iteration  42\n",
      "number of double elements: 8571\n",
      "elements to be deleted:  598\n",
      "number of QuaTrains remaining:  81160\n",
      "iteration  43\n",
      "number of double elements: 7371\n",
      "elements to be deleted:  538\n",
      "number of QuaTrains remaining:  80622\n",
      "iteration  44\n",
      "number of double elements: 6287\n",
      "elements to be deleted:  484\n",
      "number of QuaTrains remaining:  80138\n",
      "iteration  45\n",
      "number of double elements: 5307\n",
      "elements to be deleted:  435\n",
      "number of QuaTrains remaining:  79703\n",
      "iteration  46\n",
      "number of double elements: 4435\n",
      "elements to be deleted:  391\n",
      "number of QuaTrains remaining:  79312\n",
      "iteration  47\n",
      "number of double elements: 3647\n",
      "elements to be deleted:  352\n",
      "number of QuaTrains remaining:  78960\n",
      "iteration  48\n",
      "number of double elements: 2943\n",
      "elements to be deleted:  317\n",
      "number of QuaTrains remaining:  78643\n",
      "iteration  49\n",
      "number of double elements: 2231\n",
      "elements to be deleted:  279\n",
      "number of QuaTrains remaining:  78364\n",
      "iteration  50\n",
      "number of double elements: 1703\n",
      "elements to be deleted:  244\n",
      "number of QuaTrains remaining:  78120\n",
      "iteration  51\n",
      "number of double elements: 1367\n",
      "elements to be deleted:  216\n",
      "number of QuaTrains remaining:  77904\n",
      "iteration  52\n",
      "number of double elements: 1113\n",
      "elements to be deleted:  186\n",
      "number of QuaTrains remaining:  77718\n",
      "iteration  53\n",
      "number of double elements: 949\n",
      "elements to be deleted:  166\n",
      "number of QuaTrains remaining:  77552\n",
      "iteration  54\n",
      "number of double elements: 800\n",
      "elements to be deleted:  148\n",
      "number of QuaTrains remaining:  77404\n",
      "iteration  55\n",
      "number of double elements: 663\n",
      "elements to be deleted:  132\n",
      "number of QuaTrains remaining:  77272\n",
      "iteration  56\n",
      "number of double elements: 573\n",
      "elements to be deleted:  115\n",
      "number of QuaTrains remaining:  77157\n",
      "iteration  57\n",
      "number of double elements: 505\n",
      "elements to be deleted:  101\n",
      "number of QuaTrains remaining:  77056\n",
      "iteration  58\n",
      "number of double elements: 451\n",
      "elements to be deleted:  91\n",
      "number of QuaTrains remaining:  76965\n",
      "iteration  59\n",
      "number of double elements: 388\n",
      "elements to be deleted:  78\n",
      "number of QuaTrains remaining:  76887\n",
      "iteration  60\n",
      "number of double elements: 348\n",
      "elements to be deleted:  70\n",
      "number of QuaTrains remaining:  76817\n",
      "iteration  61\n",
      "number of double elements: 308\n",
      "elements to be deleted:  62\n",
      "number of QuaTrains remaining:  76755\n",
      "iteration  62\n",
      "number of double elements: 275\n",
      "elements to be deleted:  55\n",
      "number of QuaTrains remaining:  76700\n",
      "iteration  63\n",
      "number of double elements: 243\n",
      "elements to be deleted:  49\n",
      "number of QuaTrains remaining:  76651\n",
      "iteration  64\n",
      "number of double elements: 212\n",
      "elements to be deleted:  43\n",
      "number of QuaTrains remaining:  76608\n",
      "iteration  65\n",
      "number of double elements: 190\n",
      "elements to be deleted:  38\n",
      "number of QuaTrains remaining:  76570\n",
      "iteration  66\n",
      "number of double elements: 170\n",
      "elements to be deleted:  34\n",
      "number of QuaTrains remaining:  76536\n",
      "iteration  67\n",
      "number of double elements: 151\n",
      "elements to be deleted:  31\n",
      "number of QuaTrains remaining:  76505\n",
      "iteration  68\n",
      "number of double elements: 131\n",
      "elements to be deleted:  27\n",
      "number of QuaTrains remaining:  76478\n",
      "iteration  69\n",
      "number of double elements: 116\n",
      "elements to be deleted:  24\n",
      "number of QuaTrains remaining:  76454\n",
      "iteration  70\n",
      "number of double elements: 104\n",
      "elements to be deleted:  21\n",
      "number of QuaTrains remaining:  76433\n",
      "iteration  71\n",
      "number of double elements: 93\n",
      "elements to be deleted:  19\n",
      "number of QuaTrains remaining:  76414\n",
      "iteration  72\n",
      "number of double elements: 82\n",
      "elements to be deleted:  17\n",
      "number of QuaTrains remaining:  76397\n",
      "iteration  73\n",
      "number of double elements: 72\n",
      "elements to be deleted:  15\n",
      "number of QuaTrains remaining:  76382\n",
      "iteration  74\n",
      "number of double elements: 64\n",
      "elements to be deleted:  13\n",
      "number of QuaTrains remaining:  76369\n",
      "iteration  75\n",
      "number of double elements: 57\n",
      "elements to be deleted:  12\n",
      "number of QuaTrains remaining:  76357\n",
      "iteration  76\n",
      "number of double elements: 50\n",
      "elements to be deleted:  10\n",
      "number of QuaTrains remaining:  76347\n",
      "iteration  77\n",
      "number of double elements: 44\n",
      "elements to be deleted:  9\n",
      "number of QuaTrains remaining:  76338\n",
      "iteration  78\n",
      "number of double elements: 39\n",
      "elements to be deleted:  8\n",
      "number of QuaTrains remaining:  76330\n",
      "iteration  79\n",
      "number of double elements: 35\n",
      "elements to be deleted:  7\n",
      "number of QuaTrains remaining:  76323\n",
      "iteration  80\n",
      "number of double elements: 30\n",
      "elements to be deleted:  6\n",
      "number of QuaTrains remaining:  76317\n",
      "iteration  81\n",
      "number of double elements: 27\n",
      "elements to be deleted:  6\n",
      "number of QuaTrains remaining:  76311\n",
      "iteration  82\n",
      "number of double elements: 23\n",
      "elements to be deleted:  5\n",
      "number of QuaTrains remaining:  76306\n",
      "iteration  83\n",
      "number of double elements: 19\n",
      "elements to be deleted:  4\n",
      "number of QuaTrains remaining:  76302\n",
      "iteration  84\n",
      "number of double elements: 17\n",
      "elements to be deleted:  4\n",
      "number of QuaTrains remaining:  76298\n",
      "iteration  85\n",
      "number of double elements: 15\n",
      "elements to be deleted:  3\n",
      "number of QuaTrains remaining:  76295\n",
      "iteration  86\n",
      "number of double elements: 13\n",
      "elements to be deleted:  3\n",
      "number of QuaTrains remaining:  76292\n",
      "iteration  87\n",
      "number of double elements: 11\n",
      "elements to be deleted:  3\n",
      "number of QuaTrains remaining:  76289\n",
      "iteration  88\n",
      "number of double elements: 9\n",
      "elements to be deleted:  2\n",
      "number of QuaTrains remaining:  76287\n",
      "iteration  89\n",
      "number of double elements: 8\n",
      "elements to be deleted:  2\n",
      "number of QuaTrains remaining:  76285\n",
      "iteration  90\n",
      "number of double elements: 6\n",
      "elements to be deleted:  2\n",
      "number of QuaTrains remaining:  76283\n",
      "iteration  91\n",
      "number of double elements: 5\n",
      "elements to be deleted:  1\n",
      "number of QuaTrains remaining:  76282\n",
      "iteration  92\n",
      "number of double elements: 4\n",
      "elements to be deleted:  1\n",
      "number of QuaTrains remaining:  76281\n",
      "iteration  93\n",
      "number of double elements: 3\n",
      "elements to be deleted:  1\n",
      "number of QuaTrains remaining:  76280\n",
      "iteration  94\n",
      "number of double elements: 2\n",
      "elements to be deleted:  1\n",
      "number of QuaTrains remaining:  76279\n",
      "iteration  95\n",
      "number of double elements: 1\n",
      "elements to be deleted:  1\n",
      "number of QuaTrains remaining:  76278\n"
     ]
    }
   ],
   "source": [
    "# 1/p is the fraction of Quatrains containing duplicates that are eliminated at each step\n",
    "quads_unique_p10, vocab_new, quad_index = get_unique_quatrains(quads, vocab, df_de_unique.index, p=10)"
   ]
  },
  {
   "cell_type": "code",
   "execution_count": 27,
   "id": "940a79cb-706e-4264-b80f-5e69f6af0c20",
   "metadata": {},
   "outputs": [],
   "source": [
    "# df containing non-overlapping Quatrains\n",
    "unique_rows_de = df_de_unique.loc[quad_index, :]"
   ]
  },
  {
   "cell_type": "code",
   "execution_count": 28,
   "id": "a5febafc-520a-44c1-a7c8-9671965598ab",
   "metadata": {},
   "outputs": [
    {
     "data": {
      "text/plain": [
       "305115"
      ]
     },
     "execution_count": 28,
     "metadata": {},
     "output_type": "execute_result"
    }
   ],
   "source": [
    "len(vocab_new)"
   ]
  },
  {
   "cell_type": "code",
   "execution_count": 29,
   "id": "72195b6b-6201-440c-9ca9-2dd4366321c6",
   "metadata": {
    "scrolled": true
   },
   "outputs": [
    {
     "data": {
      "text/plain": [
       "76278"
      ]
     },
     "execution_count": 29,
     "metadata": {},
     "output_type": "execute_result"
    }
   ],
   "source": [
    "len(unique_rows_de)"
   ]
  },
  {
   "cell_type": "code",
   "execution_count": null,
   "id": "ce3b86a8-b169-4612-9ad5-db4e17034f4f",
   "metadata": {},
   "outputs": [],
   "source": [
    "with open('dataset/QuaTrain-de-unique-p10.pkl', 'wb') as f:\n",
    "    pickle.dump(unique_rows_de, f)"
   ]
  },
  {
   "cell_type": "markdown",
   "id": "2f71d1fd-50a0-436c-b08d-b02a5145e09b",
   "metadata": {},
   "source": [
    "### English data"
   ]
  },
  {
   "cell_type": "code",
   "execution_count": 33,
   "id": "17945b6f-7500-4fcc-8c64-88e0a75707e2",
   "metadata": {},
   "outputs": [
    {
     "name": "stdout",
     "output_type": "stream",
     "text": [
      "iteration  0\n",
      "number of double elements: 50664\n",
      "elements to be deleted:  4349\n",
      "number of QuaTrains remaining:  232404\n",
      "iteration  1\n",
      "number of double elements: 46005\n",
      "elements to be deleted:  3877\n",
      "number of QuaTrains remaining:  228527\n",
      "iteration  2\n",
      "number of double elements: 39391\n",
      "elements to be deleted:  3399\n",
      "number of QuaTrains remaining:  225128\n",
      "iteration  3\n",
      "number of double elements: 30549\n",
      "elements to be deleted:  2928\n",
      "number of QuaTrains remaining:  222200\n",
      "iteration  4\n",
      "number of double elements: 24332\n",
      "elements to be deleted:  2597\n",
      "number of QuaTrains remaining:  219603\n",
      "iteration  5\n",
      "number of double elements: 19620\n",
      "elements to be deleted:  2261\n",
      "number of QuaTrains remaining:  217342\n",
      "iteration  6\n",
      "number of double elements: 15220\n",
      "elements to be deleted:  1939\n",
      "number of QuaTrains remaining:  215403\n",
      "iteration  7\n",
      "number of double elements: 11884\n",
      "elements to be deleted:  1689\n",
      "number of QuaTrains remaining:  213714\n",
      "iteration  8\n",
      "number of double elements: 9762\n",
      "elements to be deleted:  1465\n",
      "number of QuaTrains remaining:  212249\n",
      "iteration  9\n",
      "number of double elements: 8366\n",
      "elements to be deleted:  1289\n",
      "number of QuaTrains remaining:  210960\n",
      "iteration  10\n",
      "number of double elements: 6756\n",
      "elements to be deleted:  1115\n",
      "number of QuaTrains remaining:  209845\n",
      "iteration  11\n",
      "number of double elements: 5630\n",
      "elements to be deleted:  984\n",
      "number of QuaTrains remaining:  208861\n",
      "iteration  12\n",
      "number of double elements: 4604\n",
      "elements to be deleted:  873\n",
      "number of QuaTrains remaining:  207988\n",
      "iteration  13\n",
      "number of double elements: 3880\n",
      "elements to be deleted:  776\n",
      "number of QuaTrains remaining:  207212\n",
      "iteration  14\n",
      "number of double elements: 3393\n",
      "elements to be deleted:  679\n",
      "number of QuaTrains remaining:  206533\n",
      "iteration  15\n",
      "number of double elements: 2957\n",
      "elements to be deleted:  592\n",
      "number of QuaTrains remaining:  205941\n",
      "iteration  16\n",
      "number of double elements: 2581\n",
      "elements to be deleted:  517\n",
      "number of QuaTrains remaining:  205424\n",
      "iteration  17\n",
      "number of double elements: 2289\n",
      "elements to be deleted:  458\n",
      "number of QuaTrains remaining:  204966\n",
      "iteration  18\n",
      "number of double elements: 1973\n",
      "elements to be deleted:  395\n",
      "number of QuaTrains remaining:  204571\n",
      "iteration  19\n",
      "number of double elements: 1714\n",
      "elements to be deleted:  343\n",
      "number of QuaTrains remaining:  204228\n",
      "iteration  20\n",
      "number of double elements: 1499\n",
      "elements to be deleted:  300\n",
      "number of QuaTrains remaining:  203928\n",
      "iteration  21\n",
      "number of double elements: 1312\n",
      "elements to be deleted:  263\n",
      "number of QuaTrains remaining:  203665\n",
      "iteration  22\n",
      "number of double elements: 1146\n",
      "elements to be deleted:  230\n",
      "number of QuaTrains remaining:  203435\n",
      "iteration  23\n",
      "number of double elements: 1029\n",
      "elements to be deleted:  206\n",
      "number of QuaTrains remaining:  203229\n",
      "iteration  24\n",
      "number of double elements: 915\n",
      "elements to be deleted:  183\n",
      "number of QuaTrains remaining:  203046\n",
      "iteration  25\n",
      "number of double elements: 789\n",
      "elements to be deleted:  158\n",
      "number of QuaTrains remaining:  202888\n",
      "iteration  26\n",
      "number of double elements: 691\n",
      "elements to be deleted:  139\n",
      "number of QuaTrains remaining:  202749\n",
      "iteration  27\n",
      "number of double elements: 609\n",
      "elements to be deleted:  122\n",
      "number of QuaTrains remaining:  202627\n",
      "iteration  28\n",
      "number of double elements: 509\n",
      "elements to be deleted:  102\n",
      "number of QuaTrains remaining:  202525\n",
      "iteration  29\n",
      "number of double elements: 427\n",
      "elements to be deleted:  86\n",
      "number of QuaTrains remaining:  202439\n",
      "iteration  30\n",
      "number of double elements: 382\n",
      "elements to be deleted:  77\n",
      "number of QuaTrains remaining:  202362\n",
      "iteration  31\n",
      "number of double elements: 334\n",
      "elements to be deleted:  67\n",
      "number of QuaTrains remaining:  202295\n",
      "iteration  32\n",
      "number of double elements: 300\n",
      "elements to be deleted:  60\n",
      "number of QuaTrains remaining:  202235\n",
      "iteration  33\n",
      "number of double elements: 267\n",
      "elements to be deleted:  54\n",
      "number of QuaTrains remaining:  202181\n",
      "iteration  34\n",
      "number of double elements: 233\n",
      "elements to be deleted:  47\n",
      "number of QuaTrains remaining:  202134\n",
      "iteration  35\n",
      "number of double elements: 208\n",
      "elements to be deleted:  42\n",
      "number of QuaTrains remaining:  202092\n",
      "iteration  36\n",
      "number of double elements: 187\n",
      "elements to be deleted:  38\n",
      "number of QuaTrains remaining:  202054\n",
      "iteration  37\n",
      "number of double elements: 168\n",
      "elements to be deleted:  34\n",
      "number of QuaTrains remaining:  202020\n",
      "iteration  38\n",
      "number of double elements: 143\n",
      "elements to be deleted:  29\n",
      "number of QuaTrains remaining:  201991\n",
      "iteration  39\n",
      "number of double elements: 114\n",
      "elements to be deleted:  23\n",
      "number of QuaTrains remaining:  201968\n",
      "iteration  40\n",
      "number of double elements: 100\n",
      "elements to be deleted:  20\n",
      "number of QuaTrains remaining:  201948\n",
      "iteration  41\n",
      "number of double elements: 82\n",
      "elements to be deleted:  17\n",
      "number of QuaTrains remaining:  201931\n",
      "iteration  42\n",
      "number of double elements: 69\n",
      "elements to be deleted:  14\n",
      "number of QuaTrains remaining:  201917\n",
      "iteration  43\n",
      "number of double elements: 57\n",
      "elements to be deleted:  12\n",
      "number of QuaTrains remaining:  201905\n",
      "iteration  44\n",
      "number of double elements: 45\n",
      "elements to be deleted:  9\n",
      "number of QuaTrains remaining:  201896\n",
      "iteration  45\n",
      "number of double elements: 36\n",
      "elements to be deleted:  8\n",
      "number of QuaTrains remaining:  201888\n",
      "iteration  46\n",
      "number of double elements: 28\n",
      "elements to be deleted:  6\n",
      "number of QuaTrains remaining:  201882\n",
      "iteration  47\n",
      "number of double elements: 22\n",
      "elements to be deleted:  5\n",
      "number of QuaTrains remaining:  201877\n",
      "iteration  48\n",
      "number of double elements: 17\n",
      "elements to be deleted:  4\n",
      "number of QuaTrains remaining:  201873\n",
      "iteration  49\n",
      "number of double elements: 13\n",
      "elements to be deleted:  3\n",
      "number of QuaTrains remaining:  201870\n",
      "iteration  50\n",
      "number of double elements: 11\n",
      "elements to be deleted:  3\n",
      "number of QuaTrains remaining:  201867\n",
      "iteration  51\n",
      "number of double elements: 9\n",
      "elements to be deleted:  2\n",
      "number of QuaTrains remaining:  201865\n",
      "iteration  52\n",
      "number of double elements: 7\n",
      "elements to be deleted:  2\n",
      "number of QuaTrains remaining:  201863\n",
      "iteration  53\n",
      "number of double elements: 6\n",
      "elements to be deleted:  2\n",
      "number of QuaTrains remaining:  201861\n",
      "iteration  54\n",
      "number of double elements: 5\n",
      "elements to be deleted:  1\n",
      "number of QuaTrains remaining:  201860\n",
      "iteration  55\n",
      "number of double elements: 4\n",
      "elements to be deleted:  1\n",
      "number of QuaTrains remaining:  201859\n",
      "iteration  56\n",
      "number of double elements: 3\n",
      "elements to be deleted:  1\n",
      "number of QuaTrains remaining:  201858\n",
      "iteration  57\n",
      "number of double elements: 2\n",
      "elements to be deleted:  1\n",
      "number of QuaTrains remaining:  201857\n",
      "iteration  58\n",
      "number of double elements: 1\n",
      "elements to be deleted:  1\n",
      "number of QuaTrains remaining:  201856\n"
     ]
    }
   ],
   "source": [
    "vocab_en, inv_en, counts_en = np.unique(np.concatenate(list(df_en_unique[\"text\"])), return_inverse=True, return_counts = True)\n",
    "quads_en = np.resize(inv_en, (int(inv_en.size/4), 4))\n",
    "quads_unique_en_p10, vocab_new_en, quad_index_en = get_unique_quatrains(quads_en, vocab_en, df_en_unique.index, p=10)\n",
    "unique_rows_en = df_en_unique.loc[quad_index_en, :]\n",
    "unique_text_en = vocab_new_en[quads_unique_en_p10]\n",
    "#unique_text_en"
   ]
  },
  {
   "cell_type": "code",
   "execution_count": 35,
   "id": "537a6750-eba8-4a77-a204-c027b7d4a048",
   "metadata": {},
   "outputs": [
    {
     "data": {
      "text/plain": [
       "201856"
      ]
     },
     "execution_count": 35,
     "metadata": {},
     "output_type": "execute_result"
    }
   ],
   "source": [
    "len(unique_rows_en)"
   ]
  },
  {
   "cell_type": "code",
   "execution_count": 38,
   "id": "401708bb-2c56-4ef8-81c6-e70a16515747",
   "metadata": {},
   "outputs": [],
   "source": [
    "with open('dataset/QuaTrain-en-unique-p10.pkl', 'wb') as f:\n",
    "    pickle.dump(unique_rows_en, f)"
   ]
  }
 ],
 "metadata": {
  "kernelspec": {
   "display_name": "Python 3 (ipykernel)",
   "language": "python",
   "name": "python3"
  },
  "language_info": {
   "codemirror_mode": {
    "name": "ipython",
    "version": 3
   },
   "file_extension": ".py",
   "mimetype": "text/x-python",
   "name": "python",
   "nbconvert_exporter": "python",
   "pygments_lexer": "ipython3",
   "version": "3.8.18"
  }
 },
 "nbformat": 4,
 "nbformat_minor": 5
}
