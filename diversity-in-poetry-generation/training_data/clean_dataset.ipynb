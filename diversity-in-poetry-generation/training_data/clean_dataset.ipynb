{
 "cells": [
  {
   "cell_type": "markdown",
   "id": "72aad14e-9622-41d0-8358-d08ec64422ce",
   "metadata": {},
   "source": [
    "# Cleaning the QuaTrain datasets "
   ]
  },
  {
   "cell_type": "markdown",
   "id": "f9e7b5be-b515-4b00-b605-aa97385f3f4a",
   "metadata": {},
   "source": [
    "## Sequential filtering "
   ]
  },
  {
   "cell_type": "code",
   "execution_count": 1,
   "id": "9ef9a94e-05d2-49eb-8fed-ee0540e97e34",
   "metadata": {},
   "outputs": [],
   "source": [
    "import pandas as pd"
   ]
  },
  {
   "cell_type": "code",
   "execution_count": 2,
   "id": "3114d714-eb52-48ee-b223-b6b34c40bd66",
   "metadata": {},
   "outputs": [],
   "source": [
    "import itertools"
   ]
  },
  {
   "cell_type": "code",
   "execution_count": 3,
   "id": "6aad4802-3e63-4ffc-bc25-1538abe1a30d",
   "metadata": {},
   "outputs": [],
   "source": [
    "import pickle "
   ]
  },
  {
   "cell_type": "code",
   "execution_count": 4,
   "id": "50b59773-ad78-49a2-b166-96fa7e2fe842",
   "metadata": {},
   "outputs": [],
   "source": [
    "import numpy as np \n",
    "import math "
   ]
  },
  {
   "cell_type": "code",
   "execution_count": 5,
   "id": "44dc728f",
   "metadata": {},
   "outputs": [],
   "source": [
    "import json"
   ]
  },
  {
   "cell_type": "code",
   "execution_count": 6,
   "id": "060dde9b",
   "metadata": {},
   "outputs": [],
   "source": [
    "from tqdm.notebook import tqdm"
   ]
  },
  {
   "cell_type": "code",
   "execution_count": 64,
   "id": "c50d97b6-6fdf-4c81-a3ca-6f53bc0fae84",
   "metadata": {},
   "outputs": [],
   "source": [
    "# data from https://github.com/potamides/uniformers/tree/main\n",
    "df_de = pd.read_json('dataset/QuaTrain-de.json', lines=True)\n",
    "df_en = pd.read_json('dataset/QuaTrain-en.json', lines=True)"
   ]
  },
  {
   "cell_type": "code",
   "execution_count": 5,
   "id": "d87a86f7",
   "metadata": {},
   "outputs": [],
   "source": [
    "dlk_path = 'dataset/DLK/dlk_full/dlk.v5.german.poetry.corpus.full.json'"
   ]
  },
  {
   "cell_type": "code",
   "execution_count": 9,
   "id": "a52b0c91",
   "metadata": {},
   "outputs": [],
   "source": [
    "\n",
    "with open(dlk_path) as f:\n",
    "    dlk_dict = json.load(f)\n",
    "\n",
    "# converting json dataset from dictionary to dataframe\n",
    "#dlk_df = pd.DataFrame.from_dict(dlk_dict, orient='index')\n",
    "#dlk_df.head()"
   ]
  },
  {
   "cell_type": "code",
   "execution_count": 10,
   "id": "bf5ecacd",
   "metadata": {},
   "outputs": [],
   "source": [
    "all_quads = []\n",
    "all_quads_nh = []\n",
    "for pidx, poem in dlk_dict.items():\n",
    "    poem_quads = []\n",
    "    for sidx, stanza in poem['poem'].items():\n",
    "        lines = [line[1][\"text\"] for line in list(stanza.items())]\n",
    "        quad_num = len(lines)//4\n",
    "        quads = []\n",
    "        for a in range(quad_num):\n",
    "            b = a * 4\n",
    "            quad = lines[b:b+4]\n",
    "            quads.append(quad)\n",
    "            all_quads_nh.append(quad)\n",
    "        poem_quads.append(quads)     \n",
    "    all_quads.append(poem_quads)\n"
   ]
  },
  {
   "cell_type": "code",
   "execution_count": 12,
   "id": "870941e0",
   "metadata": {},
   "outputs": [],
   "source": [
    "with open('dataset/DLK/quatrains.pkl', 'wb') as f:\n",
    "    pickle.dump(all_quads, f)"
   ]
  },
  {
   "cell_type": "code",
   "execution_count": 7,
   "id": "f0abc8ae",
   "metadata": {},
   "outputs": [],
   "source": [
    "with open('dataset/DLK/quatrains.pkl', 'rb') as f:\n",
    "    all_quads = pickle.load(f)"
   ]
  },
  {
   "cell_type": "code",
   "execution_count": 8,
   "id": "77bb60fa",
   "metadata": {},
   "outputs": [],
   "source": [
    "all_quads_nh = []\n",
    "for poem in all_quads:\n",
    "    for stanza in poem:\n",
    "        for quad in stanza:\n",
    "            all_quads_nh.append(quad)\n",
    "            \n",
    "#print(all_quads_nh)"
   ]
  },
  {
   "cell_type": "code",
   "execution_count": 9,
   "id": "846c7091",
   "metadata": {},
   "outputs": [
    {
     "name": "stdout",
     "output_type": "stream",
     "text": [
      "['mein Trieb, der waget warlich', 'Die Schuldigkeit befahl, die arme Schüch-', 'Und öfters knarrend gehn; da süsse Melo-', 'Die Schüchternheit die sprach: zurük mit', 'Den Liedern fehlt das Feur, das in die Her-', 'Sie wandte ferner ein: bedenkest du denn', 'Da Brokkes Saitenspiel, so oft das Herze', 'So sprach ', 'Des Herzens Trieb befahl und zeigte deine', 'Du kennest meinen Trieb auch in den nie-']\n"
     ]
    }
   ],
   "source": [
    "first_lines = [ar[0] for ar in all_quads_nh]\n",
    "print(first_lines[:10])"
   ]
  },
  {
   "cell_type": "code",
   "execution_count": 27,
   "id": "0be84248",
   "metadata": {},
   "outputs": [],
   "source": [
    "vocab_fl = np.unique(first_lines)\n"
   ]
  },
  {
   "cell_type": "code",
   "execution_count": 12,
   "id": "8dad572b",
   "metadata": {},
   "outputs": [
    {
     "data": {
      "text/plain": [
       "614789"
      ]
     },
     "execution_count": 12,
     "metadata": {},
     "output_type": "execute_result"
    }
   ],
   "source": [
    "len(first_lines)"
   ]
  },
  {
   "cell_type": "code",
   "execution_count": 32,
   "id": "39b5fa43",
   "metadata": {},
   "outputs": [
    {
     "data": {
      "text/plain": [
       "343963"
      ]
     },
     "execution_count": 32,
     "metadata": {},
     "output_type": "execute_result"
    }
   ],
   "source": [
    "len(vocab_fl)"
   ]
  },
  {
   "cell_type": "code",
   "execution_count": 31,
   "id": "25304ea5",
   "metadata": {},
   "outputs": [
    {
     "name": "stdout",
     "output_type": "stream",
     "text": [
      "             Als ich jüngst, mich zu erquicken,\n"
     ]
    }
   ],
   "source": [
    "print(vocab_fl[1])"
   ]
  },
  {
   "cell_type": "code",
   "execution_count": 18,
   "id": "ee39bb11",
   "metadata": {},
   "outputs": [
    {
     "data": {
      "application/vnd.jupyter.widget-view+json": {
       "model_id": "083ada4aa650411fb4814bda5f8b0c3f",
       "version_major": 2,
       "version_minor": 0
      },
      "text/plain": [
       "  0%|          | 0/1000 [00:00<?, ?it/s]"
      ]
     },
     "metadata": {},
     "output_type": "display_data"
    }
   ],
   "source": [
    "fl_dic = {}\n",
    "for i, ar in enumerate(tqdm(list(df_de[\"text\"])[:1000])):\n",
    "    fl_ar = list(ar)[0] \n",
    "    if fl_ar in first_lines:\n",
    "        if fl_ar in fl_dic.keys():\n",
    "            fl_dic[fl_ar] += ar\n",
    "        else:\n",
    "            fl_dic[fl_ar] = [ar]\n",
    "            \n",
    "\n",
    "    "
   ]
  },
  {
   "cell_type": "code",
   "execution_count": 37,
   "id": "518a7e6a",
   "metadata": {},
   "outputs": [],
   "source": [
    "vocab_fl_list = list(vocab_fl)"
   ]
  },
  {
   "cell_type": "code",
   "execution_count": 39,
   "id": "7bc7c707",
   "metadata": {},
   "outputs": [
    {
     "data": {
      "application/vnd.jupyter.widget-view+json": {
       "model_id": "0b763d45e59f4305bfb3a977561fea46",
       "version_major": 2,
       "version_minor": 0
      },
      "text/plain": [
       "  0%|          | 0/587556 [00:00<?, ?it/s]"
      ]
     },
     "metadata": {},
     "output_type": "display_data"
    }
   ],
   "source": [
    "fl_quads = []\n",
    "fl_quad_indices = []\n",
    "for i, ar in enumerate(tqdm(list(df_de_unique[\"text\"]))):\n",
    "    fl_ar = list(ar)[0] \n",
    "    if fl_ar in vocab_fl_list:\n",
    "        fl_quads.append(fl_ar)\n",
    "        fl_quad_indices.append(i)\n",
    "        vocab_fl_list.remove(fl_ar)\n",
    "    "
   ]
  },
  {
   "cell_type": "code",
   "execution_count": 40,
   "id": "3e4adeab",
   "metadata": {},
   "outputs": [
    {
     "data": {
      "text/plain": [
       "291699"
      ]
     },
     "execution_count": 40,
     "metadata": {},
     "output_type": "execute_result"
    }
   ],
   "source": [
    "len(fl_quads)"
   ]
  },
  {
   "cell_type": "code",
   "execution_count": 45,
   "id": "66e1d29c",
   "metadata": {},
   "outputs": [
    {
     "data": {
      "text/plain": [
       "Index([   3028,    3042,    3043,    3047,    3098,    3102,    3106,    3110,\n",
       "          3114,    3118,\n",
       "       ...\n",
       "       1483616, 1483620, 1483621, 1483625, 1483626, 1483630, 1483658, 1483661,\n",
       "       1483664, 1483667],\n",
       "      dtype='int64', length=291699)"
      ]
     },
     "execution_count": 45,
     "metadata": {},
     "output_type": "execute_result"
    }
   ],
   "source": []
  },
  {
   "cell_type": "code",
   "execution_count": 46,
   "id": "5ef0cb19",
   "metadata": {},
   "outputs": [],
   "source": [
    "df_fl = df_de_unique.loc[df_de_unique.index[fl_quad_indices], :]"
   ]
  },
  {
   "cell_type": "code",
   "execution_count": 48,
   "id": "2124b451",
   "metadata": {},
   "outputs": [
    {
     "name": "stdout",
     "output_type": "stream",
     "text": [
      "9636\n"
     ]
    }
   ],
   "source": [
    "_, counts = np.unique(np.concatenate(list(df_fl[\"text\"])), return_counts=True)\n",
    "num_doubles = (counts>1).sum()\n",
    "print(num_doubles)"
   ]
  },
  {
   "cell_type": "code",
   "execution_count": null,
   "id": "cc42d1bd",
   "metadata": {},
   "outputs": [],
   "source": []
  },
  {
   "cell_type": "code",
   "execution_count": 9,
   "id": "e120cf20-7981-4da2-9e03-36e3cff8414f",
   "metadata": {},
   "outputs": [],
   "source": [
    "def sequential_filter(df):\n",
    "    last_t = \"\"\n",
    "    overlapping = []\n",
    "    unique_rows = []\n",
    "    for i, row in df.iterrows():\n",
    "        if list(row[\"text\"])[0] == last_t and len(overlapping) < 4:\n",
    "            overlapping.append(row)\n",
    "        elif len(overlapping) == 0:\n",
    "            overlapping = [row]\n",
    "        else:\n",
    "            unique_rows.append(overlapping[0])\n",
    "            overlapping = [row]\n",
    "        last_t = list(row[\"text\"])[1]\n",
    "    unique_rows.append(overlapping[0]) \n",
    "    #print(unique_rows)   \n",
    "    df_unique = pd.DataFrame(unique_rows)\n",
    "    return(df_unique)"
   ]
  },
  {
   "cell_type": "markdown",
   "id": "6466b5f6-33eb-4b12-8f5a-9d134a23521b",
   "metadata": {},
   "source": [
    "### German data"
   ]
  },
  {
   "cell_type": "code",
   "execution_count": 10,
   "id": "ed47a5c0-7265-4a32-8552-75ce0ee07dc0",
   "metadata": {},
   "outputs": [
    {
     "data": {
      "text/plain": [
       "1483685"
      ]
     },
     "execution_count": 10,
     "metadata": {},
     "output_type": "execute_result"
    }
   ],
   "source": [
    "len(df_de)"
   ]
  },
  {
   "cell_type": "code",
   "execution_count": 5,
   "id": "7a7c33f2-4f3c-4704-a013-152c282b3664",
   "metadata": {},
   "outputs": [
    {
     "data": {
      "text/html": [
       "<div>\n",
       "<style scoped>\n",
       "    .dataframe tbody tr th:only-of-type {\n",
       "        vertical-align: middle;\n",
       "    }\n",
       "\n",
       "    .dataframe tbody tr th {\n",
       "        vertical-align: top;\n",
       "    }\n",
       "\n",
       "    .dataframe thead th {\n",
       "        text-align: right;\n",
       "    }\n",
       "</style>\n",
       "<table border=\"1\" class=\"dataframe\">\n",
       "  <thead>\n",
       "    <tr style=\"text-align: right;\">\n",
       "      <th></th>\n",
       "      <th>text</th>\n",
       "      <th>language</th>\n",
       "      <th>rhyme</th>\n",
       "      <th>meter</th>\n",
       "      <th>alliteration</th>\n",
       "    </tr>\n",
       "  </thead>\n",
       "  <tbody>\n",
       "    <tr>\n",
       "      <th>0</th>\n",
       "      <td>[Da jener Elbe-Schwan der Gottheit Ruhm, Da Br...</td>\n",
       "      <td>de</td>\n",
       "      <td>ABCD</td>\n",
       "      <td>iambus</td>\n",
       "      <td>0.040973</td>\n",
       "    </tr>\n",
       "    <tr>\n",
       "      <th>1</th>\n",
       "      <td>[Da Brokkes Saitenspiel, so oft das Herze, Das...</td>\n",
       "      <td>de</td>\n",
       "      <td>ABCD</td>\n",
       "      <td>iambus</td>\n",
       "      <td>0.054848</td>\n",
       "    </tr>\n",
       "    <tr>\n",
       "      <th>2</th>\n",
       "      <td>[gen, der belebt Feld, Berg und Thal;, Der erw...</td>\n",
       "      <td>de</td>\n",
       "      <td>ABCD</td>\n",
       "      <td>iambus</td>\n",
       "      <td>0.023747</td>\n",
       "    </tr>\n",
       "    <tr>\n",
       "      <th>3</th>\n",
       "      <td>[Ueber die erhabnen Berge, und erwekt das Feld...</td>\n",
       "      <td>de</td>\n",
       "      <td>ABCD</td>\n",
       "      <td>alexandrine</td>\n",
       "      <td>0.044927</td>\n",
       "    </tr>\n",
       "    <tr>\n",
       "      <th>4</th>\n",
       "      <td>[Als mit holden Dünsten füllet; da was aus den...</td>\n",
       "      <td>de</td>\n",
       "      <td>ABCD</td>\n",
       "      <td>other</td>\n",
       "      <td>0.084108</td>\n",
       "    </tr>\n",
       "  </tbody>\n",
       "</table>\n",
       "</div>"
      ],
      "text/plain": [
       "                                                text language rhyme  \\\n",
       "0  [Da jener Elbe-Schwan der Gottheit Ruhm, Da Br...       de  ABCD   \n",
       "1  [Da Brokkes Saitenspiel, so oft das Herze, Das...       de  ABCD   \n",
       "2  [gen, der belebt Feld, Berg und Thal;, Der erw...       de  ABCD   \n",
       "3  [Ueber die erhabnen Berge, und erwekt das Feld...       de  ABCD   \n",
       "4  [Als mit holden Dünsten füllet; da was aus den...       de  ABCD   \n",
       "\n",
       "         meter  alliteration  \n",
       "0       iambus      0.040973  \n",
       "1       iambus      0.054848  \n",
       "2       iambus      0.023747  \n",
       "3  alexandrine      0.044927  \n",
       "4        other      0.084108  "
      ]
     },
     "execution_count": 5,
     "metadata": {},
     "output_type": "execute_result"
    }
   ],
   "source": [
    "df_de.head()"
   ]
  },
  {
   "cell_type": "code",
   "execution_count": null,
   "id": "871d0353-0202-4d75-b400-54f3e5699618",
   "metadata": {},
   "outputs": [],
   "source": [
    "vocab_de_original = np.unique(np.concatenate(list(df_de[\"text\"])))"
   ]
  },
  {
   "cell_type": "code",
   "execution_count": null,
   "id": "d8c5f0a7-b1c7-4bd8-81f7-958f4a5f93c4",
   "metadata": {},
   "outputs": [],
   "source": [
    "# number of unique lines \n",
    "len(vocab_de_original)"
   ]
  },
  {
   "cell_type": "code",
   "execution_count": 11,
   "id": "37a224ba-1ac9-44db-9fab-bfc19a2d1c10",
   "metadata": {},
   "outputs": [],
   "source": [
    "df_de_unique = sequential_filter(df_de)"
   ]
  },
  {
   "cell_type": "code",
   "execution_count": 12,
   "id": "548d96da-e354-4624-80dc-6af827bfee61",
   "metadata": {},
   "outputs": [
    {
     "data": {
      "text/plain": [
       "587556"
      ]
     },
     "execution_count": 12,
     "metadata": {},
     "output_type": "execute_result"
    }
   ],
   "source": [
    "len(df_de_unique)"
   ]
  },
  {
   "cell_type": "code",
   "execution_count": 14,
   "id": "97c72acc-4f8e-479f-a8c3-327f468d15e0",
   "metadata": {},
   "outputs": [],
   "source": [
    "with open('dataset/QuaTrain-de-sequential.pkl', 'wb') as f:\n",
    "    pickle.dump(df_de_unique, f)"
   ]
  },
  {
   "cell_type": "markdown",
   "id": "6747a552-328c-4680-aae2-20e37e110eb7",
   "metadata": {},
   "source": [
    "### English data"
   ]
  },
  {
   "cell_type": "code",
   "execution_count": 67,
   "id": "233ca3df-08d2-4679-897b-cb47db173a3e",
   "metadata": {},
   "outputs": [
    {
     "data": {
      "text/plain": [
       "662885"
      ]
     },
     "execution_count": 67,
     "metadata": {},
     "output_type": "execute_result"
    }
   ],
   "source": [
    "len(df_en)"
   ]
  },
  {
   "cell_type": "code",
   "execution_count": null,
   "id": "20fb6407-be00-4647-9c21-fe25b3b85663",
   "metadata": {},
   "outputs": [],
   "source": [
    "vocab_en_original = np.unique(np.concatenate(list(df_en[\"text\"])))\n"
   ]
  },
  {
   "cell_type": "code",
   "execution_count": 10,
   "id": "c7e18a50-1ad4-4694-8f5d-33bac7d37a44",
   "metadata": {},
   "outputs": [
    {
     "data": {
      "text/plain": [
       "969129"
      ]
     },
     "execution_count": 10,
     "metadata": {},
     "output_type": "execute_result"
    }
   ],
   "source": [
    "len(vocab_en_original)"
   ]
  },
  {
   "cell_type": "code",
   "execution_count": 30,
   "id": "b5d2e6a4-6366-4656-b0ba-d28693f60ee8",
   "metadata": {},
   "outputs": [],
   "source": [
    "df_en_unique = sequential_filter(df_en)"
   ]
  },
  {
   "cell_type": "code",
   "execution_count": 32,
   "id": "7fa71aee-2497-471e-bcd5-40d938b0cacf",
   "metadata": {},
   "outputs": [
    {
     "data": {
      "text/plain": [
       "236753"
      ]
     },
     "execution_count": 32,
     "metadata": {},
     "output_type": "execute_result"
    }
   ],
   "source": [
    "len(df_en_unique)"
   ]
  },
  {
   "cell_type": "code",
   "execution_count": 41,
   "id": "d71e349e-77c1-46ab-ab1b-40e01fd32020",
   "metadata": {},
   "outputs": [],
   "source": [
    "with open('dataset/QuaTrain-en-unique.pkl', 'wb') as f:\n",
    "    pickle.dump(df_en_unique, f)"
   ]
  },
  {
   "cell_type": "markdown",
   "id": "7bdc1d18-da25-4ae8-8963-cb451415bf54",
   "metadata": {},
   "source": [
    "## Eliminating remaining overlaps "
   ]
  },
  {
   "cell_type": "code",
   "execution_count": 15,
   "id": "615589aa-bcd4-42c7-853c-fc2ffcf1278b",
   "metadata": {},
   "outputs": [],
   "source": [
    "load_unique_dfs = True"
   ]
  },
  {
   "cell_type": "code",
   "execution_count": 16,
   "id": "eee7444a-a41d-4384-90ee-dd185928e7c9",
   "metadata": {},
   "outputs": [],
   "source": [
    "if load_unique_dfs:\n",
    "    with open('dataset/QuaTrain-de-sequential.pkl', 'rb') as f:\n",
    "        df_de_unique = pickle.load(f)\n",
    "    #with open('dataset/QuaTrain-en-unique.pkl', 'rb') as f:\n",
    "        #df_en_unique = pickle.load(f)"
   ]
  },
  {
   "cell_type": "code",
   "execution_count": 39,
   "id": "144ad84d",
   "metadata": {},
   "outputs": [
    {
     "name": "stdout",
     "output_type": "stream",
     "text": [
      "81256\n",
      "18744\n",
      "82732\n",
      "17268\n"
     ]
    }
   ],
   "source": [
    "def get_unique_lines(df):\n",
    "    tokens, inv, counts = np.unique(np.concatenate(list(df[\"text\"])), return_counts=True, return_inverse=True)\n",
    "    index = df.index\n",
    "    quads = np.resize(inv, (int(inv.size/4), 4))\n",
    "    i_first = []\n",
    "    i_nf = []\n",
    "    i_ul = []\n",
    "    i_nul = []\n",
    "    for i, a in enumerate(quads):\n",
    "        if counts[a[0]]==1:\n",
    "            i_first.append(index[i])\n",
    "        else:\n",
    "            i_nf.append(index[i])\n",
    "        if 1 in [counts[x] for x in a]:\n",
    "            i_ul.append(index[i])\n",
    "        else:\n",
    "            i_nul.append(index[i])\n",
    "            \n",
    "    df_first = df.loc[i_first, :]\n",
    "    df_nf = df.loc[i_nf, :]\n",
    "    df_ul = df.loc[i_ul, :]\n",
    "    df_nul = df.loc[i_nul, :]\n",
    "    return((df_first, df_nf), (df_ul, df_nul))\n",
    "\n",
    "(df_f, df_nf), (df_ul, df_nul) = get_unique_lines(df_de_unique[:100000])\n",
    "print(len(df_f))\n",
    "print(len(df_nf))\n",
    "print(len(df_ul))\n",
    "print(len(df_nul))\n"
   ]
  },
  {
   "cell_type": "code",
   "execution_count": 40,
   "id": "1dcd0b3c",
   "metadata": {},
   "outputs": [],
   "source": [
    "def check_remaining(df_ul, df_remaining):\n",
    "    text_ul = np.concatenate(list(df_ul[\"text\"]))\n",
    "    tokens, inv, counts = np.unique(text_ul, return_counts=True, return_inverse=True)\n",
    "    index_remaining = df_remaining.index\n",
    "    i_to_keep = []\n",
    "    for i, l in tqdm(enumerate(list(df_remaining[\"text\"]))): \n",
    "        unique = True \n",
    "        l = list(l)\n",
    "        for t in l:\n",
    "            if t in tokens: \n",
    "                unique = False\n",
    "                break\n",
    "        if unique:\n",
    "            text_ul = np.append(text_ul, l)\n",
    "            tokens, inv, counts = np.unique(text_ul, return_counts=True, return_inverse=True)\n",
    "            i_to_keep.append(index_remaining[i])\n",
    "    return(i_to_keep)\n",
    "        \n",
    "\n"
   ]
  },
  {
   "cell_type": "code",
   "execution_count": 41,
   "id": "8c3b0156",
   "metadata": {
    "scrolled": true
   },
   "outputs": [
    {
     "name": "stderr",
     "output_type": "stream",
     "text": [
      "235it [00:40,  5.86it/s]\n"
     ]
    },
    {
     "ename": "KeyboardInterrupt",
     "evalue": "",
     "output_type": "error",
     "traceback": [
      "\u001b[0;31m---------------------------------------------------------------------------\u001b[0m",
      "\u001b[0;31mKeyboardInterrupt\u001b[0m                         Traceback (most recent call last)",
      "Cell \u001b[0;32mIn[41], line 1\u001b[0m\n\u001b[0;32m----> 1\u001b[0m i_to_keep \u001b[38;5;241m=\u001b[39m check_remaining(df_ul, df_nul)\n",
      "Cell \u001b[0;32mIn[40], line 15\u001b[0m, in \u001b[0;36mcheck_remaining\u001b[0;34m(df_ul, df_remaining)\u001b[0m\n\u001b[1;32m     13\u001b[0m     \u001b[38;5;28;01mif\u001b[39;00m unique:\n\u001b[1;32m     14\u001b[0m         text_ul \u001b[38;5;241m=\u001b[39m np\u001b[38;5;241m.\u001b[39mappend(text_ul, l)\n\u001b[0;32m---> 15\u001b[0m         tokens, inv, counts \u001b[38;5;241m=\u001b[39m np\u001b[38;5;241m.\u001b[39munique(text_ul, return_counts\u001b[38;5;241m=\u001b[39m\u001b[38;5;28;01mTrue\u001b[39;00m, return_inverse\u001b[38;5;241m=\u001b[39m\u001b[38;5;28;01mTrue\u001b[39;00m)\n\u001b[1;32m     16\u001b[0m         i_to_keep\u001b[38;5;241m.\u001b[39mappend(index_remaining[i])\n\u001b[1;32m     17\u001b[0m \u001b[38;5;28;01mreturn\u001b[39;00m(i_to_keep)\n",
      "File \u001b[0;32m<__array_function__ internals>:200\u001b[0m, in \u001b[0;36munique\u001b[0;34m(*args, **kwargs)\u001b[0m\n",
      "File \u001b[0;32m~/anaconda3/lib/python3.11/site-packages/numpy/lib/arraysetops.py:274\u001b[0m, in \u001b[0;36munique\u001b[0;34m(ar, return_index, return_inverse, return_counts, axis, equal_nan)\u001b[0m\n\u001b[1;32m    272\u001b[0m ar \u001b[38;5;241m=\u001b[39m np\u001b[38;5;241m.\u001b[39masanyarray(ar)\n\u001b[1;32m    273\u001b[0m \u001b[38;5;28;01mif\u001b[39;00m axis \u001b[38;5;129;01mis\u001b[39;00m \u001b[38;5;28;01mNone\u001b[39;00m:\n\u001b[0;32m--> 274\u001b[0m     ret \u001b[38;5;241m=\u001b[39m _unique1d(ar, return_index, return_inverse, return_counts, \n\u001b[1;32m    275\u001b[0m                     equal_nan\u001b[38;5;241m=\u001b[39mequal_nan)\n\u001b[1;32m    276\u001b[0m     \u001b[38;5;28;01mreturn\u001b[39;00m _unpack_tuple(ret)\n\u001b[1;32m    278\u001b[0m \u001b[38;5;66;03m# axis was specified and not None\u001b[39;00m\n",
      "File \u001b[0;32m~/anaconda3/lib/python3.11/site-packages/numpy/lib/arraysetops.py:333\u001b[0m, in \u001b[0;36m_unique1d\u001b[0;34m(ar, return_index, return_inverse, return_counts, equal_nan)\u001b[0m\n\u001b[1;32m    330\u001b[0m optional_indices \u001b[38;5;241m=\u001b[39m return_index \u001b[38;5;129;01mor\u001b[39;00m return_inverse\n\u001b[1;32m    332\u001b[0m \u001b[38;5;28;01mif\u001b[39;00m optional_indices:\n\u001b[0;32m--> 333\u001b[0m     perm \u001b[38;5;241m=\u001b[39m ar\u001b[38;5;241m.\u001b[39margsort(kind\u001b[38;5;241m=\u001b[39m\u001b[38;5;124m'\u001b[39m\u001b[38;5;124mmergesort\u001b[39m\u001b[38;5;124m'\u001b[39m \u001b[38;5;28;01mif\u001b[39;00m return_index \u001b[38;5;28;01melse\u001b[39;00m \u001b[38;5;124m'\u001b[39m\u001b[38;5;124mquicksort\u001b[39m\u001b[38;5;124m'\u001b[39m)\n\u001b[1;32m    334\u001b[0m     aux \u001b[38;5;241m=\u001b[39m ar[perm]\n\u001b[1;32m    335\u001b[0m \u001b[38;5;28;01melse\u001b[39;00m:\n",
      "\u001b[0;31mKeyboardInterrupt\u001b[0m: "
     ]
    }
   ],
   "source": [
    "i_to_keep = check_remaining(df_ul, df_nul)"
   ]
  },
  {
   "cell_type": "code",
   "execution_count": 38,
   "id": "280e0bfa",
   "metadata": {},
   "outputs": [
    {
     "name": "stdout",
     "output_type": "stream",
     "text": [
      "[]\n"
     ]
    }
   ],
   "source": [
    "print(i_to_keep)"
   ]
  },
  {
   "cell_type": "code",
   "execution_count": 36,
   "id": "6d7ee25e",
   "metadata": {},
   "outputs": [],
   "source": [
    "from tqdm import tqdm "
   ]
  },
  {
   "cell_type": "code",
   "execution_count": 53,
   "id": "cb245485-0e1b-4e4b-a331-341695819813",
   "metadata": {},
   "outputs": [],
   "source": [
    "def get_unique_quatrains(quads, vocab, index, p = 10):\n",
    "    i = 0\n",
    "    quads_current = quads.copy()\n",
    "    while sum(np.unique(quads_current, return_counts=True)[1]>1) > 0: \n",
    "        print(\"iteration \", i)\n",
    "        i += 1 \n",
    "        tokens, inv, counts = np.unique(quads_current, return_counts=True, return_inverse=True)\n",
    "        vocab = vocab[tokens]\n",
    "        quads_current = np.resize(inv, (int(inv.size/4), 4))\n",
    "        #print(\"quads_current\", quads_current)\n",
    "        print(\"number of double elements:\", sum(counts>1))\n",
    "        quad_counts = []\n",
    "        for arr in quads_current: \n",
    "            num_arr = []\n",
    "            for num in arr:\n",
    "                num_arr.append(counts[num])\n",
    "            quad_counts.append(num_arr)\n",
    "        quad_count_sums = [sum(arr) for arr in quad_counts]\n",
    "        quad_indices_sorted = sorted(range(len(quad_count_sums)), key=lambda k: quad_count_sums[k])\n",
    "        double_num = (np.array(quad_count_sums)>4).sum()\n",
    "        #double_num = np.array(quad_count_sums).sum() - 4 * len(quad_count_sums)\n",
    "        num_to_delete = math.ceil(double_num/p)\n",
    "        print(\"elements to be deleted: \", num_to_delete)\n",
    "        to_delete = np.array(quad_indices_sorted[-num_to_delete:])\n",
    "        #to_delete = np.array([ind for ind in to_delete if not 1 in quad_counts[ind]])\n",
    "        mask = np.ones(len(quads_current), dtype=bool)\n",
    "        mask[to_delete] = False\n",
    "        quads_current = quads_current[mask]\n",
    "        index = index[mask]\n",
    "        print(\"number of QuaTrains remaining: \", len(quads_current))\n",
    "    return(quads_current, vocab, index)"
   ]
  },
  {
   "cell_type": "markdown",
   "id": "b005d600-bd87-4527-98d7-b922f9a2a287",
   "metadata": {},
   "source": [
    "### German data"
   ]
  },
  {
   "cell_type": "code",
   "execution_count": 49,
   "id": "a13bbef6-6266-48f8-85fd-d0083b48ec19",
   "metadata": {},
   "outputs": [],
   "source": [
    "vocab, inv, counts = np.unique(np.concatenate(list(df_fl[\"text\"])), return_inverse=True, return_counts = True)"
   ]
  },
  {
   "cell_type": "code",
   "execution_count": 50,
   "id": "5ab684d4-c55e-458b-b436-757b92061e0e",
   "metadata": {},
   "outputs": [
    {
     "data": {
      "text/plain": [
       "1155299"
      ]
     },
     "execution_count": 50,
     "metadata": {},
     "output_type": "execute_result"
    }
   ],
   "source": [
    "# number of unique lines in the data \n",
    "len(vocab)"
   ]
  },
  {
   "cell_type": "code",
   "execution_count": 51,
   "id": "ddc061f8-e435-4dfd-a743-707e8b639c56",
   "metadata": {},
   "outputs": [],
   "source": [
    "# Quatrains with lines encoded as indexes in vocab\n",
    "quads = np.resize(inv, (int(inv.size/4), 4))"
   ]
  },
  {
   "cell_type": "code",
   "execution_count": 57,
   "id": "4ebc7be4-aa4a-4a4d-9930-0240dc7f2554",
   "metadata": {},
   "outputs": [
    {
     "name": "stdout",
     "output_type": "stream",
     "text": [
      "[[ 862186  806399  173619  591538]\n",
      " [1049307   96214  909415   94428]\n",
      " [ 559946  826978  429788  836124]\n",
      " ...\n",
      " [ 721903  376581  866741  774077]\n",
      " [1036802  755233  909174 1036650]\n",
      " [ 447637   54339  648461  584401]]\n"
     ]
    }
   ],
   "source": [
    "print(quads)"
   ]
  },
  {
   "cell_type": "code",
   "execution_count": 56,
   "id": "9820c116",
   "metadata": {},
   "outputs": [
    {
     "data": {
      "text/plain": [
       "1166796"
      ]
     },
     "execution_count": 56,
     "metadata": {},
     "output_type": "execute_result"
    }
   ],
   "source": [
    "quads.size"
   ]
  },
  {
   "cell_type": "code",
   "execution_count": 58,
   "id": "f1d3cf65-28cf-4211-af6d-4faa6fca5666",
   "metadata": {},
   "outputs": [
    {
     "name": "stdout",
     "output_type": "stream",
     "text": [
      "iteration  0\n",
      "number of double elements: 9636\n",
      "elements to be deleted:  639\n",
      "number of QuaTrains remaining:  291060\n",
      "iteration  1\n",
      "number of double elements: 9444\n",
      "elements to be deleted:  606\n",
      "number of QuaTrains remaining:  290454\n",
      "iteration  2\n",
      "number of double elements: 9060\n",
      "elements to be deleted:  571\n",
      "number of QuaTrains remaining:  289883\n",
      "iteration  3\n",
      "number of double elements: 8205\n",
      "elements to be deleted:  531\n",
      "number of QuaTrains remaining:  289352\n",
      "iteration  4\n",
      "number of double elements: 7297\n",
      "elements to be deleted:  495\n",
      "number of QuaTrains remaining:  288857\n",
      "iteration  5\n",
      "number of double elements: 5921\n",
      "elements to be deleted:  447\n",
      "number of QuaTrains remaining:  288410\n",
      "iteration  6\n",
      "number of double elements: 5341\n",
      "elements to be deleted:  421\n",
      "number of QuaTrains remaining:  287989\n",
      "iteration  7\n",
      "number of double elements: 4734\n",
      "elements to be deleted:  387\n",
      "number of QuaTrains remaining:  287602\n",
      "iteration  8\n",
      "number of double elements: 4229\n",
      "elements to be deleted:  359\n",
      "number of QuaTrains remaining:  287243\n",
      "iteration  9\n",
      "number of double elements: 3883\n",
      "elements to be deleted:  338\n",
      "number of QuaTrains remaining:  286905\n",
      "iteration  10\n",
      "number of double elements: 3510\n",
      "elements to be deleted:  317\n",
      "number of QuaTrains remaining:  286588\n",
      "iteration  11\n",
      "number of double elements: 3066\n",
      "elements to be deleted:  292\n",
      "number of QuaTrains remaining:  286296\n",
      "iteration  12\n",
      "number of double elements: 2796\n",
      "elements to be deleted:  276\n",
      "number of QuaTrains remaining:  286020\n",
      "iteration  13\n",
      "number of double elements: 2570\n",
      "elements to be deleted:  257\n",
      "number of QuaTrains remaining:  285763\n",
      "iteration  14\n",
      "number of double elements: 2406\n",
      "elements to be deleted:  241\n",
      "number of QuaTrains remaining:  285522\n",
      "iteration  15\n",
      "number of double elements: 2257\n",
      "elements to be deleted:  226\n",
      "number of QuaTrains remaining:  285296\n",
      "iteration  16\n",
      "number of double elements: 2064\n",
      "elements to be deleted:  207\n",
      "number of QuaTrains remaining:  285089\n",
      "iteration  17\n",
      "number of double elements: 1906\n",
      "elements to be deleted:  191\n",
      "number of QuaTrains remaining:  284898\n",
      "iteration  18\n",
      "number of double elements: 1784\n",
      "elements to be deleted:  179\n",
      "number of QuaTrains remaining:  284719\n",
      "iteration  19\n",
      "number of double elements: 1689\n",
      "elements to be deleted:  169\n",
      "number of QuaTrains remaining:  284550\n",
      "iteration  20\n",
      "number of double elements: 1574\n",
      "elements to be deleted:  158\n",
      "number of QuaTrains remaining:  284392\n",
      "iteration  21\n",
      "number of double elements: 1450\n",
      "elements to be deleted:  145\n",
      "number of QuaTrains remaining:  284247\n",
      "iteration  22\n",
      "number of double elements: 1362\n",
      "elements to be deleted:  137\n",
      "number of QuaTrains remaining:  284110\n",
      "iteration  23\n",
      "number of double elements: 1278\n",
      "elements to be deleted:  128\n",
      "number of QuaTrains remaining:  283982\n",
      "iteration  24\n",
      "number of double elements: 1208\n",
      "elements to be deleted:  121\n",
      "number of QuaTrains remaining:  283861\n",
      "iteration  25\n",
      "number of double elements: 1140\n",
      "elements to be deleted:  114\n",
      "number of QuaTrains remaining:  283747\n",
      "iteration  26\n",
      "number of double elements: 1070\n",
      "elements to be deleted:  107\n",
      "number of QuaTrains remaining:  283640\n",
      "iteration  27\n",
      "number of double elements: 1002\n",
      "elements to be deleted:  101\n",
      "number of QuaTrains remaining:  283539\n",
      "iteration  28\n",
      "number of double elements: 938\n",
      "elements to be deleted:  94\n",
      "number of QuaTrains remaining:  283445\n",
      "iteration  29\n",
      "number of double elements: 877\n",
      "elements to be deleted:  88\n",
      "number of QuaTrains remaining:  283357\n",
      "iteration  30\n",
      "number of double elements: 817\n",
      "elements to be deleted:  82\n",
      "number of QuaTrains remaining:  283275\n",
      "iteration  31\n",
      "number of double elements: 756\n",
      "elements to be deleted:  76\n",
      "number of QuaTrains remaining:  283199\n",
      "iteration  32\n",
      "number of double elements: 706\n",
      "elements to be deleted:  71\n",
      "number of QuaTrains remaining:  283128\n",
      "iteration  33\n",
      "number of double elements: 661\n",
      "elements to be deleted:  67\n",
      "number of QuaTrains remaining:  283061\n",
      "iteration  34\n",
      "number of double elements: 618\n",
      "elements to be deleted:  62\n",
      "number of QuaTrains remaining:  282999\n",
      "iteration  35\n",
      "number of double elements: 575\n",
      "elements to be deleted:  58\n",
      "number of QuaTrains remaining:  282941\n",
      "iteration  36\n",
      "number of double elements: 540\n",
      "elements to be deleted:  54\n",
      "number of QuaTrains remaining:  282887\n",
      "iteration  37\n",
      "number of double elements: 503\n",
      "elements to be deleted:  51\n",
      "number of QuaTrains remaining:  282836\n",
      "iteration  38\n",
      "number of double elements: 474\n",
      "elements to be deleted:  48\n",
      "number of QuaTrains remaining:  282788\n",
      "iteration  39\n",
      "number of double elements: 447\n",
      "elements to be deleted:  45\n",
      "number of QuaTrains remaining:  282743\n",
      "iteration  40\n",
      "number of double elements: 423\n",
      "elements to be deleted:  43\n",
      "number of QuaTrains remaining:  282700\n",
      "iteration  41\n",
      "number of double elements: 401\n",
      "elements to be deleted:  41\n",
      "number of QuaTrains remaining:  282659\n",
      "iteration  42\n",
      "number of double elements: 379\n",
      "elements to be deleted:  38\n",
      "number of QuaTrains remaining:  282621\n",
      "iteration  43\n",
      "number of double elements: 356\n",
      "elements to be deleted:  36\n",
      "number of QuaTrains remaining:  282585\n",
      "iteration  44\n",
      "number of double elements: 326\n",
      "elements to be deleted:  33\n",
      "number of QuaTrains remaining:  282552\n",
      "iteration  45\n",
      "number of double elements: 302\n",
      "elements to be deleted:  31\n",
      "number of QuaTrains remaining:  282521\n",
      "iteration  46\n",
      "number of double elements: 284\n",
      "elements to be deleted:  29\n",
      "number of QuaTrains remaining:  282492\n",
      "iteration  47\n",
      "number of double elements: 267\n",
      "elements to be deleted:  27\n",
      "number of QuaTrains remaining:  282465\n",
      "iteration  48\n",
      "number of double elements: 252\n",
      "elements to be deleted:  26\n",
      "number of QuaTrains remaining:  282439\n",
      "iteration  49\n",
      "number of double elements: 239\n",
      "elements to be deleted:  24\n",
      "number of QuaTrains remaining:  282415\n",
      "iteration  50\n",
      "number of double elements: 224\n",
      "elements to be deleted:  23\n",
      "number of QuaTrains remaining:  282392\n",
      "iteration  51\n",
      "number of double elements: 203\n",
      "elements to be deleted:  21\n",
      "number of QuaTrains remaining:  282371\n",
      "iteration  52\n",
      "number of double elements: 189\n",
      "elements to be deleted:  19\n",
      "number of QuaTrains remaining:  282352\n",
      "iteration  53\n",
      "number of double elements: 179\n",
      "elements to be deleted:  18\n",
      "number of QuaTrains remaining:  282334\n",
      "iteration  54\n",
      "number of double elements: 168\n",
      "elements to be deleted:  17\n",
      "number of QuaTrains remaining:  282317\n",
      "iteration  55\n",
      "number of double elements: 159\n",
      "elements to be deleted:  16\n",
      "number of QuaTrains remaining:  282301\n",
      "iteration  56\n",
      "number of double elements: 149\n",
      "elements to be deleted:  15\n",
      "number of QuaTrains remaining:  282286\n",
      "iteration  57\n",
      "number of double elements: 141\n",
      "elements to be deleted:  15\n",
      "number of QuaTrains remaining:  282271\n",
      "iteration  58\n",
      "number of double elements: 133\n",
      "elements to be deleted:  14\n",
      "number of QuaTrains remaining:  282257\n",
      "iteration  59\n",
      "number of double elements: 125\n",
      "elements to be deleted:  13\n",
      "number of QuaTrains remaining:  282244\n",
      "iteration  60\n",
      "number of double elements: 117\n",
      "elements to be deleted:  12\n",
      "number of QuaTrains remaining:  282232\n",
      "iteration  61\n",
      "number of double elements: 111\n",
      "elements to be deleted:  12\n",
      "number of QuaTrains remaining:  282220\n",
      "iteration  62\n",
      "number of double elements: 102\n",
      "elements to be deleted:  11\n",
      "number of QuaTrains remaining:  282209\n",
      "iteration  63\n",
      "number of double elements: 96\n",
      "elements to be deleted:  10\n",
      "number of QuaTrains remaining:  282199\n",
      "iteration  64\n",
      "number of double elements: 91\n",
      "elements to be deleted:  10\n",
      "number of QuaTrains remaining:  282189\n",
      "iteration  65\n",
      "number of double elements: 86\n",
      "elements to be deleted:  9\n",
      "number of QuaTrains remaining:  282180\n",
      "iteration  66\n",
      "number of double elements: 81\n",
      "elements to be deleted:  9\n",
      "number of QuaTrains remaining:  282171\n",
      "iteration  67\n",
      "number of double elements: 76\n",
      "elements to be deleted:  8\n",
      "number of QuaTrains remaining:  282163\n",
      "iteration  68\n",
      "number of double elements: 71\n",
      "elements to be deleted:  8\n",
      "number of QuaTrains remaining:  282155\n",
      "iteration  69\n",
      "number of double elements: 67\n",
      "elements to be deleted:  7\n",
      "number of QuaTrains remaining:  282148\n",
      "iteration  70\n",
      "number of double elements: 63\n",
      "elements to be deleted:  7\n",
      "number of QuaTrains remaining:  282141\n",
      "iteration  71\n",
      "number of double elements: 59\n",
      "elements to be deleted:  6\n",
      "number of QuaTrains remaining:  282135\n",
      "iteration  72\n",
      "number of double elements: 56\n",
      "elements to be deleted:  6\n",
      "number of QuaTrains remaining:  282129\n",
      "iteration  73\n"
     ]
    },
    {
     "name": "stdout",
     "output_type": "stream",
     "text": [
      "number of double elements: 53\n",
      "elements to be deleted:  6\n",
      "number of QuaTrains remaining:  282123\n",
      "iteration  74\n",
      "number of double elements: 50\n",
      "elements to be deleted:  5\n",
      "number of QuaTrains remaining:  282118\n",
      "iteration  75\n",
      "number of double elements: 47\n",
      "elements to be deleted:  5\n",
      "number of QuaTrains remaining:  282113\n",
      "iteration  76\n",
      "number of double elements: 44\n",
      "elements to be deleted:  5\n",
      "number of QuaTrains remaining:  282108\n",
      "iteration  77\n",
      "number of double elements: 41\n",
      "elements to be deleted:  5\n",
      "number of QuaTrains remaining:  282103\n",
      "iteration  78\n",
      "number of double elements: 38\n",
      "elements to be deleted:  4\n",
      "number of QuaTrains remaining:  282099\n",
      "iteration  79\n",
      "number of double elements: 36\n",
      "elements to be deleted:  4\n",
      "number of QuaTrains remaining:  282095\n",
      "iteration  80\n",
      "number of double elements: 34\n",
      "elements to be deleted:  4\n",
      "number of QuaTrains remaining:  282091\n",
      "iteration  81\n",
      "number of double elements: 32\n",
      "elements to be deleted:  4\n",
      "number of QuaTrains remaining:  282087\n",
      "iteration  82\n",
      "number of double elements: 29\n",
      "elements to be deleted:  3\n",
      "number of QuaTrains remaining:  282084\n",
      "iteration  83\n",
      "number of double elements: 27\n",
      "elements to be deleted:  3\n",
      "number of QuaTrains remaining:  282081\n",
      "iteration  84\n",
      "number of double elements: 25\n",
      "elements to be deleted:  3\n",
      "number of QuaTrains remaining:  282078\n",
      "iteration  85\n",
      "number of double elements: 23\n",
      "elements to be deleted:  3\n",
      "number of QuaTrains remaining:  282075\n",
      "iteration  86\n",
      "number of double elements: 21\n",
      "elements to be deleted:  3\n",
      "number of QuaTrains remaining:  282072\n",
      "iteration  87\n",
      "number of double elements: 19\n",
      "elements to be deleted:  2\n",
      "number of QuaTrains remaining:  282070\n",
      "iteration  88\n",
      "number of double elements: 18\n",
      "elements to be deleted:  2\n",
      "number of QuaTrains remaining:  282068\n",
      "iteration  89\n",
      "number of double elements: 17\n",
      "elements to be deleted:  2\n",
      "number of QuaTrains remaining:  282066\n",
      "iteration  90\n",
      "number of double elements: 16\n",
      "elements to be deleted:  2\n",
      "number of QuaTrains remaining:  282064\n",
      "iteration  91\n",
      "number of double elements: 15\n",
      "elements to be deleted:  2\n",
      "number of QuaTrains remaining:  282062\n",
      "iteration  92\n",
      "number of double elements: 14\n",
      "elements to be deleted:  2\n",
      "number of QuaTrains remaining:  282060\n",
      "iteration  93\n",
      "number of double elements: 12\n",
      "elements to be deleted:  2\n",
      "number of QuaTrains remaining:  282058\n",
      "iteration  94\n",
      "number of double elements: 10\n",
      "elements to be deleted:  1\n",
      "number of QuaTrains remaining:  282057\n",
      "iteration  95\n",
      "number of double elements: 9\n",
      "elements to be deleted:  1\n",
      "number of QuaTrains remaining:  282056\n",
      "iteration  96\n",
      "number of double elements: 8\n",
      "elements to be deleted:  1\n",
      "number of QuaTrains remaining:  282055\n",
      "iteration  97\n",
      "number of double elements: 7\n",
      "elements to be deleted:  1\n",
      "number of QuaTrains remaining:  282054\n",
      "iteration  98\n",
      "number of double elements: 6\n",
      "elements to be deleted:  1\n",
      "number of QuaTrains remaining:  282053\n",
      "iteration  99\n",
      "number of double elements: 5\n",
      "elements to be deleted:  1\n",
      "number of QuaTrains remaining:  282052\n",
      "iteration  100\n",
      "number of double elements: 4\n",
      "elements to be deleted:  1\n",
      "number of QuaTrains remaining:  282051\n",
      "iteration  101\n",
      "number of double elements: 3\n",
      "elements to be deleted:  1\n",
      "number of QuaTrains remaining:  282050\n",
      "iteration  102\n",
      "number of double elements: 2\n",
      "elements to be deleted:  1\n",
      "number of QuaTrains remaining:  282049\n",
      "iteration  103\n",
      "number of double elements: 1\n",
      "elements to be deleted:  1\n",
      "number of QuaTrains remaining:  282048\n"
     ]
    }
   ],
   "source": [
    "# 1/p is the fraction of Quatrains containing duplicates that are eliminated at each step\n",
    "quads_unique_p10, vocab_new, quad_index = get_unique_quatrains(quads, vocab, df_fl.index, p=20)"
   ]
  },
  {
   "cell_type": "code",
   "execution_count": 59,
   "id": "940a79cb-706e-4264-b80f-5e69f6af0c20",
   "metadata": {},
   "outputs": [],
   "source": [
    "# df containing non-overlapping Quatrains\n",
    "unique_rows_de = df_fl.loc[quad_index, :]"
   ]
  },
  {
   "cell_type": "code",
   "execution_count": 60,
   "id": "a5febafc-520a-44c1-a7c8-9671965598ab",
   "metadata": {},
   "outputs": [
    {
     "data": {
      "text/plain": [
       "1128195"
      ]
     },
     "execution_count": 60,
     "metadata": {},
     "output_type": "execute_result"
    }
   ],
   "source": [
    "len(vocab_new)"
   ]
  },
  {
   "cell_type": "code",
   "execution_count": 61,
   "id": "72195b6b-6201-440c-9ca9-2dd4366321c6",
   "metadata": {
    "scrolled": true
   },
   "outputs": [
    {
     "data": {
      "text/plain": [
       "282048"
      ]
     },
     "execution_count": 61,
     "metadata": {},
     "output_type": "execute_result"
    }
   ],
   "source": [
    "len(unique_rows_de)"
   ]
  },
  {
   "cell_type": "code",
   "execution_count": null,
   "id": "772e7902",
   "metadata": {},
   "outputs": [],
   "source": [
    "vocab_original = np.unique(np.concatenate(list(df_de[\"text\"])))\n",
    "len(vocab_original)"
   ]
  },
  {
   "cell_type": "code",
   "execution_count": 62,
   "id": "ce3b86a8-b169-4612-9ad5-db4e17034f4f",
   "metadata": {},
   "outputs": [],
   "source": [
    "with open('dataset/QuaTrain-de-unique-p20-fl.pkl', 'wb') as f:\n",
    "    pickle.dump(unique_rows_de, f)"
   ]
  },
  {
   "cell_type": "markdown",
   "id": "2f71d1fd-50a0-436c-b08d-b02a5145e09b",
   "metadata": {},
   "source": [
    "### English data"
   ]
  },
  {
   "cell_type": "code",
   "execution_count": 33,
   "id": "17945b6f-7500-4fcc-8c64-88e0a75707e2",
   "metadata": {},
   "outputs": [
    {
     "name": "stdout",
     "output_type": "stream",
     "text": [
      "iteration  0\n",
      "number of double elements: 50664\n",
      "elements to be deleted:  4349\n",
      "number of QuaTrains remaining:  232404\n",
      "iteration  1\n",
      "number of double elements: 46005\n",
      "elements to be deleted:  3877\n",
      "number of QuaTrains remaining:  228527\n",
      "iteration  2\n",
      "number of double elements: 39391\n",
      "elements to be deleted:  3399\n",
      "number of QuaTrains remaining:  225128\n",
      "iteration  3\n",
      "number of double elements: 30549\n",
      "elements to be deleted:  2928\n",
      "number of QuaTrains remaining:  222200\n",
      "iteration  4\n",
      "number of double elements: 24332\n",
      "elements to be deleted:  2597\n",
      "number of QuaTrains remaining:  219603\n",
      "iteration  5\n",
      "number of double elements: 19620\n",
      "elements to be deleted:  2261\n",
      "number of QuaTrains remaining:  217342\n",
      "iteration  6\n",
      "number of double elements: 15220\n",
      "elements to be deleted:  1939\n",
      "number of QuaTrains remaining:  215403\n",
      "iteration  7\n",
      "number of double elements: 11884\n",
      "elements to be deleted:  1689\n",
      "number of QuaTrains remaining:  213714\n",
      "iteration  8\n",
      "number of double elements: 9762\n",
      "elements to be deleted:  1465\n",
      "number of QuaTrains remaining:  212249\n",
      "iteration  9\n",
      "number of double elements: 8366\n",
      "elements to be deleted:  1289\n",
      "number of QuaTrains remaining:  210960\n",
      "iteration  10\n",
      "number of double elements: 6756\n",
      "elements to be deleted:  1115\n",
      "number of QuaTrains remaining:  209845\n",
      "iteration  11\n",
      "number of double elements: 5630\n",
      "elements to be deleted:  984\n",
      "number of QuaTrains remaining:  208861\n",
      "iteration  12\n",
      "number of double elements: 4604\n",
      "elements to be deleted:  873\n",
      "number of QuaTrains remaining:  207988\n",
      "iteration  13\n",
      "number of double elements: 3880\n",
      "elements to be deleted:  776\n",
      "number of QuaTrains remaining:  207212\n",
      "iteration  14\n",
      "number of double elements: 3393\n",
      "elements to be deleted:  679\n",
      "number of QuaTrains remaining:  206533\n",
      "iteration  15\n",
      "number of double elements: 2957\n",
      "elements to be deleted:  592\n",
      "number of QuaTrains remaining:  205941\n",
      "iteration  16\n",
      "number of double elements: 2581\n",
      "elements to be deleted:  517\n",
      "number of QuaTrains remaining:  205424\n",
      "iteration  17\n",
      "number of double elements: 2289\n",
      "elements to be deleted:  458\n",
      "number of QuaTrains remaining:  204966\n",
      "iteration  18\n",
      "number of double elements: 1973\n",
      "elements to be deleted:  395\n",
      "number of QuaTrains remaining:  204571\n",
      "iteration  19\n",
      "number of double elements: 1714\n",
      "elements to be deleted:  343\n",
      "number of QuaTrains remaining:  204228\n",
      "iteration  20\n",
      "number of double elements: 1499\n",
      "elements to be deleted:  300\n",
      "number of QuaTrains remaining:  203928\n",
      "iteration  21\n",
      "number of double elements: 1312\n",
      "elements to be deleted:  263\n",
      "number of QuaTrains remaining:  203665\n",
      "iteration  22\n",
      "number of double elements: 1146\n",
      "elements to be deleted:  230\n",
      "number of QuaTrains remaining:  203435\n",
      "iteration  23\n",
      "number of double elements: 1029\n",
      "elements to be deleted:  206\n",
      "number of QuaTrains remaining:  203229\n",
      "iteration  24\n",
      "number of double elements: 915\n",
      "elements to be deleted:  183\n",
      "number of QuaTrains remaining:  203046\n",
      "iteration  25\n",
      "number of double elements: 789\n",
      "elements to be deleted:  158\n",
      "number of QuaTrains remaining:  202888\n",
      "iteration  26\n",
      "number of double elements: 691\n",
      "elements to be deleted:  139\n",
      "number of QuaTrains remaining:  202749\n",
      "iteration  27\n",
      "number of double elements: 609\n",
      "elements to be deleted:  122\n",
      "number of QuaTrains remaining:  202627\n",
      "iteration  28\n",
      "number of double elements: 509\n",
      "elements to be deleted:  102\n",
      "number of QuaTrains remaining:  202525\n",
      "iteration  29\n",
      "number of double elements: 427\n",
      "elements to be deleted:  86\n",
      "number of QuaTrains remaining:  202439\n",
      "iteration  30\n",
      "number of double elements: 382\n",
      "elements to be deleted:  77\n",
      "number of QuaTrains remaining:  202362\n",
      "iteration  31\n",
      "number of double elements: 334\n",
      "elements to be deleted:  67\n",
      "number of QuaTrains remaining:  202295\n",
      "iteration  32\n",
      "number of double elements: 300\n",
      "elements to be deleted:  60\n",
      "number of QuaTrains remaining:  202235\n",
      "iteration  33\n",
      "number of double elements: 267\n",
      "elements to be deleted:  54\n",
      "number of QuaTrains remaining:  202181\n",
      "iteration  34\n",
      "number of double elements: 233\n",
      "elements to be deleted:  47\n",
      "number of QuaTrains remaining:  202134\n",
      "iteration  35\n",
      "number of double elements: 208\n",
      "elements to be deleted:  42\n",
      "number of QuaTrains remaining:  202092\n",
      "iteration  36\n",
      "number of double elements: 187\n",
      "elements to be deleted:  38\n",
      "number of QuaTrains remaining:  202054\n",
      "iteration  37\n",
      "number of double elements: 168\n",
      "elements to be deleted:  34\n",
      "number of QuaTrains remaining:  202020\n",
      "iteration  38\n",
      "number of double elements: 143\n",
      "elements to be deleted:  29\n",
      "number of QuaTrains remaining:  201991\n",
      "iteration  39\n",
      "number of double elements: 114\n",
      "elements to be deleted:  23\n",
      "number of QuaTrains remaining:  201968\n",
      "iteration  40\n",
      "number of double elements: 100\n",
      "elements to be deleted:  20\n",
      "number of QuaTrains remaining:  201948\n",
      "iteration  41\n",
      "number of double elements: 82\n",
      "elements to be deleted:  17\n",
      "number of QuaTrains remaining:  201931\n",
      "iteration  42\n",
      "number of double elements: 69\n",
      "elements to be deleted:  14\n",
      "number of QuaTrains remaining:  201917\n",
      "iteration  43\n",
      "number of double elements: 57\n",
      "elements to be deleted:  12\n",
      "number of QuaTrains remaining:  201905\n",
      "iteration  44\n",
      "number of double elements: 45\n",
      "elements to be deleted:  9\n",
      "number of QuaTrains remaining:  201896\n",
      "iteration  45\n",
      "number of double elements: 36\n",
      "elements to be deleted:  8\n",
      "number of QuaTrains remaining:  201888\n",
      "iteration  46\n",
      "number of double elements: 28\n",
      "elements to be deleted:  6\n",
      "number of QuaTrains remaining:  201882\n",
      "iteration  47\n",
      "number of double elements: 22\n",
      "elements to be deleted:  5\n",
      "number of QuaTrains remaining:  201877\n",
      "iteration  48\n",
      "number of double elements: 17\n",
      "elements to be deleted:  4\n",
      "number of QuaTrains remaining:  201873\n",
      "iteration  49\n",
      "number of double elements: 13\n",
      "elements to be deleted:  3\n",
      "number of QuaTrains remaining:  201870\n",
      "iteration  50\n",
      "number of double elements: 11\n",
      "elements to be deleted:  3\n",
      "number of QuaTrains remaining:  201867\n",
      "iteration  51\n",
      "number of double elements: 9\n",
      "elements to be deleted:  2\n",
      "number of QuaTrains remaining:  201865\n",
      "iteration  52\n",
      "number of double elements: 7\n",
      "elements to be deleted:  2\n",
      "number of QuaTrains remaining:  201863\n",
      "iteration  53\n",
      "number of double elements: 6\n",
      "elements to be deleted:  2\n",
      "number of QuaTrains remaining:  201861\n",
      "iteration  54\n",
      "number of double elements: 5\n",
      "elements to be deleted:  1\n",
      "number of QuaTrains remaining:  201860\n",
      "iteration  55\n",
      "number of double elements: 4\n",
      "elements to be deleted:  1\n",
      "number of QuaTrains remaining:  201859\n",
      "iteration  56\n",
      "number of double elements: 3\n",
      "elements to be deleted:  1\n",
      "number of QuaTrains remaining:  201858\n",
      "iteration  57\n",
      "number of double elements: 2\n",
      "elements to be deleted:  1\n",
      "number of QuaTrains remaining:  201857\n",
      "iteration  58\n",
      "number of double elements: 1\n",
      "elements to be deleted:  1\n",
      "number of QuaTrains remaining:  201856\n"
     ]
    }
   ],
   "source": [
    "vocab_en, inv_en, counts_en = np.unique(np.concatenate(list(df_en_unique[\"text\"])), return_inverse=True, return_counts = True)\n",
    "quads_en = np.resize(inv_en, (int(inv_en.size/4), 4))\n",
    "quads_unique_en_p10, vocab_new_en, quad_index_en = get_unique_quatrains(quads_en, vocab_en, df_en_unique.index, p=10)\n",
    "unique_rows_en = df_en_unique.loc[quad_index_en, :]\n",
    "unique_text_en = vocab_new_en[quads_unique_en_p10]\n",
    "#unique_text_en"
   ]
  },
  {
   "cell_type": "code",
   "execution_count": 35,
   "id": "537a6750-eba8-4a77-a204-c027b7d4a048",
   "metadata": {},
   "outputs": [
    {
     "data": {
      "text/plain": [
       "201856"
      ]
     },
     "execution_count": 35,
     "metadata": {},
     "output_type": "execute_result"
    }
   ],
   "source": [
    "len(unique_rows_en)"
   ]
  },
  {
   "cell_type": "code",
   "execution_count": 38,
   "id": "401708bb-2c56-4ef8-81c6-e70a16515747",
   "metadata": {},
   "outputs": [],
   "source": [
    "with open('dataset/QuaTrain-en-unique-p10.pkl', 'wb') as f:\n",
    "    pickle.dump(unique_rows_en, f)"
   ]
  }
 ],
 "metadata": {
  "kernelspec": {
   "display_name": "Python 3 (ipykernel)",
   "language": "python",
   "name": "python3"
  },
  "language_info": {
   "codemirror_mode": {
    "name": "ipython",
    "version": 3
   },
   "file_extension": ".py",
   "mimetype": "text/x-python",
   "name": "python",
   "nbconvert_exporter": "python",
   "pygments_lexer": "ipython3",
   "version": "3.11.5"
  }
 },
 "nbformat": 4,
 "nbformat_minor": 5
}
