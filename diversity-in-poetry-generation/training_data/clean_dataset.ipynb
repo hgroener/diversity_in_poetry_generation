{
 "cells": [
  {
   "cell_type": "code",
   "execution_count": 9,
   "id": "9ef9a94e-05d2-49eb-8fed-ee0540e97e34",
   "metadata": {},
   "outputs": [],
   "source": [
    "import pandas as pd"
   ]
  },
  {
   "cell_type": "code",
   "execution_count": 10,
   "id": "c50d97b6-6fdf-4c81-a3ca-6f53bc0fae84",
   "metadata": {},
   "outputs": [],
   "source": [
    "df_de = pd.read_json('dataset/QuaTrain-de.json', lines=True)"
   ]
  },
  {
   "cell_type": "code",
   "execution_count": 18,
   "id": "7a7c33f2-4f3c-4704-a013-152c282b3664",
   "metadata": {},
   "outputs": [
    {
     "data": {
      "text/html": [
       "<div>\n",
       "<style scoped>\n",
       "    .dataframe tbody tr th:only-of-type {\n",
       "        vertical-align: middle;\n",
       "    }\n",
       "\n",
       "    .dataframe tbody tr th {\n",
       "        vertical-align: top;\n",
       "    }\n",
       "\n",
       "    .dataframe thead th {\n",
       "        text-align: right;\n",
       "    }\n",
       "</style>\n",
       "<table border=\"1\" class=\"dataframe\">\n",
       "  <thead>\n",
       "    <tr style=\"text-align: right;\">\n",
       "      <th></th>\n",
       "      <th>text</th>\n",
       "      <th>language</th>\n",
       "      <th>rhyme</th>\n",
       "      <th>meter</th>\n",
       "      <th>alliteration</th>\n",
       "    </tr>\n",
       "  </thead>\n",
       "  <tbody>\n",
       "    <tr>\n",
       "      <th>0</th>\n",
       "      <td>[Da jener Elbe-Schwan der Gottheit Ruhm, Da Br...</td>\n",
       "      <td>de</td>\n",
       "      <td>ABCD</td>\n",
       "      <td>iambus</td>\n",
       "      <td>0.040973</td>\n",
       "    </tr>\n",
       "    <tr>\n",
       "      <th>1</th>\n",
       "      <td>[Da Brokkes Saitenspiel, so oft das Herze, Das...</td>\n",
       "      <td>de</td>\n",
       "      <td>ABCD</td>\n",
       "      <td>iambus</td>\n",
       "      <td>0.054848</td>\n",
       "    </tr>\n",
       "    <tr>\n",
       "      <th>2</th>\n",
       "      <td>[gen, der belebt Feld, Berg und Thal;, Der erw...</td>\n",
       "      <td>de</td>\n",
       "      <td>ABCD</td>\n",
       "      <td>iambus</td>\n",
       "      <td>0.023747</td>\n",
       "    </tr>\n",
       "    <tr>\n",
       "      <th>3</th>\n",
       "      <td>[Ueber die erhabnen Berge, und erwekt das Feld...</td>\n",
       "      <td>de</td>\n",
       "      <td>ABCD</td>\n",
       "      <td>alexandrine</td>\n",
       "      <td>0.044927</td>\n",
       "    </tr>\n",
       "    <tr>\n",
       "      <th>4</th>\n",
       "      <td>[Als mit holden Dünsten füllet; da was aus den...</td>\n",
       "      <td>de</td>\n",
       "      <td>ABCD</td>\n",
       "      <td>other</td>\n",
       "      <td>0.084108</td>\n",
       "    </tr>\n",
       "  </tbody>\n",
       "</table>\n",
       "</div>"
      ],
      "text/plain": [
       "                                                text language rhyme  \\\n",
       "0  [Da jener Elbe-Schwan der Gottheit Ruhm, Da Br...       de  ABCD   \n",
       "1  [Da Brokkes Saitenspiel, so oft das Herze, Das...       de  ABCD   \n",
       "2  [gen, der belebt Feld, Berg und Thal;, Der erw...       de  ABCD   \n",
       "3  [Ueber die erhabnen Berge, und erwekt das Feld...       de  ABCD   \n",
       "4  [Als mit holden Dünsten füllet; da was aus den...       de  ABCD   \n",
       "\n",
       "         meter  alliteration  \n",
       "0       iambus      0.040973  \n",
       "1       iambus      0.054848  \n",
       "2       iambus      0.023747  \n",
       "3  alexandrine      0.044927  \n",
       "4        other      0.084108  "
      ]
     },
     "execution_count": 18,
     "metadata": {},
     "output_type": "execute_result"
    }
   ],
   "source": [
    "df_de.head()"
   ]
  },
  {
   "cell_type": "code",
   "execution_count": 32,
   "id": "82dbf78c-6151-49fe-ab1e-2cf5f348b981",
   "metadata": {},
   "outputs": [
    {
     "name": "stdout",
     "output_type": "stream",
     "text": [
      "['Da jener Elbe-Schwan der Gottheit Ruhm', 'Da Brokkes Saitenspiel, so oft das Herze', 'Das jederman gefällt, in heiligs Feuer', 'Wie kan beim hellen Thon, ein heisch und'] \n",
      "\n",
      "['Da Brokkes Saitenspiel, so oft das Herze', 'Das jederman gefällt, in heiligs Feuer', 'Wie kan beim hellen Thon, ein heisch und', 'Bei einem Schwang-Gesang ein schnatternd'] \n",
      "\n",
      "['gen, der belebt Feld, Berg und Thal;', 'Der erwärmet die Natur, durch', 'Und erhizt bei dem was lebt, ein', 'Eure Anmuth nährt die Triebe,'] \n",
      "\n",
      "['Ueber die erhabnen Berge, und erwekt das Feld', 'Welch ein Anblik voller Lust! rühret die erwekten', 'Man sieht in den feuchten Thau, lauter Seegens', 'Auf! entschlafne Erdenbürger! auf ermuntert eur'] \n",
      "\n",
      "['Als mit holden Dünsten füllet; da was aus den', 'Wenn die sanften Westen säuseln, wie ein lieblich', 'Und uns den Geruch erquikt. O! ein angenehmes', 'Das die Lebens Geister stärkt, kreucht unsichtbar'] \n",
      "\n",
      "['Wenn die sanften Westen säuseln, wie ein lieblich', 'Und uns den Geruch erquikt. O! ein angenehmes', 'Das die Lebens Geister stärkt, kreucht unsichtbar', 'Zum Gehirn den Siz der Seelen, daß dies geistig'] \n",
      "\n",
      "['Und uns den Geruch erquikt. O! ein angenehmes', 'Das die Lebens Geister stärkt, kreucht unsichtbar', 'Zum Gehirn den Siz der Seelen, daß dies geistig', 'Und durch die erregten Nerven uns zur Munterkeit'] \n",
      "\n",
      "['Das die Lebens Geister stärkt, kreucht unsichtbar', 'Zum Gehirn den Siz der Seelen, daß dies geistig', 'Und durch die erregten Nerven uns zur Munterkeit', 'Alles lacht in der Natur, wenn die Sonne höher'] \n",
      "\n",
      "['Zum Gehirn den Siz der Seelen, daß dies geistig', 'Und durch die erregten Nerven uns zur Munterkeit', 'Alles lacht in der Natur, wenn die Sonne höher', 'Und sich in vollkomnen Glanz an den Firmamente'] \n",
      "\n",
      "['Hie brummt eine Käfer Menge da saußt bei der', 'Mit der süssen Last beschwert; eine Menge kleiner', 'Dieses tößende Geräusch kan uns zum Vergnügen', 'Wenn wir bei den Sommerszeiten, die belebte'] \n",
      "\n",
      "['Mit der süssen Last beschwert; eine Menge kleiner', 'Dieses tößende Geräusch kan uns zum Vergnügen', 'Wenn wir bei den Sommerszeiten, die belebte', 'Auf ihr freudiges Bewegen ein betrachtend Auge'] \n",
      "\n",
      "['Allda lagern sie sich stille in den sanften Schatten', 'Rupfen die noch frischen Keimen, bis sie wie von', 'Ein sanft rieselnd Murmeln hörn; alsdenn werden', 'Das da im beschilften Bach vor sie Labsalsströme'] \n",
      "\n",
      "['Rupfen die noch frischen Keimen, bis sie wie von', 'Ein sanft rieselnd Murmeln hörn; alsdenn werden', 'Das da im beschilften Bach vor sie Labsalsströme', 'Jhre lechzende Begierde schlurft das Wasser, wird'] \n",
      "\n",
      "['Bis etwan ein Mükkenstich oder Heer von blinden', 'Sie in ihrer Ruhe stöhret, da sie denn mit ihren', 'Die sonst stillen Weiden schrekken und die schwüle', 'Schwärmmt das stachlicht Mükken-Heer auf sie'] \n",
      "\n",
      "['Sie in ihrer Ruhe stöhret, da sie denn mit ihren', 'Die sonst stillen Weiden schrekken und die schwüle', 'Schwärmmt das stachlicht Mükken-Heer auf sie', 'So bewegt sich Kopf und Schwanz diese Feinde'] \n",
      "\n"
     ]
    }
   ],
   "source": [
    "for l in list(df_de[\"text\"])[:15]:\n",
    "    print (l, \"\\n\")"
   ]
  },
  {
   "cell_type": "code",
   "execution_count": 37,
   "id": "e120cf20-7981-4da2-9e03-36e3cff8414f",
   "metadata": {},
   "outputs": [],
   "source": [
    "last_t = \"\"\n",
    "overlapping = []\n",
    "unique_rows = []\n",
    "for i, row in df_de.iterrows():\n",
    "    if list(row[\"text\"])[0] == last_t and not len(overlapping)==4:\n",
    "        overlapping.append(row)\n",
    "    elif len(overlapping) == 0:\n",
    "        overlapping = [row]\n",
    "    else:\n",
    "        unique_rows.append(overlapping[0])\n",
    "        overlapping = [row]\n",
    "    last_t = list(row[\"text\"])[1]\n",
    "unique_rows.append(overlapping[0]) \n",
    "#print(unique_rows)   "
   ]
  },
  {
   "cell_type": "code",
   "execution_count": 38,
   "id": "37a224ba-1ac9-44db-9fab-bfc19a2d1c10",
   "metadata": {},
   "outputs": [],
   "source": [
    "df_unique = pd.DataFrame(unique_rows)"
   ]
  },
  {
   "cell_type": "code",
   "execution_count": 39,
   "id": "32ef954e-02b5-48b9-8ad9-00edf16fb224",
   "metadata": {},
   "outputs": [
    {
     "data": {
      "text/html": [
       "<div>\n",
       "<style scoped>\n",
       "    .dataframe tbody tr th:only-of-type {\n",
       "        vertical-align: middle;\n",
       "    }\n",
       "\n",
       "    .dataframe tbody tr th {\n",
       "        vertical-align: top;\n",
       "    }\n",
       "\n",
       "    .dataframe thead th {\n",
       "        text-align: right;\n",
       "    }\n",
       "</style>\n",
       "<table border=\"1\" class=\"dataframe\">\n",
       "  <thead>\n",
       "    <tr style=\"text-align: right;\">\n",
       "      <th></th>\n",
       "      <th>text</th>\n",
       "      <th>language</th>\n",
       "      <th>rhyme</th>\n",
       "      <th>meter</th>\n",
       "      <th>alliteration</th>\n",
       "    </tr>\n",
       "  </thead>\n",
       "  <tbody>\n",
       "    <tr>\n",
       "      <th>0</th>\n",
       "      <td>[Da jener Elbe-Schwan der Gottheit Ruhm, Da Br...</td>\n",
       "      <td>de</td>\n",
       "      <td>ABCD</td>\n",
       "      <td>iambus</td>\n",
       "      <td>0.040973</td>\n",
       "    </tr>\n",
       "    <tr>\n",
       "      <th>2</th>\n",
       "      <td>[gen, der belebt Feld, Berg und Thal;, Der erw...</td>\n",
       "      <td>de</td>\n",
       "      <td>ABCD</td>\n",
       "      <td>iambus</td>\n",
       "      <td>0.023747</td>\n",
       "    </tr>\n",
       "    <tr>\n",
       "      <th>3</th>\n",
       "      <td>[Ueber die erhabnen Berge, und erwekt das Feld...</td>\n",
       "      <td>de</td>\n",
       "      <td>ABCD</td>\n",
       "      <td>alexandrine</td>\n",
       "      <td>0.044927</td>\n",
       "    </tr>\n",
       "    <tr>\n",
       "      <th>4</th>\n",
       "      <td>[Als mit holden Dünsten füllet; da was aus den...</td>\n",
       "      <td>de</td>\n",
       "      <td>ABCD</td>\n",
       "      <td>other</td>\n",
       "      <td>0.084108</td>\n",
       "    </tr>\n",
       "    <tr>\n",
       "      <th>8</th>\n",
       "      <td>[Zum Gehirn den Siz der Seelen, daß dies geist...</td>\n",
       "      <td>de</td>\n",
       "      <td>AABC</td>\n",
       "      <td>alexandrine</td>\n",
       "      <td>0.060809</td>\n",
       "    </tr>\n",
       "  </tbody>\n",
       "</table>\n",
       "</div>"
      ],
      "text/plain": [
       "                                                text language rhyme  \\\n",
       "0  [Da jener Elbe-Schwan der Gottheit Ruhm, Da Br...       de  ABCD   \n",
       "2  [gen, der belebt Feld, Berg und Thal;, Der erw...       de  ABCD   \n",
       "3  [Ueber die erhabnen Berge, und erwekt das Feld...       de  ABCD   \n",
       "4  [Als mit holden Dünsten füllet; da was aus den...       de  ABCD   \n",
       "8  [Zum Gehirn den Siz der Seelen, daß dies geist...       de  AABC   \n",
       "\n",
       "         meter  alliteration  \n",
       "0       iambus      0.040973  \n",
       "2       iambus      0.023747  \n",
       "3  alexandrine      0.044927  \n",
       "4        other      0.084108  \n",
       "8  alexandrine      0.060809  "
      ]
     },
     "execution_count": 39,
     "metadata": {},
     "output_type": "execute_result"
    }
   ],
   "source": [
    "df_unique.head()"
   ]
  },
  {
   "cell_type": "code",
   "execution_count": 40,
   "id": "548d96da-e354-4624-80dc-6af827bfee61",
   "metadata": {},
   "outputs": [
    {
     "data": {
      "text/plain": [
       "587556"
      ]
     },
     "execution_count": 40,
     "metadata": {},
     "output_type": "execute_result"
    }
   ],
   "source": [
    "len(df_unique)"
   ]
  },
  {
   "cell_type": "code",
   "execution_count": 41,
   "id": "4785f06b-8d98-4d7b-a301-61748a5d4a78",
   "metadata": {},
   "outputs": [
    {
     "data": {
      "text/plain": [
       "1483685"
      ]
     },
     "execution_count": 41,
     "metadata": {},
     "output_type": "execute_result"
    }
   ],
   "source": [
    "len(df_de)"
   ]
  },
  {
   "cell_type": "code",
   "execution_count": null,
   "id": "a29338a0-16b9-4aef-9fd4-69cfa8acf2d6",
   "metadata": {},
   "outputs": [],
   "source": []
  }
 ],
 "metadata": {
  "kernelspec": {
   "display_name": "Python 3 (ipykernel)",
   "language": "python",
   "name": "python3"
  },
  "language_info": {
   "codemirror_mode": {
    "name": "ipython",
    "version": 3
   },
   "file_extension": ".py",
   "mimetype": "text/x-python",
   "name": "python",
   "nbconvert_exporter": "python",
   "pygments_lexer": "ipython3",
   "version": "3.8.18"
  }
 },
 "nbformat": 4,
 "nbformat_minor": 5
}
